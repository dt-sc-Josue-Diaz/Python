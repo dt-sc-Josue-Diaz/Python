{
 "cells": [
  {
   "cell_type": "markdown",
   "id": "41545510-9dc8-47c8-9827-9a5b8d604d40",
   "metadata": {},
   "source": [
    "# Listas y tuplas\n",
    "- Introducción a las listas. Creación y manejo de listas, en terminos matemáticos una lista es como una matriz. Pero con la capacidad de manejar datos homogeneos y heterogeneos. \n",
    "-  "
   ]
  },
  {
   "cell_type": "markdown",
   "id": "1c68d318-fd7e-47af-9217-f32637bf96f6",
   "metadata": {},
   "source": [
    "## Listas\n",
    "Una lista es un arreglo entre corchetes, cuyos datos están determinados por su tipo en Python y se separan por comas.    "
   ]
  },
  {
   "cell_type": "code",
   "execution_count": 1,
   "id": "731c33fe-9a9f-4a54-8efc-85634b32513f",
   "metadata": {},
   "outputs": [],
   "source": [
    "# Diversos tipos de datos\n",
    "A = ['Patricia','México','F',1989]"
   ]
  },
  {
   "cell_type": "code",
   "execution_count": 3,
   "id": "bc1fbafe-7331-46da-b4e7-67b67f3f03f5",
   "metadata": {},
   "outputs": [
    {
     "data": {
      "text/plain": [
       "list"
      ]
     },
     "execution_count": 3,
     "metadata": {},
     "output_type": "execute_result"
    }
   ],
   "source": [
    "type(A)"
   ]
  },
  {
   "cell_type": "code",
   "execution_count": 6,
   "id": "8317127c-4cf6-4e85-ba22-1cd9a02420b5",
   "metadata": {},
   "outputs": [],
   "source": [
    "a = [9,10,8.5,8,8,7.5,10]"
   ]
  },
  {
   "cell_type": "code",
   "execution_count": 7,
   "id": "f4fa4c03-14d0-418b-aa88-28a6e340b362",
   "metadata": {},
   "outputs": [
    {
     "data": {
      "text/plain": [
       "list"
      ]
     },
     "execution_count": 7,
     "metadata": {},
     "output_type": "execute_result"
    }
   ],
   "source": [
    "type(a)"
   ]
  },
  {
   "cell_type": "markdown",
   "id": "ac309517-18fe-46d2-a510-455dac7606df",
   "metadata": {},
   "source": [
    "Al guardar datos en una lista y en una variable, podemos acceder a ellos mendiante los corchetes `[]`. "
   ]
  },
  {
   "cell_type": "code",
   "execution_count": 8,
   "id": "0cf79ec2-2389-4fd4-b9df-7a70878ed933",
   "metadata": {},
   "outputs": [
    {
     "data": {
      "text/plain": [
       "9"
      ]
     },
     "execution_count": 8,
     "metadata": {},
     "output_type": "execute_result"
    }
   ],
   "source": [
    "a[0]"
   ]
  },
  {
   "cell_type": "code",
   "execution_count": 9,
   "id": "fe74975b-3bcd-4b90-8d05-b6154a4f330a",
   "metadata": {},
   "outputs": [
    {
     "data": {
      "text/plain": [
       "1989"
      ]
     },
     "execution_count": 9,
     "metadata": {},
     "output_type": "execute_result"
    }
   ],
   "source": [
    "A[3]"
   ]
  },
  {
   "cell_type": "markdown",
   "id": "d473608d-61f9-4fea-9761-d3f1adc41268",
   "metadata": {},
   "source": [
    "Es importante recalcar que Python es un lenguaje de indice cero. Podemos extraer información sobre una lista"
   ]
  },
  {
   "cell_type": "code",
   "execution_count": 10,
   "id": "f84a66e7-0fd5-4258-959c-6d3a7ac807cf",
   "metadata": {},
   "outputs": [
    {
     "data": {
      "text/plain": [
       "7"
      ]
     },
     "execution_count": 10,
     "metadata": {},
     "output_type": "execute_result"
    }
   ],
   "source": [
    "len(a)"
   ]
  },
  {
   "cell_type": "code",
   "execution_count": 11,
   "id": "ee65fe0a-33f2-48a5-87ac-a9433fabb600",
   "metadata": {},
   "outputs": [
    {
     "data": {
      "text/plain": [
       "4"
      ]
     },
     "execution_count": 11,
     "metadata": {},
     "output_type": "execute_result"
    }
   ],
   "source": [
    "len(A)"
   ]
  },
  {
   "cell_type": "markdown",
   "id": "040efbe8-07bf-4e7f-8adc-065535df687a",
   "metadata": {},
   "source": [
    "Algo interesante que puede usarse es el recorrido contrario sobre los datos de una lista, la busqueda usual se hace de izquierda a derecha empezando por cero. Con indices negativos comenzamos de derecha a izquierda empezando en menos uno. "
   ]
  },
  {
   "cell_type": "code",
   "execution_count": 12,
   "id": "73884c9e-ab43-4551-b5ed-975c962d3043",
   "metadata": {},
   "outputs": [
    {
     "data": {
      "text/plain": [
       "8.5"
      ]
     },
     "execution_count": 12,
     "metadata": {},
     "output_type": "execute_result"
    }
   ],
   "source": [
    "a[-5]"
   ]
  },
  {
   "cell_type": "code",
   "execution_count": 13,
   "id": "32bd43af-883c-44ba-8cd1-8486c9e1e2c9",
   "metadata": {},
   "outputs": [
    {
     "data": {
      "text/plain": [
       "8.5"
      ]
     },
     "execution_count": 13,
     "metadata": {},
     "output_type": "execute_result"
    }
   ],
   "source": [
    "a[2]"
   ]
  },
  {
   "cell_type": "markdown",
   "id": "85ef16bc-8f4d-4fda-900e-dbdf522afa08",
   "metadata": {},
   "source": [
    "Se pueden definir los valores de una lista por medio de sus entradas. "
   ]
  },
  {
   "cell_type": "code",
   "execution_count": 15,
   "id": "355df272-f4ca-4758-a0bb-e8eefe637a23",
   "metadata": {},
   "outputs": [],
   "source": [
    "a[5]=0"
   ]
  },
  {
   "cell_type": "code",
   "execution_count": 17,
   "id": "6c269262-68a7-45b1-9cee-cb05143d5864",
   "metadata": {},
   "outputs": [
    {
     "data": {
      "text/plain": [
       "[9, 10, 8.5, 8, 8, 0, 10]"
      ]
     },
     "execution_count": 17,
     "metadata": {},
     "output_type": "execute_result"
    }
   ],
   "source": [
    "a"
   ]
  },
  {
   "cell_type": "code",
   "execution_count": null,
   "id": "beac5810-3ad5-44f4-8880-b7ef376b5b8e",
   "metadata": {},
   "outputs": [],
   "source": []
  },
  {
   "cell_type": "code",
   "execution_count": null,
   "id": "70711138-abe0-488d-86c2-caaced31fb13",
   "metadata": {},
   "outputs": [],
   "source": []
  }
 ],
 "metadata": {
  "kernelspec": {
   "display_name": "Python 3 (ipykernel)",
   "language": "python",
   "name": "python3"
  },
  "language_info": {
   "codemirror_mode": {
    "name": "ipython",
    "version": 3
   },
   "file_extension": ".py",
   "mimetype": "text/x-python",
   "name": "python",
   "nbconvert_exporter": "python",
   "pygments_lexer": "ipython3",
   "version": "3.10.4"
  }
 },
 "nbformat": 4,
 "nbformat_minor": 5
}
