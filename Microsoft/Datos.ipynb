{
 "cells": [
  {
   "cell_type": "markdown",
   "metadata": {},
   "source": [
    "# Examen de datos del mundo real"
   ]
  },
  {
   "cell_type": "markdown",
   "metadata": {},
   "source": [
    "Debido a la complejidad de los datos del \"mundo real\", hay que inspeccionar los datos sin procesar para detectar problemas antes de utilizarlos.\n",
    "\n",
    "Por ello, el procedimiento recomendado es inspeccionar los datos sin procesar y procesarlos antes de utilizarlos, lo que reduce los errores o problemas, normalmente eliminando los puntos de datos erróneos o modificando los datos para que sean más útiles.\n",
    "\n",
    "Recuerde que los datos del mundo real siempre tendrán problemas, pero esto suele ser un problema superable. Recuerde:\n",
    "\n",
    "- Compruebe los valores que faltan y los datos registrados de forma incorrecta.\n",
    "- Considere la posibilidad de eliminar valores atípicos obvios.\n",
    "- Considere qué factores del mundo real podrían afectar al análisis y vea si el tamaño del conjunto de datos es lo suficientemente grande como para controlarlos.\n",
    "- Compruebe si los datos sin procesar están sesgados y considere sus opciones para corregirlos, si se encuentran."
   ]
  },
  {
   "cell_type": "markdown",
   "metadata": {},
   "source": [
    "## Datos con Python\n",
    "Vamos a comparar datos en una manera mas compleja.\n",
    "## Distribuciones de datos"
   ]
  },
  {
   "cell_type": "code",
   "execution_count": 1,
   "metadata": {},
   "outputs": [
    {
     "name": "stdout",
     "output_type": "stream",
     "text": [
      "         Name  StudyHours  Grade   Pass\n",
      "0         Dan       10.00   50.0  False\n",
      "1       Joann       11.50   50.0  False\n",
      "2       Pedro        9.00   47.0  False\n",
      "3       Rosie       16.00   97.0   True\n",
      "4       Ethan        9.25   49.0  False\n",
      "5       Vicky        1.00    3.0  False\n",
      "6    Frederic       11.50   53.0  False\n",
      "7      Jimmie        9.00   42.0  False\n",
      "8      Rhonda        8.50   26.0  False\n",
      "9    Giovanni       14.50   74.0   True\n",
      "10  Francesca       15.50   82.0   True\n",
      "11      Rajab       13.75   62.0   True\n",
      "12    Naiyana        9.00   37.0  False\n",
      "13       Kian        8.00   15.0  False\n",
      "14      Jenny       15.50   70.0   True\n",
      "15     Jakeem        8.00   27.0  False\n",
      "16     Helena        9.00   36.0  False\n",
      "17      Ismat        6.00   35.0  False\n",
      "18      Anila       10.00   48.0  False\n",
      "19       Skye       12.00   52.0  False\n",
      "20     Daniel       12.50   63.0   True\n",
      "21      Aisha       12.00   64.0   True\n",
      "Minimum:3.00\n",
      "Mean:49.18\n",
      "Median:49.50\n",
      "Mode:50.00\n",
      "Maximum:97.00\n",
      "\n"
     ]
    },
    {
     "name": "stderr",
     "output_type": "stream",
     "text": [
      "C:\\Users\\dtscj\\AppData\\Local\\Temp\\ipykernel_3464\\2995570423.py:62: UserWarning: Matplotlib is currently using module://matplotlib_inline.backend_inline, which is a non-GUI backend, so cannot show the figure.\n",
      "  fig.show()\n"
     ]
    },
    {
     "data": {
      "image/png": "[encoded data removed]",
      "text/plain": [
       "<Figure size 720x288 with 2 Axes>"
      ]
     },
     "metadata": {
      "needs_background": "light"
     },
     "output_type": "display_data"
    }
   ],
   "source": [
    "import pandas as pd\n",
    "from matplotlib import pyplot as plt\n",
    "\n",
    "# Load data from a text file: !wget https://raw.githubusercontent.com/MicrosoftDocs/mslearn-introduction-to-machine-learning/main/Data/ml-basics/grades.csv\n",
    "df_students = pd.read_csv('grades.csv',delimiter=',',header='infer')\n",
    "\n",
    "# Remove any rows with missing data\n",
    "df_students = df_students.dropna(axis=0, how='any')\n",
    "\n",
    "# Calculate who passed, assuming '60' is the grade needed to pass\n",
    "passes  = pd.Series(df_students['Grade'] >= 60)\n",
    "\n",
    "# Save who passed to the Pandas dataframe\n",
    "df_students = pd.concat([df_students, passes.rename(\"Pass\")], axis=1)\n",
    "\n",
    "# Print the result out into this notebook\n",
    "print(df_students)\n",
    "\n",
    "# Create a function that we can re-use\n",
    "def show_distribution(var_data):\n",
    "    '''\n",
    "    This function will make a distribution (graph) and display it\n",
    "    '''\n",
    "    # Get statistics\n",
    "    min_val = var_data.min()\n",
    "    max_val = var_data.max()\n",
    "    mean_val = var_data.mean()\n",
    "    med_val = var_data.median()\n",
    "    mod_val = var_data.mode()[0]\n",
    "\n",
    "    print('Minimum:{:.2f}\\nMean:{:.2f}\\nMedian:{:.2f}\\nMode:{:.2f}\\nMaximum:{:.2f}\\n'.format(min_val,                                                                                          mean_val,\n",
    "                                                                                            med_val,\n",
    "                                                                                            mod_val,\n",
    "                                                                                            max_val))\n",
    "\n",
    "    # Create a figure for 2 subplots (2 rows, 1 column)\n",
    "    fig, ax = plt.subplots(2, 1, figsize = (10,4))\n",
    "\n",
    "    # Plot the histogram   \n",
    "    ax[0].hist(var_data)\n",
    "    ax[0].set_ylabel('Frequency')\n",
    "\n",
    "    # Add lines for the mean, median, and mode\n",
    "    ax[0].axvline(x=min_val, color = 'gray', linestyle='dashed', linewidth = 2)\n",
    "    ax[0].axvline(x=mean_val, color = 'cyan', linestyle='dashed', linewidth = 2)\n",
    "    ax[0].axvline(x=med_val, color = 'red', linestyle='dashed', linewidth = 2)\n",
    "    ax[0].axvline(x=mod_val, color = 'yellow', linestyle='dashed', linewidth = 2)\n",
    "    ax[0].axvline(x=max_val, color = 'gray', linestyle='dashed', linewidth = 2)\n",
    "\n",
    "    # Plot the boxplot   \n",
    "    ax[1].boxplot(var_data, vert=False)\n",
    "    ax[1].set_xlabel('Value')\n",
    "\n",
    "    # Add a title to the Figure\n",
    "    fig.suptitle('Data Distribution')\n",
    "\n",
    "    # Show the figure\n",
    "    fig.show()\n",
    "\n",
    "\n",
    "show_distribution(df_students['Grade'])"
   ]
  },
  {
   "cell_type": "markdown",
   "metadata": {},
   "source": [
    "Vamos a ver ahora como está distribuida la informacion sobre las horas de estudio. "
   ]
  },
  {
   "cell_type": "code",
   "execution_count": 2,
   "metadata": {},
   "outputs": [
    {
     "name": "stdout",
     "output_type": "stream",
     "text": [
      "Minimum:1.00\n",
      "Mean:10.52\n",
      "Median:10.00\n",
      "Mode:9.00\n",
      "Maximum:16.00\n",
      "\n"
     ]
    },
    {
     "name": "stderr",
     "output_type": "stream",
     "text": [
      "C:\\Users\\dtscj\\AppData\\Local\\Temp\\ipykernel_3464\\2995570423.py:62: UserWarning: Matplotlib is currently using module://matplotlib_inline.backend_inline, which is a non-GUI backend, so cannot show the figure.\n",
      "  fig.show()\n"
     ]
    },
    {
     "data": {
      "image/png": "[encoded data removed]",
      "text/plain": [
       "<Figure size 720x288 with 2 Axes>"
      ]
     },
     "metadata": {
      "needs_background": "light"
     },
     "output_type": "display_data"
    }
   ],
   "source": [
    "# Get the variable to examine\n",
    "col = df_students['StudyHours']\n",
    "# Call the function\n",
    "show_distribution(col)"
   ]
  },
  {
   "cell_type": "markdown",
   "metadata": {},
   "source": [
    "Las datos ahora se distribuyen de manera distinta a las calificaciones. Notemos ahora que tenemos la presencia de outliers."
   ]
  },
  {
   "cell_type": "code",
   "execution_count": 3,
   "metadata": {},
   "outputs": [
    {
     "name": "stdout",
     "output_type": "stream",
     "text": [
      "Minimum:6.00\n",
      "Mean:10.98\n",
      "Median:10.00\n",
      "Mode:9.00\n",
      "Maximum:16.00\n",
      "\n"
     ]
    },
    {
     "name": "stderr",
     "output_type": "stream",
     "text": [
      "C:\\Users\\dtscj\\AppData\\Local\\Temp\\ipykernel_3464\\2995570423.py:62: UserWarning: Matplotlib is currently using module://matplotlib_inline.backend_inline, which is a non-GUI backend, so cannot show the figure.\n",
      "  fig.show()\n"
     ]
    },
    {
     "data": {
      "image/png": "[encoded data removed]",
      "text/plain": [
       "<Figure size 720x288 with 2 Axes>"
      ]
     },
     "metadata": {
      "needs_background": "light"
     },
     "output_type": "display_data"
    }
   ],
   "source": [
    "# Get the variable to examine\n",
    "# We will only get students who have studied more than one hour\n",
    "col = df_students[df_students.StudyHours>1]['StudyHours']\n",
    "\n",
    "# Call the function\n",
    "show_distribution(col)"
   ]
  },
  {
   "cell_type": "markdown",
   "metadata": {},
   "source": [
    "Solamente por fine académicos camos a tratar a 1 como un valor atipoco y excluirlo. Es mas complicado dejar fuera valores atipicos sin una buena justificación. En este caso la muestra es muy pequeña, tomar a 100 estudiantes quizas se vea que hay mas personas que estudian solo una hora a la semana. "
   ]
  },
  {
   "cell_type": "code",
   "execution_count": 4,
   "metadata": {},
   "outputs": [
    {
     "name": "stdout",
     "output_type": "stream",
     "text": [
      "Minimum:6.00\n",
      "Mean:10.98\n",
      "Median:10.00\n",
      "Mode:9.00\n",
      "Maximum:16.00\n",
      "\n"
     ]
    },
    {
     "name": "stderr",
     "output_type": "stream",
     "text": [
      "C:\\Users\\dtscj\\AppData\\Local\\Temp\\ipykernel_3464\\2995570423.py:62: UserWarning: Matplotlib is currently using module://matplotlib_inline.backend_inline, which is a non-GUI backend, so cannot show the figure.\n",
      "  fig.show()\n"
     ]
    },
    {
     "data": {
      "image/png": "[encoded data removed]",
      "text/plain": [
       "<Figure size 720x288 with 2 Axes>"
      ]
     },
     "metadata": {
      "needs_background": "light"
     },
     "output_type": "display_data"
    }
   ],
   "source": [
    "# calculate the 0.01th percentile\n",
    "q01 = df_students.StudyHours.quantile(0.01)\n",
    "# Get the variable to examine\n",
    "col = df_students[df_students.StudyHours>q01]['StudyHours']\n",
    "# Call the function\n",
    "show_distribution(col)"
   ]
  },
  {
   "cell_type": "markdown",
   "metadata": {},
   "source": [
    "Tip: You can also eliminate outliers at the upper end of the distribution by defining a threshold at a high percentile value - for example, you could use the quantile function to find the 0.99 percentile below which 99% of the data reside."
   ]
  }
 ],
 "metadata": {
  "kernelspec": {
   "display_name": "Python 3.10.4 64-bit",
   "language": "python",
   "name": "python3"
  },
  "language_info": {
   "codemirror_mode": {
    "name": "ipython",
    "version": 3
   },
   "file_extension": ".py",
   "mimetype": "text/x-python",
   "name": "python",
   "nbconvert_exporter": "python",
   "pygments_lexer": "ipython3",
   "version": "3.10.4"
  },
  "orig_nbformat": 4,
  "vscode": {
   "interpreter": {
    "hash": "d145721c8fe060906fa05d5ce292bd4c0e5083d7d682511ae712dcc6283c3cc5"
   }
  }
 },
 "nbformat": 4,
 "nbformat_minor": 2
}
