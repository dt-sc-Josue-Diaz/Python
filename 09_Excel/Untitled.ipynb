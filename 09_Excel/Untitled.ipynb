{
 "cells": [
  {
   "cell_type": "markdown",
   "id": "a4eee3d1-5dfe-45dc-88a5-69a6d294422e",
   "metadata": {},
   "source": [
    "# Excel y python"
   ]
  }
 ],
 "metadata": {
  "kernelspec": {
   "display_name": "Python 3 (ipykernel)",
   "language": "python",
   "name": "python3"
  },
  "language_info": {
   "codemirror_mode": {
    "name": "ipython",
    "version": 3
   },
   "file_extension": ".py",
   "mimetype": "text/x-python",
   "name": "python",
   "nbconvert_exporter": "python",
   "pygments_lexer": "ipython3",
   "version": "3.10.4"
  }
 },
 "nbformat": 4,
 "nbformat_minor": 5
}
