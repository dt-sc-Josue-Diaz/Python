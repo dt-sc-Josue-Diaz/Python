{
 "cells": [
  {
   "cell_type": "markdown",
   "id": "330cdc99-7059-4577-aca6-045ab4adb481",
   "metadata": {},
   "source": [
    "# Introducción a Python"
   ]
  },
  {
   "cell_type": "markdown",
   "id": "d93d1a54-17ef-45f3-b14d-f90e43074980",
   "metadata": {},
   "source": [
    "## Variales y asignaciones \n",
    "- En python no es necesario declarar las variables. Las asignaciones no se muestran por defaul.\n",
    "- Python se puede sar como calculadora. \n",
    "- Las declaraciones se hacen con '='. Las variables son espacios en la computadora donde podemos guardar información sobre una operacion que le hayamos pedido a Python. \n",
    "- Tenemos variables globales que son información disponible en toda la sesión. \n",
    "- Python es sensible a mayusculas y minusculas. "
   ]
  },
  {
   "cell_type": "code",
   "execution_count": 1,
   "id": "60de62e2-176b-4a10-be94-525514e0ddf2",
   "metadata": {},
   "outputs": [
    {
     "data": {
      "text/plain": [
       "23.3"
      ]
     },
     "execution_count": 1,
     "metadata": {},
     "output_type": "execute_result"
    }
   ],
   "source": [
    "b = 10.8 + 12.3 +.2\n",
    "b"
   ]
  },
  {
   "cell_type": "markdown",
   "id": "a902ea8c-0d23-46ff-b43a-1064288c9884",
   "metadata": {},
   "source": [
    "## Aritmética\n",
    "- Esto es usar a Python como una calculadora muy potente. \n",
    "- Operaciones aritméticas son como siempre. \n",
    "    - + suma.\n",
    "    - - resta.\n",
    "    - * multiplicación.\n",
    "    - ** potencia.\n",
    "    - / división.\n",
    "    - // división entera.\n",
    "    - % módulo.\n",
    "    - Se respeta la jerarquia de operaciones. El orden empieza con los paréntesis. \n",
    "   "
   ]
  },
  {
   "cell_type": "markdown",
   "id": "a334d454-8ab2-4dcf-9610-87e57f023a5f",
   "metadata": {},
   "source": [
    "## Cadenas\n",
    "Es la menera de como trabajamos textos en Python. Las cadenas se indican poe estar entre comillas 'texto'\n",
    "- La función print. El uso de las dobles comillas. \n",
    "    - Concatenar. \n",
    "    - El uso del salto \\n.\n",
    "    - Cortar texto de la función \\.\n",
    "    - El uso de las triples comillas. Para imprimir comillas simples y dobles. \n",
    "    "
   ]
  },
  {
   "cell_type": "code",
   "execution_count": 2,
   "id": "d3cce174-2e19-40cc-b9c0-35aef6614cc3",
   "metadata": {},
   "outputs": [
    {
     "name": "stdout",
     "output_type": "stream",
     "text": [
      "20  elevado a la  3 da por resultado 8000\n"
     ]
    }
   ],
   "source": [
    "# Ejemplo\n",
    "w = 20\n",
    "z = 3\n",
    "y = w**z\n",
    "\n",
    "print(w,\" elevado a la \", z, \"da por resultado\", y)"
   ]
  },
  {
   "cell_type": "markdown",
   "id": "ca48e5ad-90d4-481c-a224-27e4af6c75ac",
   "metadata": {},
   "source": [
    "## Input\n",
    "Es pedir información al usuario y esta información sea guardada en una variable.\n",
    "- función input.\n",
    "- Por defecto toda informacion es guardada en tipo de cadena."
   ]
  },
  {
   "cell_type": "code",
   "execution_count": 3,
   "id": "ac2d7b2e-4754-4773-9efd-42ba67261615",
   "metadata": {},
   "outputs": [
    {
     "name": "stdin",
     "output_type": "stream",
     "text": [
      "¿Qué día es? Sabado\n"
     ]
    },
    {
     "data": {
      "text/plain": [
       "'Sabado'"
      ]
     },
     "execution_count": 3,
     "metadata": {},
     "output_type": "execute_result"
    }
   ],
   "source": [
    "name = input(\"¿Qué día es?\")\n",
    "name"
   ]
  },
  {
   "cell_type": "code",
   "execution_count": 4,
   "id": "ed140c96-63ea-4b16-8ae6-3cec990e6b8b",
   "metadata": {},
   "outputs": [
    {
     "name": "stdin",
     "output_type": "stream",
     "text": [
      "Numero 1 2\n",
      "Numero 2 5\n"
     ]
    },
    {
     "name": "stdout",
     "output_type": "stream",
     "text": [
      "25\n"
     ]
    }
   ],
   "source": [
    "# Por defecto la informacion se hace como cadenas. \n",
    "x = input(\"Numero 1\")\n",
    "y = input(\"Numero 2\")\n",
    "print(x+y)\n",
    "\n"
   ]
  },
  {
   "cell_type": "code",
   "execution_count": 5,
   "id": "21c9b614-aff7-481f-ac8e-f51777c58703",
   "metadata": {},
   "outputs": [
    {
     "data": {
      "text/plain": [
       "7"
      ]
     },
     "execution_count": 5,
     "metadata": {},
     "output_type": "execute_result"
    }
   ],
   "source": [
    "# Para hacer cuentas matemáticas es necesario transformar el tipo de dato\n",
    "int(x)+int(y)"
   ]
  },
  {
   "cell_type": "code",
   "execution_count": 6,
   "id": "5057aaa5-3f33-4b89-86e5-57681b1a9fca",
   "metadata": {},
   "outputs": [
    {
     "data": {
      "text/plain": [
       "6.2"
      ]
     },
     "execution_count": 6,
     "metadata": {},
     "output_type": "execute_result"
    }
   ],
   "source": [
    "float(\"6.2\")"
   ]
  },
  {
   "cell_type": "code",
   "execution_count": 7,
   "id": "1a996fab-121f-49bb-b69b-f4ccc1883aaf",
   "metadata": {},
   "outputs": [
    {
     "data": {
      "text/plain": [
       "float"
      ]
     },
     "execution_count": 7,
     "metadata": {},
     "output_type": "execute_result"
    }
   ],
   "source": [
    "type(float('6.2'))"
   ]
  },
  {
   "cell_type": "markdown",
   "id": "1519e4b6-dd8c-4927-9f4b-a91d2c29f8f8",
   "metadata": {},
   "source": [
    "# Ejecutar\n",
    "Ejecutar scrips. Programas hechos que las computadoras pueden trabajar. Estas no son iguales a los cuadernos en los cuales estamos trabajando. \n",
    "- %run programa.py\n",
    "- Las funciones que empiezan con % son llamadas magias. "
   ]
  }
 ],
 "metadata": {
  "kernelspec": {
   "display_name": "Python 3 (ipykernel)",
   "language": "python",
   "name": "python3"
  },
  "language_info": {
   "codemirror_mode": {
    "name": "ipython",
    "version": 3
   },
   "file_extension": ".py",
   "mimetype": "text/x-python",
   "name": "python",
   "nbconvert_exporter": "python",
   "pygments_lexer": "ipython3",
   "version": "3.8.13"
  }
 },
 "nbformat": 4,
 "nbformat_minor": 5
}
