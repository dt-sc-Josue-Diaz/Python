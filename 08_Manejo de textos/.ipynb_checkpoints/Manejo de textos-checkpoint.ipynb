{
 "cells": [
  {
   "cell_type": "markdown",
   "id": "baf55db7-6deb-46d0-b3a0-22ba78958738",
   "metadata": {},
   "source": [
    "# Manejo de textos\n",
    "\n",
    "## Introducción\n",
    "Vamos a produndizar el tema de las cadenas, recordemos que las cadenas son un string y que las podemos pensar como tuplas. La idea es llegar a expresiones regulares que son el comienzo del deep learning. Además es muy útil para poder manejar datos que directos de internet."
   ]
  },
  {
   "cell_type": "markdown",
   "id": "858e8c28-4432-48ad-96a7-3088400c5325",
   "metadata": {},
   "source": [
    "## Formato de las cadenas (tipos de presentación)\n",
    "Los `fstring` se usan para dar formato a los datos de salida. Cada tipo de dato tiene su parámetro y es la inicial del tipo de dato en inglés. \n",
    "\n",
    "- f\n",
    "- d\n",
    "- c\n",
    "- s\n",
    "\n",
    "la nomenclatura comienza simple y hay que saber que es cada parámetro, `f'{\"texto\" o numeros: letra}{parámetros}'` de esta menera se comienza a indicar como es el formato que queremos dar, en `c` está relacionado con ASCII. \n",
    "\n",
    "En el caos de float es el siguiente;\n",
    "\n",
    "`[{función: (longitud de campo).(decimales)f}]`\n",
    "\n",
    "por defecto la cantidad de decimales que se muestran es de 6. La longitud del campo ya incluye la cantidad de caracteres de la cadena.  "
   ]
  },
  {
   "cell_type": "code",
   "execution_count": 1,
   "id": "e92a306a",
   "metadata": {},
   "outputs": [
    {
     "data": {
      "text/plain": [
       "'3.142'"
      ]
     },
     "execution_count": 1,
     "metadata": {},
     "output_type": "execute_result"
    }
   ],
   "source": [
    "f'{3.141592:0.3f}'"
   ]
  },
  {
   "cell_type": "code",
   "execution_count": 2,
   "id": "b58de1fb",
   "metadata": {},
   "outputs": [
    {
     "data": {
      "text/plain": [
       "'150'"
      ]
     },
     "execution_count": 2,
     "metadata": {},
     "output_type": "execute_result"
    }
   ],
   "source": [
    "f'{150:d}'"
   ]
  },
  {
   "cell_type": "code",
   "execution_count": null,
   "id": "edc13081",
   "metadata": {},
   "outputs": [],
   "source": [
    "f'{66:c} {98:c}'"
   ]
  },
  {
   "cell_type": "code",
   "execution_count": 3,
   "id": "2e8bb638",
   "metadata": {},
   "outputs": [
    {
     "data": {
      "text/plain": [
       "'Este curso está de 100'"
      ]
     },
     "execution_count": 3,
     "metadata": {},
     "output_type": "execute_result"
    }
   ],
   "source": [
    "f'{\"Este curso está de\":s} {100}'"
   ]
  },
  {
   "cell_type": "code",
   "execution_count": 5,
   "id": "bb5ed9d1",
   "metadata": {},
   "outputs": [
    {
     "data": {
      "text/plain": [
       "'[       314]'"
      ]
     },
     "execution_count": 5,
     "metadata": {},
     "output_type": "execute_result"
    }
   ],
   "source": [
    "f'[{314:10d}]'"
   ]
  },
  {
   "cell_type": "code",
   "execution_count": 4,
   "id": "a9e7109d",
   "metadata": {},
   "outputs": [
    {
     "data": {
      "text/plain": [
       "'[Alineación       3.140000]'"
      ]
     },
     "execution_count": 4,
     "metadata": {},
     "output_type": "execute_result"
    }
   ],
   "source": [
    "f'[{\"Alineación\":15}{3.14:10f}]'"
   ]
  },
  {
   "cell_type": "code",
   "execution_count": 6,
   "id": "0394337b",
   "metadata": {},
   "outputs": [
    {
     "data": {
      "text/plain": [
       "'[Alineación     ]'"
      ]
     },
     "execution_count": 6,
     "metadata": {},
     "output_type": "execute_result"
    }
   ],
   "source": [
    "f'[{\"Alineación\":15}]'"
   ]
  },
  {
   "cell_type": "code",
   "execution_count": 9,
   "id": "d524ff29",
   "metadata": {},
   "outputs": [
    {
     "data": {
      "text/plain": [
       "'[  3.140000]'"
      ]
     },
     "execution_count": 9,
     "metadata": {},
     "output_type": "execute_result"
    }
   ],
   "source": [
    "f'[{3.14:10f}]'"
   ]
  },
  {
   "cell_type": "markdown",
   "id": "03920413",
   "metadata": {},
   "source": [
    "Además podemos alinear hacia algun lado como en una hoja de texto, sea derecha, izquierda o centro. Esto se hace con `<` izquierda, `>` derecha y  `^` para centrar.  "
   ]
  },
  {
   "cell_type": "code",
   "execution_count": 10,
   "id": "2a838d17",
   "metadata": {},
   "outputs": [
    {
     "data": {
      "text/plain": [
       "'[Alineación  3.140000  ]'"
      ]
     },
     "execution_count": 10,
     "metadata": {},
     "output_type": "execute_result"
    }
   ],
   "source": [
    "f'[{\"Alineación\":12}{3.14:<10f}]'"
   ]
  },
  {
   "cell_type": "code",
   "execution_count": null,
   "id": "6c0d018e",
   "metadata": {},
   "outputs": [],
   "source": [
    "f'[{\"Alineación\":>15}]'"
   ]
  },
  {
   "cell_type": "markdown",
   "id": "97b554d8",
   "metadata": {},
   "source": [
    "Para el caso en que tengamos numeros con signos ahora `+` nos sirve para indicar como parámetro que se desea incluir el signo. "
   ]
  },
  {
   "cell_type": "code",
   "execution_count": 11,
   "id": "533fcdbf",
   "metadata": {},
   "outputs": [
    {
     "data": {
      "text/plain": [
       "'[      +150]'"
      ]
     },
     "execution_count": 11,
     "metadata": {},
     "output_type": "execute_result"
    }
   ],
   "source": [
    "f'[{150:+10d}]'"
   ]
  },
  {
   "cell_type": "markdown",
   "id": "1602e3d0",
   "metadata": {},
   "source": [
    "Además podemos indicar que los espacios en blanco sean `0`. Entre `(signo)0(numero de decimales)`. En ocaciones es válido pero no recomendable dejar un espacio en blanco para indicar el signo del numero. "
   ]
  },
  {
   "cell_type": "code",
   "execution_count": 12,
   "id": "4e0d1842",
   "metadata": {},
   "outputs": [
    {
     "data": {
      "text/plain": [
       "'[+000000150]'"
      ]
     },
     "execution_count": 12,
     "metadata": {},
     "output_type": "execute_result"
    }
   ],
   "source": [
    "f'[{150:+010d}]'"
   ]
  },
  {
   "cell_type": "code",
   "execution_count": 13,
   "id": "3755697c",
   "metadata": {},
   "outputs": [
    {
     "name": "stdout",
     "output_type": "stream",
     "text": [
      "27\n",
      " 27\n",
      "-27\n"
     ]
    }
   ],
   "source": [
    "print(f'{27:d}\\n{27: d}\\n{-27: d}')"
   ]
  },
  {
   "cell_type": "markdown",
   "id": "5ba62a70",
   "metadata": {},
   "source": [
    "Para indicar las comas que separan en cantidades a numeros grandes basta indicar con una `,`\n"
   ]
  },
  {
   "cell_type": "code",
   "execution_count": null,
   "id": "1f801e20",
   "metadata": {},
   "outputs": [],
   "source": [
    "f'{111222333:,d}'"
   ]
  },
  {
   "cell_type": "markdown",
   "id": "d5809416",
   "metadata": {},
   "source": [
    "Anterior a Python 3.6 no se podian usar los f-string. Se usaba para dar formato a `format`. Aún tiene unas cosas útiles. "
   ]
  },
  {
   "cell_type": "code",
   "execution_count": 14,
   "id": "c6e2cca1",
   "metadata": {},
   "outputs": [
    {
     "data": {
      "text/plain": [
       "'3.1416'"
      ]
     },
     "execution_count": 14,
     "metadata": {},
     "output_type": "execute_result"
    }
   ],
   "source": [
    "'{:0.4f}'.format(3.141592)"
   ]
  },
  {
   "cell_type": "markdown",
   "id": "cd5e1060",
   "metadata": {},
   "source": [
    "En equivalencia a "
   ]
  },
  {
   "cell_type": "code",
   "execution_count": 16,
   "id": "b162bdc0",
   "metadata": {},
   "outputs": [
    {
     "data": {
      "text/plain": [
       "'3.1416'"
      ]
     },
     "execution_count": 16,
     "metadata": {},
     "output_type": "execute_result"
    }
   ],
   "source": [
    "f'{3.141592:0.4f}'"
   ]
  },
  {
   "cell_type": "code",
   "execution_count": 17,
   "id": "0408bb41",
   "metadata": {},
   "outputs": [
    {
     "data": {
      "text/plain": [
       "'Nombre Apellido'"
      ]
     },
     "execution_count": 17,
     "metadata": {},
     "output_type": "execute_result"
    }
   ],
   "source": [
    "'{} {}'.format('Nombre', 'Apellido')"
   ]
  },
  {
   "cell_type": "code",
   "execution_count": 18,
   "id": "8d668d49",
   "metadata": {},
   "outputs": [
    {
     "data": {
      "text/plain": [
       "'Vamos Vamos Vamos sigue adelante'"
      ]
     },
     "execution_count": 18,
     "metadata": {},
     "output_type": "execute_result"
    }
   ],
   "source": [
    "'{0} {0} {0} {1} {2}'.format('Vamos','sigue','adelante')"
   ]
  },
  {
   "cell_type": "code",
   "execution_count": 20,
   "id": "12e8a96b",
   "metadata": {},
   "outputs": [
    {
     "data": {
      "text/plain": [
       "'Rogelio García'"
      ]
     },
     "execution_count": 20,
     "metadata": {},
     "output_type": "execute_result"
    }
   ],
   "source": [
    "'{nombre} {apellido}'.format(nombre='Rogelio',apellido='García')"
   ]
  },
  {
   "cell_type": "code",
   "execution_count": 22,
   "id": "f71e9528",
   "metadata": {},
   "outputs": [
    {
     "data": {
      "text/plain": [
       "'García Rogelio'"
      ]
     },
     "execution_count": 22,
     "metadata": {},
     "output_type": "execute_result"
    }
   ],
   "source": [
    "'{apellido} {nombre}'.format(nombre='Rogelio',apellido='García')"
   ]
  },
  {
   "cell_type": "code",
   "execution_count": null,
   "id": "5cfccb8a",
   "metadata": {},
   "outputs": [],
   "source": []
  },
  {
   "cell_type": "code",
   "execution_count": null,
   "id": "6a23a0af",
   "metadata": {},
   "outputs": [],
   "source": []
  },
  {
   "cell_type": "code",
   "execution_count": null,
   "id": "bc5c404e",
   "metadata": {},
   "outputs": [],
   "source": []
  },
  {
   "cell_type": "code",
   "execution_count": null,
   "id": "1f584d45",
   "metadata": {},
   "outputs": [],
   "source": []
  },
  {
   "cell_type": "code",
   "execution_count": null,
   "id": "aa9a882f",
   "metadata": {},
   "outputs": [],
   "source": []
  },
  {
   "cell_type": "markdown",
   "id": "ab84a9bd",
   "metadata": {},
   "source": [
    "Ejercicios de ASCII"
   ]
  },
  {
   "cell_type": "code",
   "execution_count": 2,
   "id": "efa33522-9a62-413b-b354-abd52e91a539",
   "metadata": {},
   "outputs": [
    {
     "data": {
      "text/plain": [
       "':'"
      ]
     },
     "execution_count": 2,
     "metadata": {},
     "output_type": "execute_result"
    }
   ],
   "source": [
    "f'{58:c}'"
   ]
  },
  {
   "cell_type": "code",
   "execution_count": 4,
   "id": "af30b1d3-dd78-4f90-a80a-dbf31cc2af95",
   "metadata": {},
   "outputs": [
    {
     "data": {
      "text/plain": [
       "'-'"
      ]
     },
     "execution_count": 4,
     "metadata": {},
     "output_type": "execute_result"
    }
   ],
   "source": [
    "f'{45:c}'"
   ]
  },
  {
   "cell_type": "code",
   "execution_count": 7,
   "id": "30e1dd63-e0a0-4fcd-8912-6a2c9d7d60ed",
   "metadata": {},
   "outputs": [
    {
     "data": {
      "text/plain": [
       "')'"
      ]
     },
     "execution_count": 7,
     "metadata": {},
     "output_type": "execute_result"
    }
   ],
   "source": [
    "f'{41:c}'"
   ]
  },
  {
   "cell_type": "markdown",
   "id": "83b1ba24-6cab-49e4-bd7e-36a77b745b68",
   "metadata": {},
   "source": [
    "## Alienación y espacio\n",
    "Ahora tenemos la nomenclatura `f'{cadena:(espacios)c}'` de esta manera podemos indicar los espacios que se quieren dejar antes de la cadena es decir un`\"texto\" o numero`. Para el caso de los float tenemos algo como `f'{cadena:(espacios)}{float:(numero de decimales)f}'` esto nos va a imprimir `cadena(numero de espacios)float.numero_decimales`. En este caso se cuenta desde la cadena la cantidad de caracteres.\n",
    "\n",
    "Las alineaciones a la derecha  o a la izquierda las hacemos con `<` y `>` respectivamente. La alineación hacia el centro es con `^`. Esto aplica a cualqueir tipo de datos. "
   ]
  },
  {
   "cell_type": "code",
   "execution_count": 12,
   "id": "73c2e7d4-7fa3-49d7-8967-7c61f21a2890",
   "metadata": {},
   "outputs": [
    {
     "data": {
      "text/plain": [
       "'[Daniel    ]'"
      ]
     },
     "execution_count": 12,
     "metadata": {},
     "output_type": "execute_result"
    }
   ],
   "source": [
    "f'[{\"Daniel\":<10s}]'"
   ]
  },
  {
   "cell_type": "code",
   "execution_count": 13,
   "id": "537c892c-2320-41d3-8d19-9f1c596a8505",
   "metadata": {},
   "outputs": [
    {
     "data": {
      "text/plain": [
       "'[    Daniel]'"
      ]
     },
     "execution_count": 13,
     "metadata": {},
     "output_type": "execute_result"
    }
   ],
   "source": [
    "f'[{\"Daniel\":>10s}]'"
   ]
  },
  {
   "cell_type": "code",
   "execution_count": 15,
   "id": "c360cc08-97a0-4172-8d48-36fe28fd49ae",
   "metadata": {},
   "outputs": [
    {
     "data": {
      "text/plain": [
       "'[  Daniel  ]'"
      ]
     },
     "execution_count": 15,
     "metadata": {},
     "output_type": "execute_result"
    }
   ],
   "source": [
    "f'[{\"Daniel\":^10s}]'"
   ]
  },
  {
   "cell_type": "markdown",
   "id": "d6023ea4-ec6f-41d2-9526-e0dba899793e",
   "metadata": {},
   "source": [
    "## Formato de número \n",
    "\n",
    "- Ahora vamos a ver como inlcuir el signo de un numero como fstring, para ello debemos agregar el parámetro `+` en la cantidad de decimales, no importa el signo, el parámetro solo indica que se muestre tal cual es. \n",
    "- Agreagar ceros en lugares en blanco. Agregar un `0` entre el parámetro de signo y el de cantidad de decimales. También funciona poner un espacio antes del parámetro decimal.\n",
    "- "
   ]
  },
  {
   "cell_type": "code",
   "execution_count": 9,
   "id": "b3d586f7-202a-45bb-bead-53f211500909",
   "metadata": {},
   "outputs": [
    {
     "name": "stdout",
     "output_type": "stream",
     "text": [
      "+11,483.53\n",
      " -4,581.44\n"
     ]
    }
   ],
   "source": [
    "print(f'{11483.528:+10,.2f}\\n{-4581.4413:+10,.2f}')"
   ]
  },
  {
   "cell_type": "markdown",
   "id": "dc792e01-653a-4b88-9052-a82b640163e1",
   "metadata": {},
   "source": [
    "## Concatenar cadenas que se repiten\n",
    "Las operacioens con cadenas se pueden completar con las operaciones recursivas. Por ejemplo, la concatenación simple, nos dará simplemente la unión de las dos cadenas. Pero, con `+=\" \"+` podemos obtener la unión de las cadenas separadas.  "
   ]
  },
  {
   "cell_type": "markdown",
   "id": "f4c195bb-32be-4a86-b5d4-246e6489074b",
   "metadata": {},
   "source": [
    "## Quitar espacios en blanco\n",
    "Funciones:\n",
    "- strip\n",
    "- lstrip\n",
    "- rstrip"
   ]
  },
  {
   "cell_type": "code",
   "execution_count": 13,
   "id": "1ba94357-4c02-4c31-970b-fce08c648c6b",
   "metadata": {},
   "outputs": [],
   "source": [
    "name = \" Clark Kent \""
   ]
  },
  {
   "cell_type": "code",
   "execution_count": 16,
   "id": "8458ef3b-d019-46ee-a557-6826aa7b77f1",
   "metadata": {},
   "outputs": [
    {
     "data": {
      "text/plain": [
       "'Clark Kent'"
      ]
     },
     "execution_count": 16,
     "metadata": {},
     "output_type": "execute_result"
    }
   ],
   "source": [
    "name.strip()"
   ]
  },
  {
   "cell_type": "code",
   "execution_count": 17,
   "id": "d9ad0cca-04e1-4849-9902-6030a3594983",
   "metadata": {},
   "outputs": [
    {
     "data": {
      "text/plain": [
       "'Clark Kent '"
      ]
     },
     "execution_count": 17,
     "metadata": {},
     "output_type": "execute_result"
    }
   ],
   "source": [
    "name.lstrip()"
   ]
  },
  {
   "cell_type": "code",
   "execution_count": 18,
   "id": "0fe9a86e-210d-4b43-a265-4e0160f5a132",
   "metadata": {},
   "outputs": [
    {
     "data": {
      "text/plain": [
       "' Clark Kent'"
      ]
     },
     "execution_count": 18,
     "metadata": {},
     "output_type": "execute_result"
    }
   ],
   "source": [
    "name.rstrip()"
   ]
  },
  {
   "cell_type": "markdown",
   "id": "db43956e-16c2-4886-904c-c344a6686df7",
   "metadata": {},
   "source": [
    "## Mayúculas y comparación\n",
    "Los métodos `capitalize`y `title`, el primero da la capacidad de modificar la primera letra de la cadena a mayúscula, la segunda nos da la capacidad de hacer que cada palabra de la cadena empiece con mayúscula. Para las comparaciones se hacen letra por letra.  "
   ]
  },
  {
   "cell_type": "markdown",
   "id": "0508e134-3f4a-4a71-859d-c3deee9446b1",
   "metadata": {},
   "source": [
    "## Búsquedas en cadenas\n",
    "`count` nos permite saber la cantidad de veces que se repite una subcadena (o palabra) en una cadena de texto. El primer parámetro nos ayuda a indicar desde donde queremos hacer la búsqueda, el segundo donde termina, en si, no es necesario recorrer toda la cadena de texto. El método `index` nos dirá el indice de la palabra que estemos buscando. El método `rindex` lo hace empezando desde la derecha. Tenemos la función `in` como contensión de conjuntos. `startswith()` y `endswith`"
   ]
  },
  {
   "cell_type": "code",
   "execution_count": 19,
   "id": "cc633312-fd8a-44c2-9a78-8762e76a9ca4",
   "metadata": {},
   "outputs": [],
   "source": [
    "cadena = \"Por desenredar el enredo aque ayer enrede, hoy enredo el desenredo que desenredé ayer\"\n",
    "for i in cadena.split():\n",
    "    cadena\n",
    "    if i.startswith(\"d\") = True\n",
    "    print(i)"
   ]
  }
 ],
 "metadata": {
  "kernelspec": {
   "display_name": "Python 3 (ipykernel)",
   "language": "python",
   "name": "python3"
  },
  "language_info": {
   "codemirror_mode": {
    "name": "ipython",
    "version": 3
   },
   "file_extension": ".py",
   "mimetype": "text/x-python",
   "name": "python",
   "nbconvert_exporter": "python",
   "pygments_lexer": "ipython3",
   "version": "3.10.4"
  }
 },
 "nbformat": 4,
 "nbformat_minor": 5
}
