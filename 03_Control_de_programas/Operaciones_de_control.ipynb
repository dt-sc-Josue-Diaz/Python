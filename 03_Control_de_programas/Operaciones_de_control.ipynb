{
 "cells": [
  {
   "cell_type": "markdown",
   "id": "ba95aaf0-86dd-43dd-8071-01fdb56dcecb",
   "metadata": {},
   "source": [
    "# Operaciones de control\n",
    "- Condicionales\n",
    "- Cliclos\n",
    "- Bucles\n",
    "Antes de escribir un programa para usar la computadora primero necesitamos resolver el problema, tener antes los pasos que debemos seguir para poder resolver el problema, estas partes del algoritomo son las vamos a programar. "
   ]
  },
  {
   "cell_type": "markdown",
   "id": "d9aca240-95c5-4311-b439-c5d740960577",
   "metadata": {},
   "source": [
    "## Psudocodigo \n",
    "Los pasos que va seguir el programa, tambien es importante conocer los diagramas de flujo del programa. En ocaciones esto es mas personal de acuerdo a nuestra necesidad de comprender las partes de un algoritmo. "
   ]
  },
  {
   "cell_type": "markdown",
   "id": "3a9ce07b-4791-40b8-b7db-d9d926787db6",
   "metadata": {},
   "source": [
    "## Control de programa \n",
    "- Ejecuciones secuenciales, las que se siguen linea por linea.\n",
    "- Oraciones de selecciones, cuando se cumplen condiciones solo se ejecuta una parte del código pero no todo. \n",
    "- Oaraciones de repetición, las que se repeten de acuerdo a una cantidad fija de veces.\n",
    "\n",
    "Cada uno de ellos tiene su propio tipo de diagrama en psudocódigo."
   ]
  },
  {
   "cell_type": "markdown",
   "id": "896f6148-ca4f-4e4c-8d93-b8c02f6cc147",
   "metadata": {},
   "source": [
    "## If\n",
    "Una manera de entenderla en español es \"si una condición es cierta\". Es una sentencia que elavula una condición y si es verdadera ejecuta el código contenido en él.\n",
    "\n",
    "if *condición* :\n",
    "\n",
    "    sentencias\n",
    "    \n",
    "    \n",
    "Cuando la condición es falsa el codigo no se ejecuta. Es importante la indentación si no dará un error. "
   ]
  },
  {
   "cell_type": "code",
   "execution_count": 4,
   "id": "23010fb6-165b-4ccb-b654-e59b18722b9e",
   "metadata": {},
   "outputs": [
    {
     "name": "stdout",
     "output_type": "stream",
     "text": [
      "Posible cliente\n"
     ]
    }
   ],
   "source": [
    "# Un programa que evalua si la edad de un cliente es potencial para ofrecer un seguro medico.\n",
    "nac = 1994\n",
    "if 2022-nac > 25:\n",
    "    print(\"Posible cliente\")"
   ]
  },
  {
   "cell_type": "code",
   "execution_count": 6,
   "id": "268a372d-f626-4196-8ab1-935910e8c14b",
   "metadata": {},
   "outputs": [],
   "source": [
    "nac = 2002\n",
    "if 2022-nac >25:\n",
    "    print(\"Posible cliente\")\n"
   ]
  },
  {
   "cell_type": "code",
   "execution_count": 7,
   "id": "fe4e9159-d805-4a93-947a-f20e123c39a8",
   "metadata": {},
   "outputs": [
    {
     "ename": "IndentationError",
     "evalue": "expected an indented block (2278527099.py, line 4)",
     "output_type": "error",
     "traceback": [
      "\u001b[0;36m  Input \u001b[0;32mIn [7]\u001b[0;36m\u001b[0m\n\u001b[0;31m    print(\"Posible cliente\")\u001b[0m\n\u001b[0m    ^\u001b[0m\n\u001b[0;31mIndentationError\u001b[0m\u001b[0;31m:\u001b[0m expected an indented block\n"
     ]
    }
   ],
   "source": [
    "# La indetanción es importante\n",
    "nac = 1994\n",
    "if 2022-nac >25:\n",
    "print(\"Posible cliente\")\n"
   ]
  },
  {
   "cell_type": "markdown",
   "id": "1d6d1a70-8bba-41c8-b7b9-1fb597a7bfaf",
   "metadata": {},
   "source": [
    "## else if\n",
    "Es una instruccion mas compleja que el if, lo usamos cuando podemos en una sentencia tener mas casos que uno booleano.\n",
    "- Es importante notar que van dos puntos depues, *else:*\n",
    "- La indetación se pone con el if. Pero su codigo lleva indentación. \n",
    "- Las operacopmes en if pueden ser variadas. "
   ]
  },
  {
   "cell_type": "code",
   "execution_count": null,
   "id": "756cdd0c-2511-45e1-83ca-2d8419b2a54a",
   "metadata": {},
   "outputs": [],
   "source": [
    "# Modificar el codigo anterior "
   ]
  },
  {
   "cell_type": "code",
   "execution_count": 10,
   "id": "c705a314-7037-4c21-916c-0c93613e20e7",
   "metadata": {},
   "outputs": [
    {
     "name": "stdout",
     "output_type": "stream",
     "text": [
      "Posible cliente\n"
     ]
    }
   ],
   "source": [
    "nac = 1994\n",
    "if 2022-nac >= 25:\n",
    "    print(\"Posible cliente\")\n",
    "else:\n",
    "    print(\"No es cliente\")   \n",
    "    "
   ]
  },
  {
   "cell_type": "code",
   "execution_count": 7,
   "id": "d5ef7cdf-b7ea-4169-aedd-d185fb30e407",
   "metadata": {},
   "outputs": [
    {
     "name": "stdout",
     "output_type": "stream",
     "text": [
      "Es joven\n"
     ]
    }
   ],
   "source": [
    "edad = 24\n",
    "if edad < 12:\n",
    "    print(\"Es un niño\")\n",
    "elif edad < 27:\n",
    "    print(\"Es joven\")\n",
    "elif edad < 60:\n",
    "    print(\"Es adulto\")\n",
    "else: \n",
    "    print(\"Adulto mayor\")\n",
    "    "
   ]
  },
  {
   "cell_type": "code",
   "execution_count": 5,
   "id": "e7a36639-17bb-44a1-9b5e-629a4a35eac8",
   "metadata": {},
   "outputs": [
    {
     "name": "stdout",
     "output_type": "stream",
     "text": [
      "Es joven\n"
     ]
    }
   ],
   "source": [
    "# Lo anterior tambien puede hacerse como \n",
    "edad = 24\n",
    "if edad >= 60:\n",
    "    print(\"Adulto mayor\")\n",
    "elif edad >= 27:\n",
    "    print(\"Adulto\")\n",
    "elif edad >= 12:\n",
    "    print(\"Es joven\")\n",
    "else:\n",
    "    print(\"Es niño\")"
   ]
  },
  {
   "cell_type": "markdown",
   "id": "70c5f9b7-8f07-4709-82e8-d02f619bb709",
   "metadata": {},
   "source": [
    "# while\n",
    "Esta sentencia se entiende en español como \"mientras sea verdad\". Este ciclo se repite mientras la condición sea verdadera. "
   ]
  },
  {
   "cell_type": "code",
   "execution_count": 31,
   "id": "eb891022-2277-45a5-9a27-2b28ef8eba7d",
   "metadata": {},
   "outputs": [
    {
     "name": "stdout",
     "output_type": "stream",
     "text": [
      "1024\n",
      "5\n",
      "4  a la  4  es  256\n"
     ]
    }
   ],
   "source": [
    "# ¿Cual es la potencia de 4 mas grande que 817?\n",
    "i = 4\n",
    "n = 1\n",
    "\n",
    "while i < 817:\n",
    "    i = 4**n\n",
    "    n = n+1\n",
    "print(i)\n",
    "print(n-1)\n",
    "print(4,\" a la \", n-2, \" es \", 4**(n-2))"
   ]
  },
  {
   "cell_type": "code",
   "execution_count": 30,
   "id": "70132420-f042-4a39-af49-940fc7e09ff0",
   "metadata": {},
   "outputs": [
    {
     "name": "stdout",
     "output_type": "stream",
     "text": [
      "1024\n",
      "5\n"
     ]
    }
   ],
   "source": [
    "# Analogo\n",
    "i = 4\n",
    "n = 1\n",
    "\n",
    "while i < 817:\n",
    "    i = 4*i\n",
    "    n = n+1\n",
    "print(i)\n",
    "print(n)"
   ]
  },
  {
   "cell_type": "markdown",
   "id": "d7152ecf-6e1f-4e85-8548-1dd599e9c1d9",
   "metadata": {},
   "source": [
    "# for\n",
    "Es un bucle de longitud controlada que nos permite repetir instrucciones de manera que no tengamos que hacerlas manualmente cada vez que se requiera. ESto se hace en una sución de elementos, esto lo podemos combinar con listas o tablas. \n",
    "\n",
    "- Las palabras pueden ser una sucesión. Las palabras son cadenas fijas.\n",
    "- Tenemos una variable local, que funciona como contador, esta variable local es libre, pude ser tanto una letra como una variable o una sucesión de simbolos mientras no sea una palabra recervada. "
   ]
  },
  {
   "cell_type": "code",
   "execution_count": 35,
   "id": "91719766-488b-434f-8724-b9e39900badc",
   "metadata": {},
   "outputs": [
    {
     "name": "stdout",
     "output_type": "stream",
     "text": [
      "p, a, l, a, b, r, a, "
     ]
    }
   ],
   "source": [
    "for letra in \"palabra\":\n",
    "    print(letra, end = \", \")"
   ]
  },
  {
   "cell_type": "code",
   "execution_count": 36,
   "id": "a1c9b682-a6aa-40d7-94bf-aa214057f6c3",
   "metadata": {},
   "outputs": [
    {
     "ename": "SyntaxError",
     "evalue": "invalid syntax (3962149507.py, line 1)",
     "output_type": "error",
     "traceback": [
      "\u001b[1;36m  Input \u001b[1;32mIn [36]\u001b[1;36m\u001b[0m\n\u001b[1;33m    for & in \"palabra\":\u001b[0m\n\u001b[1;37m        ^\u001b[0m\n\u001b[1;31mSyntaxError\u001b[0m\u001b[1;31m:\u001b[0m invalid syntax\n"
     ]
    }
   ],
   "source": [
    "for & in \"palabra\":\n",
    "    print(&, end = \", \")"
   ]
  },
  {
   "cell_type": "code",
   "execution_count": 39,
   "id": "96e40dee-09e4-4962-93e9-2bada77d69aa",
   "metadata": {},
   "outputs": [
    {
     "name": "stdout",
     "output_type": "stream",
     "text": [
      "p, a, l, a, b, r, a, "
     ]
    }
   ],
   "source": [
    "for cualquier_variable_adecuada in \"palabra\":\n",
    "    print(cualquier_variable_adecuada, end = \", \")"
   ]
  },
  {
   "cell_type": "code",
   "execution_count": 49,
   "id": "a5f45b16-1adb-45aa-9ed9-f1cf74f9274e",
   "metadata": {},
   "outputs": [
    {
     "name": "stdout",
     "output_type": "stream",
     "text": [
      "120\n"
     ]
    }
   ],
   "source": [
    "# Calcular el factorial de un numero dado.\n",
    "n = 5\n",
    "fac = 1\n",
    "for i in range(1,n+1):\n",
    "    fac*=i\n",
    "print(j)"
   ]
  },
  {
   "cell_type": "code",
   "execution_count": 52,
   "id": "1e55dd1c-2bee-47d6-8327-c58b208ededd",
   "metadata": {},
   "outputs": [
    {
     "name": "stdout",
     "output_type": "stream",
     "text": [
      "0, 1, 2, 3, 4, "
     ]
    }
   ],
   "source": [
    "# Python es de indice cero. \n",
    "for j in range(0,5):\n",
    "    print(j, end= \", \")"
   ]
  },
  {
   "cell_type": "code",
   "execution_count": 54,
   "id": "cf7dffa9-9000-4260-8b59-50c08a36a7db",
   "metadata": {},
   "outputs": [
    {
     "name": "stdout",
     "output_type": "stream",
     "text": [
      "1, 2, 3, 4, "
     ]
    }
   ],
   "source": [
    "# Python es de indice cero. \n",
    "for j in range(1,5):\n",
    "    print(j, end= \", \")"
   ]
  },
  {
   "cell_type": "code",
   "execution_count": 56,
   "id": "4d36a923-8242-41df-a82c-916732697876",
   "metadata": {},
   "outputs": [
    {
     "name": "stdout",
     "output_type": "stream",
     "text": [
      "1, 2, 3, 4, 5, 6, 7, 8, "
     ]
    }
   ],
   "source": [
    "for j in range(1,11):\n",
    "    print(j, end = \", \")\n",
    "    if j==8:\n",
    "        break\n"
   ]
  },
  {
   "cell_type": "code",
   "execution_count": null,
   "id": "4309abe4-b6dd-44c2-a25c-4f6a60ab453e",
   "metadata": {},
   "outputs": [],
   "source": []
  }
 ],
 "metadata": {
  "kernelspec": {
   "display_name": "Python 3 (ipykernel)",
   "language": "python",
   "name": "python3"
  },
  "language_info": {
   "codemirror_mode": {
    "name": "ipython",
    "version": 3
   },
   "file_extension": ".py",
   "mimetype": "text/x-python",
   "name": "python",
   "nbconvert_exporter": "python",
   "pygments_lexer": "ipython3",
   "version": "3.8.13"
  }
 },
 "nbformat": 4,
 "nbformat_minor": 5
}
