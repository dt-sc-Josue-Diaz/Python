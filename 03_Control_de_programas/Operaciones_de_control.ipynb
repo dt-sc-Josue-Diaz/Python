{
 "cells": [
  {
   "cell_type": "markdown",
   "id": "ba95aaf0-86dd-43dd-8071-01fdb56dcecb",
   "metadata": {},
   "source": [
    "# Operaciones de control\n",
    "- Condicionales.\n",
    "- Cliclos.\n",
    "- Bucles.\n",
    "\n",
    "Antes de escribir un programa para una computadora nos haga calculos, primero necesitamos resolver el problema y tener en claro la respuesta para así tener los pasos que debemos seguir y por ende la computadora pueda resolver el problema, es el algoritmo lo que una computadora necesita, estas partes del algoritomo son las vamos a programar. "
   ]
  },
  {
   "cell_type": "markdown",
   "id": "d9aca240-95c5-4311-b439-c5d740960577",
   "metadata": {},
   "source": [
    "## Psudocodigo \n",
    "Los pasos que va seguir el programa, puede ser texto, que linea por linea sea el algoritmo que la computadora va a realizar, tambien es importante conocer los diagramas de flujo del programa. En ocaciones esto es mas personal de acuerdo a nuestra necesidad de comprender las partes de un algoritmo y luego de un programa."
   ]
  },
  {
   "cell_type": "markdown",
   "id": "3a9ce07b-4791-40b8-b7db-d9d926787db6",
   "metadata": {},
   "source": [
    "## Control de programa \n",
    "- Ejecuciones secuenciales, las que se siguen linea por linea.\n",
    "- Oraciones de selecciones, cuando se cumplen condiciones solo se ejecuta una parte del código pero no todo. \n",
    "- Oraciones de repetición, las que se repeten de acuerdo a una cantidad fija de veces.\n",
    "\n",
    "Cada uno de ellos tiene su propio tipo de diagrama en psudocódigo así como una utilidad adecuada."
   ]
  },
  {
   "cell_type": "markdown",
   "id": "896f6148-ca4f-4e4c-8d93-b8c02f6cc147",
   "metadata": {},
   "source": [
    "## If\n",
    "Una manera de entenderla es \"si una condición es cierta entonces se hace esto\". Es una sentencia que elavula una condición y si es verdadera ejecuta el código contenido en él.\n",
    "   \n",
    "Cuando la condición es falsa el codigo no se ejecuta. Es importante la indentación si no dará un error. "
   ]
  },
  {
   "cell_type": "code",
   "execution_count": 1,
   "id": "23010fb6-165b-4ccb-b654-e59b18722b9e",
   "metadata": {},
   "outputs": [
    {
     "name": "stdout",
     "output_type": "stream",
     "text": [
      "Posible cliente\n"
     ]
    }
   ],
   "source": [
    "# Un programa que evalua si la edad de un\n",
    "# cliente es potencial para ofrecer un seguro medico.\n",
    "\n",
    "nac = 1994\n",
    "if 2022-nac > 25:\n",
    "    print(\"Posible cliente\")"
   ]
  },
  {
   "cell_type": "code",
   "execution_count": 2,
   "id": "268a372d-f626-4196-8ab1-935910e8c14b",
   "metadata": {},
   "outputs": [],
   "source": [
    "nac = 2002\n",
    "if 2022-nac >25:\n",
    "    print(\"Posible cliente\")"
   ]
  },
  {
   "cell_type": "code",
   "execution_count": 3,
   "id": "fe4e9159-d805-4a93-947a-f20e123c39a8",
   "metadata": {},
   "outputs": [
    {
     "ename": "IndentationError",
     "evalue": "expected an indented block (1166671186.py, line 4)",
     "output_type": "error",
     "traceback": [
      "\u001b[1;36m  Input \u001b[1;32mIn [3]\u001b[1;36m\u001b[0m\n\u001b[1;33m    print(\"Posible cliente\")\u001b[0m\n\u001b[1;37m    ^\u001b[0m\n\u001b[1;31mIndentationError\u001b[0m\u001b[1;31m:\u001b[0m expected an indented block\n"
     ]
    }
   ],
   "source": [
    "# La indentación es importante\n",
    "nac = 1994\n",
    "if 2022-nac >25:\n",
    "print(\"Posible cliente\")\n"
   ]
  },
  {
   "cell_type": "markdown",
   "id": "1d6d1a70-8bba-41c8-b7b9-1fb597a7bfaf",
   "metadata": {},
   "source": [
    "## else if\n",
    "Es una instruccion mas compleja que el if, se entiende como otra acción a realizar en caso de que la condición en if sea falsa es decir, lo usamos cuando podemos en una sentencia tener mas casos que uno booleano.\n",
    "\n",
    "- Es importante notar que van dos puntos depues, *else:*\n",
    "- La indentación se pone con el if. Pero su codigo lleva indentación. \n",
    "- Las operaciones en *if* pueden ser variadas. "
   ]
  },
  {
   "cell_type": "code",
   "execution_count": 4,
   "id": "c705a314-7037-4c21-916c-0c93613e20e7",
   "metadata": {},
   "outputs": [
    {
     "name": "stdout",
     "output_type": "stream",
     "text": [
      "Posible cliente\n"
     ]
    }
   ],
   "source": [
    "# Modificar el codigo anterior\n",
    "nac = 1994\n",
    "if 2022-nac >= 25:\n",
    "    print(\"Posible cliente\")\n",
    "else:\n",
    "    print(\"No es cliente\")   "
   ]
  },
  {
   "cell_type": "code",
   "execution_count": 5,
   "id": "d5ef7cdf-b7ea-4169-aedd-d185fb30e407",
   "metadata": {},
   "outputs": [
    {
     "name": "stdout",
     "output_type": "stream",
     "text": [
      "Es joven\n"
     ]
    }
   ],
   "source": [
    "edad = 24\n",
    "if edad < 12:\n",
    "    print(\"Es un niño\")\n",
    "elif edad < 27:\n",
    "    print(\"Es joven\")\n",
    "elif edad < 60:\n",
    "    print(\"Es adulto\")\n",
    "else: \n",
    "    print(\"Adulto mayor\")\n",
    "    "
   ]
  },
  {
   "cell_type": "code",
   "execution_count": 6,
   "id": "e7a36639-17bb-44a1-9b5e-629a4a35eac8",
   "metadata": {},
   "outputs": [
    {
     "name": "stdout",
     "output_type": "stream",
     "text": [
      "Es joven\n"
     ]
    }
   ],
   "source": [
    "# Lo anterior tambien puede hacerse como \n",
    "edad = 24\n",
    "if edad >= 60:\n",
    "    print(\"Adulto mayor\")\n",
    "elif edad >= 27:\n",
    "    print(\"Adulto\")\n",
    "elif edad >= 12:\n",
    "    print(\"Es joven\")\n",
    "else:\n",
    "    print(\"Es niño\")"
   ]
  },
  {
   "cell_type": "markdown",
   "id": "70c5f9b7-8f07-4709-82e8-d02f619bb709",
   "metadata": {},
   "source": [
    "# while\n",
    "Esta sentencia se entiende en español como \"mientras sea verdad vuelve a realizar la acción\". Este ciclo se repite mientras la condición sea verdadera. Es de cuidado por que si la condición nunca es falsa entonces jamás se podrá salir del ciclo. "
   ]
  },
  {
   "cell_type": "code",
   "execution_count": 7,
   "id": "eb891022-2277-45a5-9a27-2b28ef8eba7d",
   "metadata": {},
   "outputs": [
    {
     "name": "stdout",
     "output_type": "stream",
     "text": [
      "1024\n",
      "5\n",
      "4  a la  4  es  256\n"
     ]
    }
   ],
   "source": [
    "# ¿Cual es la potencia de 4 mas grande que 817?\n",
    "i = 4\n",
    "n = 1\n",
    "\n",
    "while i < 817:\n",
    "    i = 4**n\n",
    "    n = n+1\n",
    "print(i)\n",
    "print(n-1)\n",
    "print(4,\" a la \", n-2, \" es \", 4**(n-2))"
   ]
  },
  {
   "cell_type": "code",
   "execution_count": 8,
   "id": "70132420-f042-4a39-af49-940fc7e09ff0",
   "metadata": {},
   "outputs": [
    {
     "name": "stdout",
     "output_type": "stream",
     "text": [
      "1024\n",
      "5\n"
     ]
    }
   ],
   "source": [
    "# Analogo\n",
    "i = 4\n",
    "n = 1\n",
    "\n",
    "while i < 817:\n",
    "    i = 4*i\n",
    "    n = n+1\n",
    "print(i)\n",
    "print(n)"
   ]
  },
  {
   "cell_type": "markdown",
   "id": "d7152ecf-6e1f-4e85-8548-1dd599e9c1d9",
   "metadata": {},
   "source": [
    "# for\n",
    "Es un bucle de longitud controlada que nos permite repetir instrucciones de manera que no tengamos que hacerlas manualmente cada vez que se requiera. Esto se hace en una sucesión de elementos, esto lo podemos combinar con listas o tablas. \n",
    "\n",
    "- Las palabras pueden ser una sucesión. Las palabras son cadenas fijas.\n",
    "- Tenemos una variable local, que funciona como contador, esta variable local es libre, pude ser tanto una letra como una variable o una sucesión de simbolos mientras no sea una palabra recervada. "
   ]
  },
  {
   "cell_type": "code",
   "execution_count": 9,
   "id": "91719766-488b-434f-8724-b9e39900badc",
   "metadata": {},
   "outputs": [
    {
     "name": "stdout",
     "output_type": "stream",
     "text": [
      "p, a, l, a, b, r, a, "
     ]
    }
   ],
   "source": [
    "for letra in \"palabra\":\n",
    "    print(letra, end = \", \")"
   ]
  },
  {
   "cell_type": "code",
   "execution_count": 10,
   "id": "a1c9b682-a6aa-40d7-94bf-aa214057f6c3",
   "metadata": {},
   "outputs": [
    {
     "ename": "SyntaxError",
     "evalue": "invalid syntax (3962149507.py, line 1)",
     "output_type": "error",
     "traceback": [
      "\u001b[1;36m  Input \u001b[1;32mIn [10]\u001b[1;36m\u001b[0m\n\u001b[1;33m    for & in \"palabra\":\u001b[0m\n\u001b[1;37m        ^\u001b[0m\n\u001b[1;31mSyntaxError\u001b[0m\u001b[1;31m:\u001b[0m invalid syntax\n"
     ]
    }
   ],
   "source": [
    "for & in \"palabra\":\n",
    "    print(&, end = \", \")"
   ]
  },
  {
   "cell_type": "code",
   "execution_count": 11,
   "id": "96e40dee-09e4-4962-93e9-2bada77d69aa",
   "metadata": {},
   "outputs": [
    {
     "name": "stdout",
     "output_type": "stream",
     "text": [
      "p, a, l, a, b, r, a, "
     ]
    }
   ],
   "source": [
    "for cualquier_variable_adecuada in \"palabra\":\n",
    "    print(cualquier_variable_adecuada, end = \", \")"
   ]
  },
  {
   "cell_type": "code",
   "execution_count": 12,
   "id": "a5f45b16-1adb-45aa-9ed9-f1cf74f9274e",
   "metadata": {},
   "outputs": [
    {
     "name": "stdout",
     "output_type": "stream",
     "text": [
      "5040\n"
     ]
    }
   ],
   "source": [
    "# Calcular el factorial de un numero dado.\n",
    "n = 7\n",
    "fac = 1\n",
    "\n",
    "for i in range(1,n+1):\n",
    "    fac*=i\n",
    "print(fac)"
   ]
  },
  {
   "cell_type": "markdown",
   "id": "49cf3be8-91cd-46c3-aac8-40ace2210d6c",
   "metadata": {},
   "source": [
    "Python es de indice cero."
   ]
  },
  {
   "cell_type": "code",
   "execution_count": 13,
   "id": "1e55dd1c-2bee-47d6-8327-c58b208ededd",
   "metadata": {},
   "outputs": [
    {
     "name": "stdout",
     "output_type": "stream",
     "text": [
      "0, 1, 2, 3, 4, "
     ]
    }
   ],
   "source": [
    "for j in range(0,5):\n",
    "    print(j, end= \", \")"
   ]
  },
  {
   "cell_type": "code",
   "execution_count": 14,
   "id": "cf7dffa9-9000-4260-8b59-50c08a36a7db",
   "metadata": {},
   "outputs": [
    {
     "name": "stdout",
     "output_type": "stream",
     "text": [
      "1, 2, 3, 4, "
     ]
    }
   ],
   "source": [
    "for j in range(1,5):\n",
    "    print(j, end= \", \")"
   ]
  },
  {
   "cell_type": "markdown",
   "id": "790e9873-9013-461d-b91a-cd3ce365632e",
   "metadata": {},
   "source": [
    "La función *range* nos da una sucesión de números. La función *break* nos permite romper las instrucciones del ciclo. "
   ]
  },
  {
   "cell_type": "code",
   "execution_count": 15,
   "id": "4d36a923-8242-41df-a82c-916732697876",
   "metadata": {},
   "outputs": [
    {
     "name": "stdout",
     "output_type": "stream",
     "text": [
      "1, 2, 3, 4, 5, 6, 7, 8, "
     ]
    }
   ],
   "source": [
    "for j in range(1,11):\n",
    "    print(j, end = \", \")\n",
    "    if j==8:\n",
    "        break"
   ]
  },
  {
   "cell_type": "code",
   "execution_count": 16,
   "id": "4309abe4-b6dd-44c2-a25c-4f6a60ab453e",
   "metadata": {},
   "outputs": [
    {
     "data": {
      "text/plain": [
       "132.5"
      ]
     },
     "execution_count": 16,
     "metadata": {},
     "output_type": "execute_result"
    }
   ],
   "source": [
    "# Calcular la media de una lista de datos. \n",
    "lista = [130, 85, 210, 45, 153, 78.5,264.5,94]\n",
    "suma = 0\n",
    "longitud = 0\n",
    "for j in lista:\n",
    "    suma += j\n",
    "    longitud += 1\n",
    "promedio = suma/longitud\n",
    "promedio"
   ]
  },
  {
   "cell_type": "code",
   "execution_count": 17,
   "id": "40412d3e-9c79-44d8-8847-c901cc2043d1",
   "metadata": {},
   "outputs": [
    {
     "name": "stdout",
     "output_type": "stream",
     "text": [
      "El saldo en el año  1  es  10800.0\n",
      "El saldo en el año  2  es  11664.0\n",
      "El saldo en el año  3  es  12597.12\n",
      "El saldo en el año  4  es  13604.8896\n",
      "El saldo en el año  5  es  14693.280768\n",
      "El saldo en el año  6  es  15868.74322944\n",
      "El saldo en el año  7  es  17138.242687795202\n",
      "El saldo en el año  8  es  18509.30210281882\n",
      "El saldo en el año  9  es  19990.046271044324\n",
      "El saldo en el año  10  es  21589.24997272787\n",
      "21589.24997272787\n"
     ]
    }
   ],
   "source": [
    "# Calcular el interes compuesto de los ahorros de una persona. \n",
    "saldo = 10000\n",
    "interes = .08\n",
    "\n",
    "for i in range(1,11):\n",
    "    saldo += saldo*interes\n",
    "    print(\"El saldo en el año \", i, \" es \", saldo)\n",
    "print(saldo)"
   ]
  },
  {
   "cell_type": "code",
   "execution_count": 18,
   "id": "f2e6b893-d42c-492f-92c3-4b7b1ce3bcbe",
   "metadata": {},
   "outputs": [
    {
     "name": "stdin",
     "output_type": "stream",
     "text": [
      "Resultado de la venta,1 si di mayor a 200, 2 si fue menor 1\n",
      "Resultado de la venta,1 si di mayor a 200, 2 si fue menor 2\n",
      "Resultado de la venta,1 si di mayor a 200, 2 si fue menor 1\n",
      "Resultado de la venta,1 si di mayor a 200, 2 si fue menor 2\n",
      "Resultado de la venta,1 si di mayor a 200, 2 si fue menor 1\n",
      "Resultado de la venta,1 si di mayor a 200, 2 si fue menor 2\n",
      "Resultado de la venta,1 si di mayor a 200, 2 si fue menor 1\n",
      "Resultado de la venta,1 si di mayor a 200, 2 si fue menor 1\n"
     ]
    },
    {
     "name": "stdout",
     "output_type": "stream",
     "text": [
      "La cantidad de clientes que rebasaron fue 5\n",
      "La cantidad de clientes que no rebasaron fue 3\n",
      "Se da premio\n"
     ]
    }
   ],
   "source": [
    "rebasados= 0\n",
    "no_rebasados=0\n",
    "for i in range(1,9):\n",
    "    resultado = int(input(\"Resultado de la venta,1 si di mayor a 200, 2 si fue menor\"))\n",
    "    if resultado == 1:\n",
    "        rebasados += 1\n",
    "    else:\n",
    "        no_rebasados += 1\n",
    "print(\"La cantidad de clientes que rebasaron fue\", rebasados)\n",
    "print(\"La cantidad de clientes que no rebasaron fue\", no_rebasados)\n",
    "\n",
    "if rebasados > 4:\n",
    "    print(\"Se da premio\")\n",
    "else:\n",
    "    print(\"No se da premio\")\n",
    "    "
   ]
  },
  {
   "cell_type": "markdown",
   "id": "c23c8e16-7564-4b5e-94d2-f6268c43ab1f",
   "metadata": {},
   "source": [
    "## Operadores Booleanos\n",
    "- Son operadores \"o\" e \"y\". Como la inteserccion o uniones de conjuntos.  \n",
    "- Son los operadores *and* y *or*. and evalua 2 condiciones si ambas tiene el valor de verdad entonces se tiene un valor de verdad. Si uno de ellos tiene un valor falso, se tiene un valor falso. El operador *or* evalua dos condiciones, pero solo es necesario que una de las condiciones sea verdadera para devolver el valor de verdad. Devuelve el valor falso si ambas condiciones son falsas. "
   ]
  },
  {
   "cell_type": "code",
   "execution_count": 19,
   "id": "ecf336b4-60c5-45e5-8c18-7ed737733e23",
   "metadata": {},
   "outputs": [
    {
     "name": "stdout",
     "output_type": "stream",
     "text": [
      "Posible cliente\n"
     ]
    }
   ],
   "source": [
    "# Programa que calcula el posible cliente de acuerdo a su salario\n",
    "\n",
    "registro = \"si\"\n",
    "salario_mensual = 21000\n",
    "\n",
    "if registro == \"si\" and salario_mensual >=20000:\n",
    "    print(\"Posible cliente\")\n",
    "else:\n",
    "    print(\"Descartar\")"
   ]
  },
  {
   "cell_type": "code",
   "execution_count": 20,
   "id": "3283427a-28f1-4769-baaa-47ceb537997f",
   "metadata": {},
   "outputs": [
    {
     "name": "stdout",
     "output_type": "stream",
     "text": [
      "No es candidato\n"
     ]
    }
   ],
   "source": [
    "# Programa que calcula la viavilidad \n",
    "#de un candidato por experiencia labora o tiene titulo\n",
    "titulo = \"no\"\n",
    "experiencia = 3\n",
    "\n",
    "if titulo == \"si\" or experiencia >=5:\n",
    "    print(\"Es canditato\")\n",
    "else:\n",
    "    print(\"No es candidato\")"
   ]
  }
 ],
 "metadata": {
  "kernelspec": {
   "display_name": "Python 3 (ipykernel)",
   "language": "python",
   "name": "python3"
  },
  "language_info": {
   "codemirror_mode": {
    "name": "ipython",
    "version": 3
   },
   "file_extension": ".py",
   "mimetype": "text/x-python",
   "name": "python",
   "nbconvert_exporter": "python",
   "pygments_lexer": "ipython3",
   "version": "3.8.13"
  }
 },
 "nbformat": 4,
 "nbformat_minor": 5
}
