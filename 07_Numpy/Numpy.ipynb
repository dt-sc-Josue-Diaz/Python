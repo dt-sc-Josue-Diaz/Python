{
 "cells": [
  {
   "cell_type": "markdown",
   "id": "7d1a45d7-7a41-4970-8cc8-3a4397ec5fe2",
   "metadata": {},
   "source": [
    "# Numpy, \n",
    "Numerical python. Los arreglos son más rapidos que las listas. Es de las principales librerias en ciencias de datos es base para SciPy y Pandas. "
   ]
  },
  {
   "cell_type": "markdown",
   "id": "59a6b1c1-f14a-4dde-88d9-7505b5c8580a",
   "metadata": {},
   "source": [
    "## Arreglos\n",
    "Un arreglo en Numpy se define como \n",
    "`np.array()`"
   ]
  },
  {
   "cell_type": "code",
   "execution_count": 2,
   "id": "9da6ab38-a481-4d31-9748-1db0543b8a98",
   "metadata": {},
   "outputs": [],
   "source": [
    "import numpy as np\n",
    "import random"
   ]
  },
  {
   "cell_type": "code",
   "execution_count": 2,
   "id": "34dca04a-a2c4-4f3e-842a-41841aa22c85",
   "metadata": {},
   "outputs": [
    {
     "data": {
      "text/plain": [
       "array([  1,   2,   6,  24, 120, 720])"
      ]
     },
     "execution_count": 2,
     "metadata": {},
     "output_type": "execute_result"
    }
   ],
   "source": [
    "# Ejemplo, los numeros factoriales\n",
    "factorial = np.array([1,2,6,24,120,720])\n",
    "factorial"
   ]
  },
  {
   "cell_type": "code",
   "execution_count": 3,
   "id": "35d66b37-8a86-4fc1-a9c1-a9d6eaa5cc3b",
   "metadata": {},
   "outputs": [
    {
     "data": {
      "text/plain": [
       "numpy.ndarray"
      ]
     },
     "execution_count": 3,
     "metadata": {},
     "output_type": "execute_result"
    }
   ],
   "source": [
    "# tipo de objeto\n",
    "type(factorial)"
   ]
  },
  {
   "cell_type": "code",
   "execution_count": 4,
   "id": "13236985-a7db-4dd0-8686-d52fc6f95735",
   "metadata": {},
   "outputs": [
    {
     "data": {
      "text/plain": [
       "array([[ 3,  4],\n",
       "       [ 6,  7],\n",
       "       [10, 11]])"
      ]
     },
     "execution_count": 4,
     "metadata": {},
     "output_type": "execute_result"
    }
   ],
   "source": [
    "# Arreglos multidimencionales. \n",
    "# Los corchetes definen las filas, las entradas de los corchetes definen las columas\n",
    "np.array([[3,4],[6,7],[10,11]])"
   ]
  },
  {
   "cell_type": "code",
   "execution_count": 5,
   "id": "67230470-c6e0-40e7-980f-31d742550e40",
   "metadata": {},
   "outputs": [],
   "source": [
    "impares = np.array([n for n in range(1, 30,2)])"
   ]
  },
  {
   "cell_type": "markdown",
   "id": "e8219bc2-1783-4f40-813f-9682ef7c810a",
   "metadata": {},
   "source": [
    "## Atributos de arreglos\n",
    "Las cosas que podemos conocer de los arreglos. "
   ]
  },
  {
   "cell_type": "code",
   "execution_count": 6,
   "id": "221da5ff-36da-4152-9d37-b37c1ed4419b",
   "metadata": {},
   "outputs": [],
   "source": [
    "enteros = np.array([[9,10,11,12],[8,7,6,5]])"
   ]
  },
  {
   "cell_type": "code",
   "execution_count": 7,
   "id": "01dde47c-d785-4718-90a4-e365ad614bcf",
   "metadata": {},
   "outputs": [],
   "source": [
    "flotantes=np.array([[9**(1/2),10**(1/2),3.33,],[10/3,3.4,3.03]])"
   ]
  },
  {
   "cell_type": "code",
   "execution_count": 8,
   "id": "227cb43e-18ea-45df-8a7d-fcf4dc4b8d59",
   "metadata": {},
   "outputs": [
    {
     "data": {
      "text/plain": [
       "dtype('int32')"
      ]
     },
     "execution_count": 8,
     "metadata": {},
     "output_type": "execute_result"
    }
   ],
   "source": [
    "enteros.dtype"
   ]
  },
  {
   "cell_type": "code",
   "execution_count": 9,
   "id": "fbbbca02-9acb-48e3-908f-8223725befda",
   "metadata": {},
   "outputs": [
    {
     "data": {
      "text/plain": [
       "dtype('float64')"
      ]
     },
     "execution_count": 9,
     "metadata": {},
     "output_type": "execute_result"
    }
   ],
   "source": [
    "flotantes.dtype\n"
   ]
  },
  {
   "cell_type": "code",
   "execution_count": 10,
   "id": "61d1ee4f-f5f5-4f50-a23c-41bbf4bdf256",
   "metadata": {},
   "outputs": [
    {
     "data": {
      "text/plain": [
       "2"
      ]
     },
     "execution_count": 10,
     "metadata": {},
     "output_type": "execute_result"
    }
   ],
   "source": [
    "# Dimensiones de un arreglo. \n",
    "enteros.ndim"
   ]
  },
  {
   "cell_type": "code",
   "execution_count": 11,
   "id": "06b698b0-085a-4543-a694-761c789a93f8",
   "metadata": {},
   "outputs": [
    {
     "data": {
      "text/plain": [
       "(2, 4)"
      ]
     },
     "execution_count": 11,
     "metadata": {},
     "output_type": "execute_result"
    }
   ],
   "source": [
    "# Cantidad de filas y de columnas. \n",
    "enteros.shape"
   ]
  },
  {
   "cell_type": "code",
   "execution_count": 12,
   "id": "e79a8ebf-f7a9-419b-bf0d-f13bc664b636",
   "metadata": {},
   "outputs": [
    {
     "data": {
      "text/plain": [
       "2"
      ]
     },
     "execution_count": 12,
     "metadata": {},
     "output_type": "execute_result"
    }
   ],
   "source": [
    "flotantes.ndim"
   ]
  },
  {
   "cell_type": "code",
   "execution_count": 13,
   "id": "fa339705-6079-45a5-ac92-3eb2e06e31b4",
   "metadata": {},
   "outputs": [
    {
     "data": {
      "text/plain": [
       "(2, 3)"
      ]
     },
     "execution_count": 13,
     "metadata": {},
     "output_type": "execute_result"
    }
   ],
   "source": [
    "flotantes.shape"
   ]
  },
  {
   "cell_type": "code",
   "execution_count": 14,
   "id": "37e544a6-ccfb-4926-bbcc-341fb0344813",
   "metadata": {},
   "outputs": [
    {
     "data": {
      "text/plain": [
       "8"
      ]
     },
     "execution_count": 14,
     "metadata": {},
     "output_type": "execute_result"
    }
   ],
   "source": [
    "enteros.size"
   ]
  },
  {
   "cell_type": "code",
   "execution_count": 15,
   "id": "abaf7751-5625-400e-8946-92ccec33e40d",
   "metadata": {},
   "outputs": [
    {
     "data": {
      "text/plain": [
       "6"
      ]
     },
     "execution_count": 15,
     "metadata": {},
     "output_type": "execute_result"
    }
   ],
   "source": [
    "flotantes.size"
   ]
  },
  {
   "cell_type": "code",
   "execution_count": 16,
   "id": "30248a17-afea-4746-816b-03fc2c7563b6",
   "metadata": {},
   "outputs": [
    {
     "name": "stdout",
     "output_type": "stream",
     "text": [
      "3.0, 3.1622776601683795, 3.33, 3.3333333333333335, 3.4, 3.03, "
     ]
    }
   ],
   "source": [
    "# Iterar bajo arreglos. Imprimir el resultado de flotantes.\n",
    "for fila in flotantes:\n",
    "    for columna in fila:\n",
    "        print(columna, end = \", \")\n",
    "    print"
   ]
  },
  {
   "cell_type": "markdown",
   "id": "90045ca8-4ff1-42b4-9a5b-d217816ec412",
   "metadata": {},
   "source": [
    "De nuesta compresion de lista tenemos por ejemplo, "
   ]
  },
  {
   "cell_type": "code",
   "execution_count": 17,
   "id": "17f58e11-d0d0-4fbb-8db7-a37eac3c8f26",
   "metadata": {},
   "outputs": [
    {
     "data": {
      "text/plain": [
       "(15,)"
      ]
     },
     "execution_count": 17,
     "metadata": {},
     "output_type": "execute_result"
    }
   ],
   "source": [
    "impares.shape"
   ]
  },
  {
   "cell_type": "code",
   "execution_count": 18,
   "id": "f3421e51-05d0-4319-b582-9194bbb81d5e",
   "metadata": {},
   "outputs": [
    {
     "data": {
      "text/plain": [
       "1"
      ]
     },
     "execution_count": 18,
     "metadata": {},
     "output_type": "execute_result"
    }
   ],
   "source": [
    "impares.ndim"
   ]
  },
  {
   "cell_type": "markdown",
   "id": "bf863333-5d97-4bcb-8c9a-4e9095c1ecb0",
   "metadata": {},
   "source": [
    "## Arreglos desde rangos\n",
    "Es la función que crea arreglos de manera automática, la función es `arange()`, en este caso es con una sola `r`."
   ]
  },
  {
   "cell_type": "code",
   "execution_count": 19,
   "id": "e26c56a4-1ab3-433a-a6b9-729989ee6106",
   "metadata": {},
   "outputs": [
    {
     "data": {
      "text/plain": [
       "array([0, 1, 2, 3, 4, 5, 6, 7])"
      ]
     },
     "execution_count": 19,
     "metadata": {},
     "output_type": "execute_result"
    }
   ],
   "source": [
    "np.arange(8)"
   ]
  },
  {
   "cell_type": "code",
   "execution_count": 20,
   "id": "ce876d9b-803b-4371-8a9a-d44d90f952ce",
   "metadata": {},
   "outputs": [
    {
     "data": {
      "text/plain": [
       "array([3, 4, 5, 6, 7])"
      ]
     },
     "execution_count": 20,
     "metadata": {},
     "output_type": "execute_result"
    }
   ],
   "source": [
    "np.arange(3,8)"
   ]
  },
  {
   "cell_type": "code",
   "execution_count": 21,
   "id": "914dcc18-8284-4aae-b117-c996f0b44763",
   "metadata": {},
   "outputs": [
    {
     "data": {
      "text/plain": [
       "array([12,  9,  6,  3])"
      ]
     },
     "execution_count": 21,
     "metadata": {},
     "output_type": "execute_result"
    }
   ],
   "source": [
    "np.arange(12,2, -3)"
   ]
  },
  {
   "cell_type": "markdown",
   "id": "186e7758-f247-4082-af95-ce4dac7e6933",
   "metadata": {},
   "source": [
    "Vamos a cambiar de función para los decimales. Pero en este caso vamos a necsitar otra función. La función es llamada `linspace()`, el uso de esta función es un poco confuso, `num = ` indicamos la cantidad en la que el intervalo es partido pero comenzando con el numero incial, esto es `num` numericamente divide a un intervalo de valoes en `num -1 `partes, obteniendo los pasos junto al valor inicial."
   ]
  },
  {
   "cell_type": "code",
   "execution_count": 22,
   "id": "c78df7c4-f5be-474f-814e-0d61a105a6b8",
   "metadata": {},
   "outputs": [
    {
     "data": {
      "text/plain": [
       "array([0.  , 0.25, 0.5 , 0.75, 1.  ])"
      ]
     },
     "execution_count": 22,
     "metadata": {},
     "output_type": "execute_result"
    }
   ],
   "source": [
    "# Ejemplo\n",
    "np.linspace(0.0,1.0, num = 5)"
   ]
  },
  {
   "cell_type": "markdown",
   "id": "75325de1-f64c-48bd-8276-de67da63da9b",
   "metadata": {},
   "source": [
    "Así obtenemos 5 valores de haber dividido el intervalo  en 4 partes comenzando en cero. Así para obtner una lista de \"n\" entradas debemos dividir en \"n-1\". Vamos a ver unos métodos, `reashape` nos da la opción de organizar nuestro arreglo de manera dimensional, por ejempo `reashape(i,j)` nos da una matriz de tamaño `(i,j)`."
   ]
  },
  {
   "cell_type": "code",
   "execution_count": 23,
   "id": "443b4002-934e-4432-b430-207430fa7a70",
   "metadata": {},
   "outputs": [
    {
     "data": {
      "text/plain": [
       "array([[21, 20, 19, 18, 17],\n",
       "       [16, 15, 14, 13, 12],\n",
       "       [11, 10,  9,  8,  7],\n",
       "       [ 6,  5,  4,  3,  2]])"
      ]
     },
     "execution_count": 23,
     "metadata": {},
     "output_type": "execute_result"
    }
   ],
   "source": [
    "np.arange(21,1,-1).reshape(4,5)"
   ]
  },
  {
   "cell_type": "markdown",
   "id": "92385d6e-0d2d-44ea-8437-0a85f3204cd2",
   "metadata": {},
   "source": [
    "Uno debe tener la precausión de que la cantidad de datos se ajusta a la cantidad de entradas en el `reshape`."
   ]
  },
  {
   "cell_type": "code",
   "execution_count": 24,
   "id": "9d264247-4c25-4239-85c0-2fe1bca04f34",
   "metadata": {},
   "outputs": [
    {
     "data": {
      "text/plain": [
       "array([[    0,     1,     2, ...,  1997,  1998,  1999],\n",
       "       [ 2000,  2001,  2002, ...,  3997,  3998,  3999],\n",
       "       [ 4000,  4001,  4002, ...,  5997,  5998,  5999],\n",
       "       ...,\n",
       "       [94000, 94001, 94002, ..., 95997, 95998, 95999],\n",
       "       [96000, 96001, 96002, ..., 97997, 97998, 97999],\n",
       "       [98000, 98001, 98002, ..., 99997, 99998, 99999]])"
      ]
     },
     "execution_count": 24,
     "metadata": {},
     "output_type": "execute_result"
    }
   ],
   "source": [
    "# Numpy no muestra todas las columnas, nos da solo una muestra. \n",
    "np.arange(0,100000).reshape(50,2000)"
   ]
  },
  {
   "cell_type": "code",
   "execution_count": 25,
   "id": "09cba948-712a-497c-a71a-ff1eb69145ef",
   "metadata": {},
   "outputs": [
    {
     "data": {
      "text/plain": [
       "array([[42, 44, 46, 48, 50],\n",
       "       [52, 54, 56, 58, 60],\n",
       "       [62, 64, 66, 68, 70],\n",
       "       [72, 74, 76, 78, 80]])"
      ]
     },
     "execution_count": 25,
     "metadata": {},
     "output_type": "execute_result"
    }
   ],
   "source": [
    "np.arange(42,81,2).reshape(4,5)"
   ]
  },
  {
   "cell_type": "markdown",
   "id": "b103ca86-60a6-4ec7-b404-33fc63403e8f",
   "metadata": {},
   "source": [
    "## Velocidad de los arreglos\n",
    "Los arreglos son como las listas, pero la razón de usar arreglos es por la rapidez de su ejecución. Vamos a medir la velocidad de un arreglo con la magia `%timeit`."
   ]
  },
  {
   "cell_type": "code",
   "execution_count": 3,
   "id": "74839c4c-4065-4ccb-8c52-a5327ee6704a",
   "metadata": {},
   "outputs": [
    {
     "name": "stdout",
     "output_type": "stream",
     "text": [
      "6.83 s ± 61.5 ms per loop (mean ± std. dev. of 7 runs, 1 loop each)\n"
     ]
    }
   ],
   "source": [
    "# Simular el lanzamiento de un dado muchas veces.\n",
    "%timeit tiros = [random.randint(1,7) for i in range(0,6000000)]"
   ]
  },
  {
   "cell_type": "code",
   "execution_count": 27,
   "id": "1ab43728-6de0-4c01-a10f-104392ed971b",
   "metadata": {},
   "outputs": [
    {
     "name": "stdout",
     "output_type": "stream",
     "text": [
      "59.2 ms ± 760 µs per loop (mean ± std. dev. of 7 runs, 10 loops each)\n"
     ]
    }
   ],
   "source": [
    "%timeit tiros = np.random.randint(1,7,6000000)"
   ]
  },
  {
   "cell_type": "code",
   "execution_count": 28,
   "id": "88300cc0-1a75-446a-bb9b-7f7578f9d98e",
   "metadata": {},
   "outputs": [
    {
     "name": "stdout",
     "output_type": "stream",
     "text": [
      "789 ms ± 28.1 ms per loop (mean ± std. dev. of 7 runs, 1 loop each)\n"
     ]
    }
   ],
   "source": [
    "# La suma de los numeros del 1 al 9 999 999\n",
    "%timeit sum([n for n in range(0,9999999)])"
   ]
  },
  {
   "cell_type": "code",
   "execution_count": 29,
   "id": "6cbce871-d94b-450d-b76a-ab582577c383",
   "metadata": {},
   "outputs": [
    {
     "name": "stdout",
     "output_type": "stream",
     "text": [
      "16.5 ms ± 971 µs per loop (mean ± std. dev. of 7 runs, 100 loops each)\n"
     ]
    }
   ],
   "source": [
    "%timeit np.arange(0,9999999).sum()"
   ]
  },
  {
   "cell_type": "markdown",
   "id": "0acb360f-76a9-4c68-88a4-842245c0c087",
   "metadata": {},
   "source": [
    "Los arreglos son más rapidos que las listas y nos las usamos en ciencia de datos para optimizar. "
   ]
  },
  {
   "cell_type": "markdown",
   "id": "cb8c14af-dae0-4468-a2f1-e3fdebadae40",
   "metadata": {},
   "source": [
    "## Operaciones con arreglos.\n",
    "Operaciones con los arreglos, esto es muy similar al álgebra lineal. Podemos combianar con las operaciones recursivas tipo `(operacion)=`."
   ]
  },
  {
   "cell_type": "code",
   "execution_count": 30,
   "id": "c8a7af6a-8375-49a4-8d39-1c1c7ae599a4",
   "metadata": {},
   "outputs": [
    {
     "data": {
      "text/plain": [
       "array([ 3,  5,  7,  9, 11, 13, 15])"
      ]
     },
     "execution_count": 30,
     "metadata": {},
     "output_type": "execute_result"
    }
   ],
   "source": [
    "lista = np.arange(2,16,2)\n",
    "lista +1"
   ]
  },
  {
   "cell_type": "code",
   "execution_count": 31,
   "id": "6403269c-6d52-42d7-b6a8-506bb720d028",
   "metadata": {},
   "outputs": [
    {
     "data": {
      "text/plain": [
       "array([ 6, 12, 18, 24, 30, 36, 42])"
      ]
     },
     "execution_count": 31,
     "metadata": {},
     "output_type": "execute_result"
    }
   ],
   "source": [
    "lista * 3"
   ]
  },
  {
   "cell_type": "code",
   "execution_count": 32,
   "id": "6aee2c17-94d4-4c2b-a3a1-41886a25e277",
   "metadata": {},
   "outputs": [
    {
     "data": {
      "text/plain": [
       "array([1.41421356, 2.        , 2.44948974, 2.82842712, 3.16227766,\n",
       "       3.46410162, 3.74165739])"
      ]
     },
     "execution_count": 32,
     "metadata": {},
     "output_type": "execute_result"
    }
   ],
   "source": [
    "lista **(1/2) "
   ]
  },
  {
   "cell_type": "markdown",
   "id": "03e2e0cd-0159-4dd2-b078-91a3101b64d7",
   "metadata": {},
   "source": [
    "En este tipo de operaciones se realizan entrada a entrada. Sin embargo esto no modifica al arreglo original. Salvo como una redifinición."
   ]
  },
  {
   "cell_type": "code",
   "execution_count": 33,
   "id": "571e1495-9784-4b98-bb19-536877f1fa5b",
   "metadata": {},
   "outputs": [
    {
     "data": {
      "text/plain": [
       "array([ 1,  3,  5,  7,  9, 11, 13])"
      ]
     },
     "execution_count": 33,
     "metadata": {},
     "output_type": "execute_result"
    }
   ],
   "source": [
    "lista -= 1\n",
    "lista"
   ]
  },
  {
   "cell_type": "markdown",
   "id": "e894e6b6-2c4c-4c42-85ef-6c4da5bd3787",
   "metadata": {},
   "source": [
    "No solo podemos modificar un arreglo redefiniendolo de manera recursiva, tambien podemos hacer nuevos arreglos de otros arreglos. Esto es, operar entre arreglos. "
   ]
  },
  {
   "cell_type": "code",
   "execution_count": 34,
   "id": "191478e1-0f4f-4878-bf6b-01ba0ca3a4d6",
   "metadata": {},
   "outputs": [],
   "source": [
    "# Definimos las lista a usar. \n",
    "lista1 = np.arange(2,18,3)\n",
    "lista2 = np.linspace(-2,20,6)\n"
   ]
  },
  {
   "cell_type": "code",
   "execution_count": 35,
   "id": "2003049e-93a2-4526-aa02-fcb088411c3a",
   "metadata": {},
   "outputs": [
    {
     "data": {
      "text/plain": [
       "array([ 4. ,  2.6,  1.2, -0.2, -1.6, -3. ])"
      ]
     },
     "execution_count": 35,
     "metadata": {},
     "output_type": "execute_result"
    }
   ],
   "source": [
    "# Esta operación es entrada entrada. En este caso la cantidad de entradas coincide. \n",
    "lista1-lista2"
   ]
  },
  {
   "cell_type": "code",
   "execution_count": 36,
   "id": "fdf3aa1b-39e0-401e-8ff9-e9fe5be36478",
   "metadata": {},
   "outputs": [
    {
     "data": {
      "text/plain": [
       "array([ True,  True,  True, False, False, False])"
      ]
     },
     "execution_count": 36,
     "metadata": {},
     "output_type": "execute_result"
    }
   ],
   "source": [
    "# Operaciones lógicas\n",
    "lista1 > lista2"
   ]
  },
  {
   "cell_type": "markdown",
   "id": "522c936f-298e-4720-9c37-44a7c1a92a8d",
   "metadata": {},
   "source": [
    "Se realiza la comparación entrada entrada, cuando se cumple la condición nos da `True` si no `False`. "
   ]
  },
  {
   "cell_type": "code",
   "execution_count": 37,
   "id": "db19e527-6a1d-40aa-91a7-c42c76332677",
   "metadata": {},
   "outputs": [
    {
     "data": {
      "text/plain": [
       "array([False, False, False, False, False, False])"
      ]
     },
     "execution_count": 37,
     "metadata": {},
     "output_type": "execute_result"
    }
   ],
   "source": [
    "lista1 == lista2"
   ]
  },
  {
   "cell_type": "code",
   "execution_count": null,
   "id": "ac73343b-a7c9-439e-88ef-2f64576a0781",
   "metadata": {},
   "outputs": [],
   "source": [
    "cuadrados = arange(1,6)\n",
    "cuadrados **2=  "
   ]
  },
  {
   "cell_type": "markdown",
   "id": "27cf4bb5-7034-4c29-adf5-b45c477307ba",
   "metadata": {},
   "source": [
    "## Métodos estadísticos\n",
    "Son los métodos que vienen en Numpy para realizar ciertos calculos de estadistica descriptiva. Nota que las funciones llevan los parentesis. "
   ]
  },
  {
   "cell_type": "code",
   "execution_count": 38,
   "id": "fa71d67c-2afb-410d-99a7-0c5595e429b0",
   "metadata": {},
   "outputs": [],
   "source": [
    "ventas = np.array( [[554,606,710,851],[1244,898,416,1763],[841,655,1105,1067]])"
   ]
  },
  {
   "cell_type": "code",
   "execution_count": 39,
   "id": "5d810dff-5396-4347-81ce-7e95d44224f6",
   "metadata": {},
   "outputs": [
    {
     "data": {
      "text/plain": [
       "10710"
      ]
     },
     "execution_count": 39,
     "metadata": {},
     "output_type": "execute_result"
    }
   ],
   "source": [
    "# Suma de los elementos en el array\n",
    "ventas.sum()"
   ]
  },
  {
   "cell_type": "code",
   "execution_count": 40,
   "id": "4592cddb-03d8-476e-a29f-e722610137dc",
   "metadata": {},
   "outputs": [
    {
     "data": {
      "text/plain": [
       "416"
      ]
     },
     "execution_count": 40,
     "metadata": {},
     "output_type": "execute_result"
    }
   ],
   "source": [
    "# El minimo valor en el array\n",
    "ventas.min()"
   ]
  },
  {
   "cell_type": "code",
   "execution_count": 41,
   "id": "a9eb1f3e-6559-4df3-a12c-85bd0e82c537",
   "metadata": {},
   "outputs": [
    {
     "data": {
      "text/plain": [
       "892.5"
      ]
     },
     "execution_count": 41,
     "metadata": {},
     "output_type": "execute_result"
    }
   ],
   "source": [
    "# La media de los datos\n",
    "ventas.mean()"
   ]
  },
  {
   "cell_type": "code",
   "execution_count": 42,
   "id": "0162cf30-2cee-40da-9213-778dd19159ba",
   "metadata": {},
   "outputs": [
    {
     "data": {
      "text/plain": [
       "350.56656524355924"
      ]
     },
     "execution_count": 42,
     "metadata": {},
     "output_type": "execute_result"
    }
   ],
   "source": [
    "# La desviación estándar de los datos\n",
    "ventas.std()"
   ]
  },
  {
   "cell_type": "code",
   "execution_count": 43,
   "id": "0c44ac14-a1e5-46e5-8fa2-4ad87e07f5cf",
   "metadata": {},
   "outputs": [
    {
     "data": {
      "text/plain": [
       "122896.91666666667"
      ]
     },
     "execution_count": 43,
     "metadata": {},
     "output_type": "execute_result"
    }
   ],
   "source": [
    "# La varianza de los datos\n",
    "ventas.var()"
   ]
  },
  {
   "cell_type": "markdown",
   "id": "8fa2e7ad-d593-46cd-b62b-1e2fb242be42",
   "metadata": {},
   "source": [
    "También podemos hacer esto por columnas o por filas en arreglos de mayor dimensión. Recordando que Python es lenguaje de indice cero. El paràmetro `axis = `nos da si es por fila o por columnas, esto es, 0 columnas y 1 para filas. Esto se usa mucho en paqueterías como matplotlib."
   ]
  },
  {
   "cell_type": "code",
   "execution_count": 44,
   "id": "83f2d50e-5215-4bfa-b710-e24afedaddc0",
   "metadata": {},
   "outputs": [
    {
     "data": {
      "text/plain": [
       "array([ 879.66666667,  719.66666667,  743.66666667, 1227.        ])"
      ]
     },
     "execution_count": 44,
     "metadata": {},
     "output_type": "execute_result"
    }
   ],
   "source": [
    "ventas.mean(axis=0)"
   ]
  },
  {
   "cell_type": "code",
   "execution_count": 45,
   "id": "370c4f2a-2d70-4265-a54b-f88e37dafdf0",
   "metadata": {},
   "outputs": [
    {
     "data": {
      "text/plain": [
       "array([ 680.25, 1080.25,  917.  ])"
      ]
     },
     "execution_count": 45,
     "metadata": {},
     "output_type": "execute_result"
    }
   ],
   "source": [
    "ventas.mean(axis=1)"
   ]
  },
  {
   "cell_type": "markdown",
   "id": "2f16b90e-d1c1-46a7-be3f-5c20ff1b7984",
   "metadata": {},
   "source": [
    "Las operaciones aritméticas en Numpy son de la siguiente manera. "
   ]
  },
  {
   "cell_type": "code",
   "execution_count": 46,
   "id": "424c0f81-58b4-498b-a9a3-15b10f0edc3e",
   "metadata": {},
   "outputs": [],
   "source": [
    "lista1 = np.arange(0,8)\n",
    "lista2 = np.arange(3,11)"
   ]
  },
  {
   "cell_type": "code",
   "execution_count": 47,
   "id": "a6d4e8fd-9d50-48d7-a3df-b8a2c09ecd5b",
   "metadata": {},
   "outputs": [
    {
     "data": {
      "text/plain": [
       "array([0, 1, 2, 3, 4, 5, 6, 7])"
      ]
     },
     "execution_count": 47,
     "metadata": {},
     "output_type": "execute_result"
    }
   ],
   "source": [
    "lista1"
   ]
  },
  {
   "cell_type": "code",
   "execution_count": 48,
   "id": "2f71d45f-bba6-4879-be7c-7e9398f848c1",
   "metadata": {},
   "outputs": [
    {
     "data": {
      "text/plain": [
       "array([ 3,  4,  5,  6,  7,  8,  9, 10])"
      ]
     },
     "execution_count": 48,
     "metadata": {},
     "output_type": "execute_result"
    }
   ],
   "source": [
    "lista2"
   ]
  },
  {
   "cell_type": "code",
   "execution_count": 49,
   "id": "b47b06c9-49e1-4637-acb3-b496083b10f1",
   "metadata": {},
   "outputs": [
    {
     "data": {
      "text/plain": [
       "array([0.        , 1.        , 1.41421356, 1.73205081, 2.        ,\n",
       "       2.23606798, 2.44948974, 2.64575131])"
      ]
     },
     "execution_count": 49,
     "metadata": {},
     "output_type": "execute_result"
    }
   ],
   "source": [
    "# Raíz de las entradas de un arreglo. \n",
    "np.sqrt(lista1)"
   ]
  },
  {
   "cell_type": "code",
   "execution_count": 50,
   "id": "c29ec9a5-c546-42cc-99c5-ec04a5db1e00",
   "metadata": {},
   "outputs": [
    {
     "data": {
      "text/plain": [
       "array([ 3,  5,  7,  9, 11, 13, 15, 17])"
      ]
     },
     "execution_count": 50,
     "metadata": {},
     "output_type": "execute_result"
    }
   ],
   "source": [
    "# Que es una función que nos devuelve la suma de dos arreglos. \n",
    "np.add(lista1,lista2)"
   ]
  },
  {
   "cell_type": "code",
   "execution_count": 51,
   "id": "1fd47903-5f60-47e0-ac32-e6df1af73a69",
   "metadata": {},
   "outputs": [
    {
     "data": {
      "text/plain": [
       "array([ 6,  8, 10, 12, 14, 16, 18, 20])"
      ]
     },
     "execution_count": 51,
     "metadata": {},
     "output_type": "execute_result"
    }
   ],
   "source": [
    "# La función de multiplicación en Numpy\n",
    "np.multiply(lista2,2)"
   ]
  },
  {
   "cell_type": "code",
   "execution_count": 52,
   "id": "1d6f1a62-e992-407b-ace1-0c733368a2e4",
   "metadata": {},
   "outputs": [
    {
     "data": {
      "text/plain": [
       "array([ 6,  8, 10, 12, 14, 16, 18, 20])"
      ]
     },
     "execution_count": 52,
     "metadata": {},
     "output_type": "execute_result"
    }
   ],
   "source": [
    "# Multiplicaciones matriciales y entrada a entrada. \n",
    "np.multiply(lista2,2)"
   ]
  },
  {
   "cell_type": "code",
   "execution_count": 53,
   "id": "9eb20b4d-214a-456a-861e-9d5ced720015",
   "metadata": {},
   "outputs": [],
   "source": [
    "lista3 = lista2.reshape(2,4)\n",
    "lista4 = np.array([2,-4,6,-8])"
   ]
  },
  {
   "cell_type": "code",
   "execution_count": 54,
   "id": "e8ac6fd7-59ca-40bd-aa10-ad2bef40b0b9",
   "metadata": {},
   "outputs": [
    {
     "data": {
      "text/plain": [
       "array([[  6, -16,  30, -48],\n",
       "       [ 14, -32,  54, -80]])"
      ]
     },
     "execution_count": 54,
     "metadata": {},
     "output_type": "execute_result"
    }
   ],
   "source": [
    "np.multiply(lista3,lista4)"
   ]
  },
  {
   "cell_type": "markdown",
   "id": "3debd293-cdc6-4e37-9465-58a05d0585f3",
   "metadata": {},
   "source": [
    "Estas son la conocidas funciones universales. \n",
    "https://numpy.org/doc/stable/reference/ufuncs.html"
   ]
  },
  {
   "cell_type": "markdown",
   "id": "dafd027a-1e95-4472-87c2-ff9f7bdc400d",
   "metadata": {},
   "source": [
    "## Indexando, cortando arreglos."
   ]
  },
  {
   "cell_type": "code",
   "execution_count": 55,
   "id": "4fbeb297-07a3-4643-ad99-3ceca68cf006",
   "metadata": {},
   "outputs": [
    {
     "data": {
      "text/plain": [
       "array([[ 554,  606,  710,  851],\n",
       "       [1244,  898,  416, 1763],\n",
       "       [ 841,  655, 1105, 1067]])"
      ]
     },
     "execution_count": 55,
     "metadata": {},
     "output_type": "execute_result"
    }
   ],
   "source": [
    "ventas = np.array([[ 554, 606, 710, 851], [1244, 898, 416, 1763],[ 841, 655, 1105, 1067]])\n",
    "ventas"
   ]
  },
  {
   "cell_type": "markdown",
   "id": "49da7d2e-8931-4cdd-a82a-3f52a1001495",
   "metadata": {},
   "source": [
    "En este caso tenemos un arreglo de 3 por 3 o sea de dimensión 2. Para extraer los datos vamos a buscarlo por los indices de dichas matrices, o sea entradas renglon columna combinado con corchetes pero como python es de indice cero vamos a tomar los valores 0, 1 y 2. Veamos como. "
   ]
  },
  {
   "cell_type": "code",
   "execution_count": 56,
   "id": "cb2d1fc2-d639-4273-a88d-4984c25ddcd8",
   "metadata": {},
   "outputs": [
    {
     "data": {
      "text/plain": [
       "655"
      ]
     },
     "execution_count": 56,
     "metadata": {},
     "output_type": "execute_result"
    }
   ],
   "source": [
    "ventas[2,1]"
   ]
  },
  {
   "cell_type": "markdown",
   "id": "4faf88f1-5a17-4acc-9c1d-aa59a7e6b4d6",
   "metadata": {},
   "source": [
    "Para obtener filas debemos indicar la fila, comenzando en cero por ejemplo"
   ]
  },
  {
   "cell_type": "code",
   "execution_count": 58,
   "id": "39677385-984a-4b60-9742-da36a3b66526",
   "metadata": {},
   "outputs": [
    {
     "data": {
      "text/plain": [
       "array([1244,  898,  416, 1763])"
      ]
     },
     "execution_count": 58,
     "metadata": {},
     "output_type": "execute_result"
    }
   ],
   "source": [
    "ventas[1]"
   ]
  },
  {
   "cell_type": "markdown",
   "id": "ae365e62-2134-4031-89cf-8bc81ded60f7",
   "metadata": {},
   "source": [
    "Tambien como en las listas, Python ignora el extremo derecho."
   ]
  },
  {
   "cell_type": "code",
   "execution_count": 59,
   "id": "85f328da-1358-44f4-9eeb-6bb73c186040",
   "metadata": {},
   "outputs": [
    {
     "data": {
      "text/plain": [
       "array([[1244,  898,  416, 1763],\n",
       "       [ 841,  655, 1105, 1067]])"
      ]
     },
     "execution_count": 59,
     "metadata": {},
     "output_type": "execute_result"
    }
   ],
   "source": [
    "ventas[1:3]"
   ]
  },
  {
   "cell_type": "markdown",
   "id": "daab1974-0ed9-4db0-8648-fd2b60bf6ddb",
   "metadata": {},
   "source": [
    "Dando las filas 1 y 2. Para el caso de las columnas, las buscamos de la manera `[:,#]` `#`el numero de la fila menos uno. Por ejemplo."
   ]
  },
  {
   "cell_type": "code",
   "execution_count": 60,
   "id": "5e49e176-ed49-44f9-8734-2a6d0d635c49",
   "metadata": {},
   "outputs": [
    {
     "data": {
      "text/plain": [
       "array([ 554, 1244,  841])"
      ]
     },
     "execution_count": 60,
     "metadata": {},
     "output_type": "execute_result"
    }
   ],
   "source": [
    "ventas[:,0]"
   ]
  },
  {
   "cell_type": "code",
   "execution_count": 61,
   "id": "6ee5ab66-913d-4f4f-9b33-e9ba66368b13",
   "metadata": {},
   "outputs": [
    {
     "data": {
      "text/plain": [
       "array([[ 606,  710],\n",
       "       [ 898,  416],\n",
       "       [ 655, 1105]])"
      ]
     },
     "execution_count": 61,
     "metadata": {},
     "output_type": "execute_result"
    }
   ],
   "source": [
    "ventas[:,1:3]"
   ]
  },
  {
   "cell_type": "markdown",
   "id": "b36a8716-543a-422d-bfe4-22cc97de7b0f",
   "metadata": {},
   "source": [
    "La primera parte indica que toda la fila con los correspondientes indices de columnas. La segunda es una serie de numeros, mientras que,"
   ]
  },
  {
   "cell_type": "code",
   "execution_count": 63,
   "id": "46e81bdf-e0af-4ac3-a312-689ed2c6819a",
   "metadata": {},
   "outputs": [
    {
     "data": {
      "text/plain": [
       "array([[ 554,  710],\n",
       "       [1244,  416],\n",
       "       [ 841, 1105]])"
      ]
     },
     "execution_count": 63,
     "metadata": {},
     "output_type": "execute_result"
    }
   ],
   "source": [
    "ventas[:,[0,2]]"
   ]
  },
  {
   "cell_type": "markdown",
   "id": "9c854465-c25b-4d7f-abc1-25a5f43411c8",
   "metadata": {},
   "source": [
    "indicamos explicitamente los indices. "
   ]
  },
  {
   "cell_type": "markdown",
   "id": "51a33df2-f6fa-42ef-a2f8-61ac978a0643",
   "metadata": {},
   "source": [
    "Los arreglos de Numpy son de forma `arrays([Elementos])`, estas son llamadas *vistas o views*  que son como copias superficiales. Un método para definirlas es por medio de `view()`."
   ]
  },
  {
   "cell_type": "code",
   "execution_count": 64,
   "id": "b18637f1-bd5f-45fb-b236-2ebf40a0b702",
   "metadata": {},
   "outputs": [],
   "source": [
    "impares = np.arange(3,18,2)"
   ]
  },
  {
   "cell_type": "code",
   "execution_count": 65,
   "id": "71a728bc-adc6-4c50-b8bc-821554400397",
   "metadata": {},
   "outputs": [],
   "source": [
    "impares2=impares.view()"
   ]
  },
  {
   "cell_type": "markdown",
   "id": "f6439982-c269-4b05-940c-165a34c52c10",
   "metadata": {},
   "source": [
    "En python estos son dos listas distintas. Sin emgarbo las modificaciones que se hagan se verá reflejadas en la otra. "
   ]
  },
  {
   "cell_type": "code",
   "execution_count": null,
   "id": "69f2f2cd-9d8e-4114-850c-231531bda780",
   "metadata": {},
   "outputs": [],
   "source": [
    "impares[3]*=10"
   ]
  },
  {
   "cell_type": "code",
   "execution_count": 67,
   "id": "23839115-28c5-4cb7-a0a5-30865ba00442",
   "metadata": {},
   "outputs": [
    {
     "data": {
      "text/plain": [
       "array([ 3,  5,  7,  9, 11, 13, 15, 17])"
      ]
     },
     "execution_count": 67,
     "metadata": {},
     "output_type": "execute_result"
    }
   ],
   "source": [
    "impares2"
   ]
  },
  {
   "cell_type": "markdown",
   "id": "c2c6b92b-c733-4c54-80f9-516fc95c0c52",
   "metadata": {},
   "source": [
    "Son dos listas con los mismos elementos pero Pyton los tiene como cosas distintas. Esto se usa para las *Deep copies*. `copy`gnera una tal cual una copia del arreglo original. Pero ahora no tenemos modificaciones. "
   ]
  },
  {
   "cell_type": "code",
   "execution_count": 68,
   "id": "0589f0e7-3616-4cb0-9738-67356831bae3",
   "metadata": {},
   "outputs": [],
   "source": [
    "impares = np.arange(3,18,2)"
   ]
  },
  {
   "cell_type": "code",
   "execution_count": 69,
   "id": "7fccb429-faa0-425c-ad88-01d4e9174a97",
   "metadata": {},
   "outputs": [],
   "source": [
    "impares2 = impares.copy()"
   ]
  },
  {
   "cell_type": "code",
   "execution_count": 70,
   "id": "78f83740-c68a-4ed8-94c2-b314ef7de342",
   "metadata": {},
   "outputs": [],
   "source": [
    "impares[1]*=100"
   ]
  },
  {
   "cell_type": "code",
   "execution_count": 71,
   "id": "e85e554d-6e02-4389-9c0d-9ef4bd762652",
   "metadata": {},
   "outputs": [
    {
     "data": {
      "text/plain": [
       "array([ 3,  5,  7,  9, 11, 13, 15, 17])"
      ]
     },
     "execution_count": 71,
     "metadata": {},
     "output_type": "execute_result"
    }
   ],
   "source": [
    "impares2"
   ]
  },
  {
   "cell_type": "markdown",
   "id": "43a50fd7-4b28-4bce-9a72-e9db0f29267b",
   "metadata": {},
   "source": [
    "Otros métodos de NumPy para los arreglos son `reshape` y `resize.` El primero es una copia superficial mientras que el segundo es una copia genuina. "
   ]
  },
  {
   "cell_type": "code",
   "execution_count": 72,
   "id": "65931bde-c918-41a5-9eef-44b1ae1cd1e1",
   "metadata": {},
   "outputs": [],
   "source": [
    "ventas = np.array([[ 500, 600, 550, 800], [1200, 800, 400,1000]])"
   ]
  },
  {
   "cell_type": "code",
   "execution_count": 73,
   "id": "99a9030b-f382-4357-99c1-ea0ff9e9762b",
   "metadata": {},
   "outputs": [
    {
     "data": {
      "text/plain": [
       "array([[ 500,  600,  550,  800, 1200,  800,  400, 1000]])"
      ]
     },
     "execution_count": 73,
     "metadata": {},
     "output_type": "execute_result"
    }
   ],
   "source": [
    "ventas.reshape(1,8)"
   ]
  },
  {
   "cell_type": "code",
   "execution_count": 74,
   "id": "345a181d-6629-468b-a70d-7e378a54fb87",
   "metadata": {},
   "outputs": [
    {
     "data": {
      "text/plain": [
       "array([[ 500,  600,  550,  800],\n",
       "       [1200,  800,  400, 1000]])"
      ]
     },
     "execution_count": 74,
     "metadata": {},
     "output_type": "execute_result"
    }
   ],
   "source": [
    "ventas"
   ]
  },
  {
   "cell_type": "code",
   "execution_count": 75,
   "id": "c2615aea-3e16-4539-ba15-9a8171f21320",
   "metadata": {},
   "outputs": [],
   "source": [
    "ventas.resize(1,8)"
   ]
  },
  {
   "cell_type": "code",
   "execution_count": 76,
   "id": "4016ae26-fae3-4ec9-b361-eb3247fdb62f",
   "metadata": {},
   "outputs": [
    {
     "data": {
      "text/plain": [
       "array([[ 500,  600,  550,  800, 1200,  800,  400, 1000]])"
      ]
     },
     "execution_count": 76,
     "metadata": {},
     "output_type": "execute_result"
    }
   ],
   "source": [
    "ventas"
   ]
  },
  {
   "cell_type": "markdown",
   "id": "10b42a99-45b0-4dca-b500-ccd70ed7e711",
   "metadata": {},
   "source": [
    "Para hacer los cambios de dimensionesusamos los métodos `flatten` y `ravel`."
   ]
  },
  {
   "cell_type": "code",
   "execution_count": 78,
   "id": "fbc2412a-ca02-42b5-bf7c-2b67ffe00121",
   "metadata": {},
   "outputs": [],
   "source": [
    "ventas = np.array([[ 500, 600, 550, 800],[1200, 800, 400,1000]])"
   ]
  },
  {
   "cell_type": "code",
   "execution_count": 79,
   "id": "94ba4cc3-56ad-484e-bc3c-72b5c6c0d323",
   "metadata": {},
   "outputs": [],
   "source": [
    "vector_ventas=ventas.flatten()"
   ]
  },
  {
   "cell_type": "code",
   "execution_count": 80,
   "id": "d4cc889a-7575-4e8f-96e6-7d1164fce81a",
   "metadata": {},
   "outputs": [
    {
     "data": {
      "text/plain": [
       "array([[ 500,  600,  550,  800],\n",
       "       [1200,  800,  400, 1000]])"
      ]
     },
     "execution_count": 80,
     "metadata": {},
     "output_type": "execute_result"
    }
   ],
   "source": [
    "ventas"
   ]
  },
  {
   "cell_type": "code",
   "execution_count": 81,
   "id": "fceabebc-ca65-4dad-8738-be380e1ad7e0",
   "metadata": {},
   "outputs": [
    {
     "data": {
      "text/plain": [
       "array([ 500,  600,  550,  800, 1200,  800,  400, 1000])"
      ]
     },
     "execution_count": 81,
     "metadata": {},
     "output_type": "execute_result"
    }
   ],
   "source": [
    "vector_ventas"
   ]
  },
  {
   "cell_type": "markdown",
   "id": "e681efa3-f37b-41ae-a574-04a139b9f7c9",
   "metadata": {},
   "source": [
    "Esta es una copia profunda, una superficial es, "
   ]
  },
  {
   "cell_type": "code",
   "execution_count": 82,
   "id": "1fce17b8-5458-4707-a693-80f6fe416cf8",
   "metadata": {},
   "outputs": [
    {
     "data": {
      "text/plain": [
       "array([[ 500,  600,  550,  800],\n",
       "       [1200,  800,  400, 1000]])"
      ]
     },
     "execution_count": 82,
     "metadata": {},
     "output_type": "execute_result"
    }
   ],
   "source": [
    "ventas"
   ]
  },
  {
   "cell_type": "code",
   "execution_count": 83,
   "id": "5c37b3df-28af-451f-a41a-2e9679b63bf7",
   "metadata": {},
   "outputs": [],
   "source": [
    "reacomodar_ventas = ventas.ravel()"
   ]
  },
  {
   "cell_type": "code",
   "execution_count": 84,
   "id": "34525083-53ff-47e4-8635-2e123755371c",
   "metadata": {},
   "outputs": [],
   "source": [
    "reacomodar_ventas[0] =1000"
   ]
  },
  {
   "cell_type": "code",
   "execution_count": 85,
   "id": "8a700815-b35d-4b6f-9c68-623ee9af40eb",
   "metadata": {},
   "outputs": [
    {
     "data": {
      "text/plain": [
       "array([[1000,  600,  550,  800],\n",
       "       [1200,  800,  400, 1000]])"
      ]
     },
     "execution_count": 85,
     "metadata": {},
     "output_type": "execute_result"
    }
   ],
   "source": [
    "ventas"
   ]
  },
  {
   "cell_type": "markdown",
   "id": "6a8f18f3-de80-464b-af6e-cd3323094b0b",
   "metadata": {},
   "source": [
    "`ventas`y `reacomodar_ventas` comparten información. Para otras operaciones con matrices, como calcular la matriz transpuesta, lo hacemos como, "
   ]
  },
  {
   "cell_type": "code",
   "execution_count": 86,
   "id": "c27984ea-110d-44d9-b012-ba1c55f8665b",
   "metadata": {},
   "outputs": [],
   "source": [
    "ventas = np.array([[ 500, 600, 550, 800],\n",
    "[1200, 800, 400,1000]])"
   ]
  },
  {
   "cell_type": "code",
   "execution_count": 87,
   "id": "04218818-b52e-499c-b961-075f6fd80480",
   "metadata": {},
   "outputs": [
    {
     "data": {
      "text/plain": [
       "array([[ 500, 1200],\n",
       "       [ 600,  800],\n",
       "       [ 550,  400],\n",
       "       [ 800, 1000]])"
      ]
     },
     "execution_count": 87,
     "metadata": {},
     "output_type": "execute_result"
    }
   ],
   "source": [
    "ventas.T"
   ]
  },
  {
   "cell_type": "markdown",
   "id": "2047b7be-a6c2-44a3-bf71-0946bbeea2af",
   "metadata": {},
   "source": [
    "La transpuesta no transforma los datos originales, para guardalos debemos asignalos. Veamos los métodos `vstack`y `hstack`"
   ]
  },
  {
   "cell_type": "code",
   "execution_count": 88,
   "id": "9c3ac349-0a8e-4814-9986-ed2e3eddf1f5",
   "metadata": {},
   "outputs": [],
   "source": [
    "ventas2 = np.array([[1100,1000,950,1100]])"
   ]
  },
  {
   "cell_type": "code",
   "execution_count": 89,
   "id": "11b27a52-7d7e-425f-bab3-110759199445",
   "metadata": {},
   "outputs": [
    {
     "data": {
      "text/plain": [
       "array([[ 500,  600,  550,  800],\n",
       "       [1200,  800,  400, 1000],\n",
       "       [1100, 1000,  950, 1100]])"
      ]
     },
     "execution_count": 89,
     "metadata": {},
     "output_type": "execute_result"
    }
   ],
   "source": [
    "np.vstack((ventas,ventas2))"
   ]
  },
  {
   "cell_type": "code",
   "execution_count": 90,
   "id": "63321bb6-9c60-45ef-b6b6-369aae94dd46",
   "metadata": {},
   "outputs": [],
   "source": [
    "ventas3 = np.array([[1100,900],[800,900]])"
   ]
  },
  {
   "cell_type": "code",
   "execution_count": null,
   "id": "cc72dca4-f717-4c7f-9167-127ea9980a6d",
   "metadata": {},
   "outputs": [
    {
     "data": {
      "text/plain": [
       "array([[ 500,  600,  550,  800, 1100,  900],\n",
       "       [1200,  800,  400, 1000,  800,  900]])"
      ]
     },
     "execution_count": 91,
     "metadata": {},
     "output_type": "execute_result"
    }
   ],
   "source": [
    "np.hstack((ventas,ventas3))"
   ]
  },
  {
   "cell_type": "markdown",
   "id": "ec670aeb-0ff6-4d80-a22a-39c20b423c68",
   "metadata": {},
   "source": [
    "Estas añaden columnas al array original. "
   ]
  },
  {
   "cell_type": "code",
   "execution_count": 6,
   "id": "d73db16b-283b-418d-8a88-01ee4063ff80",
   "metadata": {},
   "outputs": [],
   "source": [
    "import numpy as np\n",
    "import random"
   ]
  },
  {
   "cell_type": "code",
   "execution_count": 8,
   "id": "0da95705-06ef-401b-b393-87875c93928e",
   "metadata": {},
   "outputs": [],
   "source": [
    "# Ejericio:Genera  12 calificaciones aleatorias, reordena en una matriz de 3 por 4. \n",
    "# Calcula el promedio de las calificaciones, luego por columas  y luego por fila\n",
    "calif = np.random.randint(60,1000,12).reshape(3,4)                                "
   ]
  },
  {
   "cell_type": "code",
   "execution_count": 9,
   "id": "b1693752-d2b5-4987-9ae6-9a276455114e",
   "metadata": {},
   "outputs": [
    {
     "data": {
      "text/plain": [
       "574.9166666666666"
      ]
     },
     "execution_count": 9,
     "metadata": {},
     "output_type": "execute_result"
    }
   ],
   "source": [
    "calif.mean()"
   ]
  },
  {
   "cell_type": "code",
   "execution_count": 10,
   "id": "12143bf4-8c78-4375-b438-af0d413e732d",
   "metadata": {},
   "outputs": [
    {
     "data": {
      "text/plain": [
       "array([236.66666667, 740.33333333, 731.66666667, 591.        ])"
      ]
     },
     "execution_count": 10,
     "metadata": {},
     "output_type": "execute_result"
    }
   ],
   "source": [
    "calif.mean(axis = 0)"
   ]
  },
  {
   "cell_type": "code",
   "execution_count": 11,
   "id": "84f26d3d-df40-45be-ab2e-2ade6f615e24",
   "metadata": {},
   "outputs": [
    {
     "data": {
      "text/plain": [
       "array([481.75, 639.5 , 603.5 ])"
      ]
     },
     "execution_count": 11,
     "metadata": {},
     "output_type": "execute_result"
    }
   ],
   "source": [
    "calif.mean(axis = 1)"
   ]
  },
  {
   "cell_type": "markdown",
   "id": "4db86eab-c668-446e-be23-5f922e3b713c",
   "metadata": {},
   "source": [
    "Ejercicio: Crea el arreglo\n",
    "\n",
    "`ventas=np.array ([[ 554, 606, 710, 851],\n",
    " [1244, 898, 416, 1763],\n",
    " [ 841, 655, 1105, 1067]])`\n",
    " \n",
    " - Selecciona el item 2,1\n",
    " - Selecciona el item 1,3\n",
    " - Selecciona la fila 1"
   ]
  },
  {
   "cell_type": "code",
   "execution_count": 12,
   "id": "77bd354c-8a35-4d28-8029-7e8fa6405784",
   "metadata": {},
   "outputs": [],
   "source": [
    "ventas = np.array([[ 554, 606, 710, 851],  [1244, 898, 416, 1763],  [ 841, 655, 1105, 1067]])"
   ]
  },
  {
   "cell_type": "code",
   "execution_count": 13,
   "id": "74db8891-0325-4a95-818c-cf819ea8132a",
   "metadata": {},
   "outputs": [
    {
     "data": {
      "text/plain": [
       "655"
      ]
     },
     "execution_count": 13,
     "metadata": {},
     "output_type": "execute_result"
    }
   ],
   "source": [
    "ventas[2,1]"
   ]
  },
  {
   "cell_type": "code",
   "execution_count": null,
   "id": "b8fa7fc6-7a48-4155-b194-f03468ef5fc1",
   "metadata": {},
   "outputs": [
    {
     "data": {
      "text/plain": [
       "1763"
      ]
     },
     "execution_count": 14,
     "metadata": {},
     "output_type": "execute_result"
    }
   ],
   "source": [
    "ventas[1,3]"
   ]
  },
  {
   "cell_type": "code",
   "execution_count": 17,
   "id": "99ac117b-1423-4412-9ce4-2c10c16d8804",
   "metadata": {},
   "outputs": [
    {
     "data": {
      "text/plain": [
       "array([554, 606, 710, 851])"
      ]
     },
     "execution_count": 17,
     "metadata": {},
     "output_type": "execute_result"
    }
   ],
   "source": [
    "ventas[0,:]"
   ]
  },
  {
   "cell_type": "markdown",
   "id": "46757260-cdf9-48d9-9ca9-1c9c9ebc8860",
   "metadata": {},
   "source": [
    "# Ejercicio Dado el siguiente arreglo\n",
    "\n",
    "array([[1,2,3,4,5],\n",
    "     [6,7,8,9,10],\n",
    "     [11,12,13,14,15]])\n",
    "\n",
    "- Selecciona la segunda fila\n",
    "- Selecciona la primera y tercera fila\n",
    "- Selecciona las tres columnas de enmedio"
   ]
  },
  {
   "cell_type": "code",
   "execution_count": 19,
   "id": "158ba05b-d6ef-4f74-a69a-ebad27b6d62e",
   "metadata": {},
   "outputs": [],
   "source": [
    "datos = np.array([[1,2,3,4,5],\n",
    "     [6,7,8,9,10],\n",
    "     [11,12,13,14,15]])"
   ]
  },
  {
   "cell_type": "code",
   "execution_count": 21,
   "id": "dd15ac69-1fb2-417e-8b74-0fbe071d04f0",
   "metadata": {},
   "outputs": [
    {
     "data": {
      "text/plain": [
       "array([ 6,  7,  8,  9, 10])"
      ]
     },
     "execution_count": 21,
     "metadata": {},
     "output_type": "execute_result"
    }
   ],
   "source": [
    "datos[1]"
   ]
  },
  {
   "cell_type": "code",
   "execution_count": 22,
   "id": "3af5aff4-3ff5-42d1-866d-416ca2423908",
   "metadata": {},
   "outputs": [
    {
     "data": {
      "text/plain": [
       "array([[ 1,  2,  3,  4,  5],\n",
       "       [11, 12, 13, 14, 15]])"
      ]
     },
     "execution_count": 22,
     "metadata": {},
     "output_type": "execute_result"
    }
   ],
   "source": [
    "datos[[0,2],]"
   ]
  },
  {
   "cell_type": "code",
   "execution_count": 23,
   "id": "1993b4c3-3ee7-4e2f-88e1-67622b870090",
   "metadata": {},
   "outputs": [
    {
     "data": {
      "text/plain": [
       "array([[ 2,  3,  4],\n",
       "       [ 7,  8,  9],\n",
       "       [12, 13, 14]])"
      ]
     },
     "execution_count": 23,
     "metadata": {},
     "output_type": "execute_result"
    }
   ],
   "source": [
    "datos[:,1:4]"
   ]
  }
 ],
 "metadata": {
  "kernelspec": {
   "display_name": "Python 3 (ipykernel)",
   "language": "python",
   "name": "python3"
  },
  "language_info": {
   "codemirror_mode": {
    "name": "ipython",
    "version": 3
   },
   "file_extension": ".py",
   "mimetype": "text/x-python",
   "name": "python",
   "nbconvert_exporter": "python",
   "pygments_lexer": "ipython3",
   "version": "3.10.4"
  }
 },
 "nbformat": 4,
 "nbformat_minor": 5
}
