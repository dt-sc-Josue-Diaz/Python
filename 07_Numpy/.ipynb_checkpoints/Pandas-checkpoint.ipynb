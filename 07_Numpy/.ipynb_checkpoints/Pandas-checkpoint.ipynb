{
 "cells": [
  {
   "cell_type": "markdown",
   "id": "4f305aca-7eea-497e-bedf-b58a5c3d5cd1",
   "metadata": {},
   "source": [
    "# Pandas\n",
    "Es de las librerias mas populares en Python para el manejo de Data Frames y Series.  Pandas permite trabajar con datos homogenes por medio de los índices. "
   ]
  },
  {
   "cell_type": "code",
   "execution_count": 1,
   "id": "1e48d5f8-3ab4-4467-8805-0f9b2fdd96c0",
   "metadata": {},
   "outputs": [],
   "source": [
    "# librerias\n",
    "import pandas as pd\n"
   ]
  },
  {
   "cell_type": "code",
   "execution_count": 2,
   "id": "b9cc654a-2898-4527-8990-bbdf922138ff",
   "metadata": {},
   "outputs": [
    {
     "data": {
      "text/plain": [
       "0    160\n",
       "1    256\n",
       "2     98\n",
       "3    108\n",
       "dtype: int64"
      ]
     },
     "execution_count": 2,
     "metadata": {},
     "output_type": "execute_result"
    }
   ],
   "source": [
    "tiempo_web = pd.Series([160,256,98,108])\n",
    "tiempo_web"
   ]
  },
  {
   "cell_type": "code",
   "execution_count": 3,
   "id": "2e07c3a4-2a81-4342-a4a5-acea1b8706c1",
   "metadata": {},
   "outputs": [
    {
     "data": {
      "text/plain": [
       "0    3.1416\n",
       "1    3.1416\n",
       "2    3.1416\n",
       "3    3.1416\n",
       "4    3.1416\n",
       "dtype: float64"
      ]
     },
     "execution_count": 3,
     "metadata": {},
     "output_type": "execute_result"
    }
   ],
   "source": [
    "# Una serie constante\n",
    "pd.Series(3.1416,range(5))"
   ]
  },
  {
   "cell_type": "code",
   "execution_count": 4,
   "id": "f6109f3e-da91-4316-a62c-6b52d2cee902",
   "metadata": {},
   "outputs": [
    {
     "data": {
      "text/plain": [
       "98"
      ]
     },
     "execution_count": 4,
     "metadata": {},
     "output_type": "execute_result"
    }
   ],
   "source": [
    "# Accesar a un índice.\n",
    "tiempo_web[2]"
   ]
  },
  {
   "cell_type": "markdown",
   "id": "ccccc68a-da45-4013-b928-4ad3586a6b62",
   "metadata": {},
   "source": [
    "## Métodos básicos de las series\n",
    "Funciones\n",
    "- count()\n",
    "- mean()\n",
    "- min()\n",
    "- max()\n",
    "- std()\n",
    "Y otra función que da las estadísticas descriptivas.\n",
    "- describe()"
   ]
  },
  {
   "cell_type": "code",
   "execution_count": 5,
   "id": "7d661ee2-662c-471e-b1dc-af3748e0dbf6",
   "metadata": {},
   "outputs": [
    {
     "data": {
      "text/plain": [
       "count      4.000000\n",
       "mean     155.500000\n",
       "std       72.302605\n",
       "min       98.000000\n",
       "25%      105.500000\n",
       "50%      134.000000\n",
       "75%      184.000000\n",
       "max      256.000000\n",
       "dtype: float64"
      ]
     },
     "execution_count": 5,
     "metadata": {},
     "output_type": "execute_result"
    }
   ],
   "source": [
    "tiempo_web.describe()"
   ]
  },
  {
   "cell_type": "code",
   "execution_count": 6,
   "id": "ec8034f5-99b7-439d-87fc-1a74ba1675a5",
   "metadata": {},
   "outputs": [
    {
     "data": {
      "text/plain": [
       "Laura      160\n",
       "Daniel     256\n",
       "Alberto     98\n",
       "Eva        108\n",
       "dtype: int64"
      ]
     },
     "execution_count": 6,
     "metadata": {},
     "output_type": "execute_result"
    }
   ],
   "source": [
    "# Se pueden tener control sobre el nombre de los índices\n",
    "tiempo_web=pd.Series([160,256,98,108], index= ['Laura','Daniel','Alberto','Eva'])\n",
    "tiempo_web"
   ]
  },
  {
   "cell_type": "code",
   "execution_count": 7,
   "id": "43ef3eb4-792b-469c-a299-38b783ccea84",
   "metadata": {},
   "outputs": [
    {
     "data": {
      "text/plain": [
       "Laura      160\n",
       "Daniel     256\n",
       "Alberto     98\n",
       "Eva        108\n",
       "dtype: int64"
      ]
     },
     "execution_count": 7,
     "metadata": {},
     "output_type": "execute_result"
    }
   ],
   "source": [
    "# Con diccionarios\n",
    "tiempo_web = pd.Series({'Laura':160,'Daniel':256, 'Alberto':98,'Eva':108})\n",
    "tiempo_web"
   ]
  },
  {
   "cell_type": "code",
   "execution_count": 8,
   "id": "9fbfcaf4-9504-4b6e-bc04-88fcd37af9f5",
   "metadata": {},
   "outputs": [
    {
     "data": {
      "text/plain": [
       "108"
      ]
     },
     "execution_count": 8,
     "metadata": {},
     "output_type": "execute_result"
    }
   ],
   "source": [
    "# Llamar elemtos mediante corchetes y nombres personalizados\n",
    "tiempo_web['Eva']"
   ]
  },
  {
   "cell_type": "markdown",
   "id": "ce805f8e-d748-4e94-8bd8-b3e8026ea5fc",
   "metadata": {},
   "source": [
    "Cuando los índices son cadenas, Pandas añade los identificadores a los atributos de Series, de\n",
    "manera que es posible llamar a los elementos con la siguiente notación."
   ]
  },
  {
   "cell_type": "code",
   "execution_count": 9,
   "id": "b0330aba-a5d2-4793-a225-77e7435826bf",
   "metadata": {},
   "outputs": [
    {
     "data": {
      "text/plain": [
       "98"
      ]
     },
     "execution_count": 9,
     "metadata": {},
     "output_type": "execute_result"
    }
   ],
   "source": [
    "tiempo_web.Alberto"
   ]
  },
  {
   "cell_type": "markdown",
   "id": "c103a24b-2adf-479f-8100-b76290c25df8",
   "metadata": {},
   "source": [
    "Otros atributos de *Series* son\n",
    "- dato(dtype),\n",
    "- los valores(values) y\n",
    "- los índices(index)"
   ]
  },
  {
   "cell_type": "code",
   "execution_count": 10,
   "id": "e5cc9a83-9821-4df6-aa72-45dd209ff4f7",
   "metadata": {},
   "outputs": [
    {
     "data": {
      "text/plain": [
       "dtype('int64')"
      ]
     },
     "execution_count": 10,
     "metadata": {},
     "output_type": "execute_result"
    }
   ],
   "source": [
    "tiempo_web.dtype"
   ]
  },
  {
   "cell_type": "code",
   "execution_count": 11,
   "id": "6a5a4bb6-e1bc-4ad0-ae82-7df2139f948e",
   "metadata": {},
   "outputs": [
    {
     "data": {
      "text/plain": [
       "array([160, 256,  98, 108], dtype=int64)"
      ]
     },
     "execution_count": 11,
     "metadata": {},
     "output_type": "execute_result"
    }
   ],
   "source": [
    "tiempo_web.values"
   ]
  },
  {
   "cell_type": "code",
   "execution_count": 12,
   "id": "3f50fadc-b90b-4211-a71f-b2eb9c68dcc6",
   "metadata": {},
   "outputs": [
    {
     "data": {
      "text/plain": [
       "Index(['Laura', 'Daniel', 'Alberto', 'Eva'], dtype='object')"
      ]
     },
     "execution_count": 12,
     "metadata": {},
     "output_type": "execute_result"
    }
   ],
   "source": [
    "tiempo_web.index"
   ]
  },
  {
   "cell_type": "markdown",
   "id": "fbd01b7e-f1c5-467c-a824-da8ef4d4e7d0",
   "metadata": {},
   "source": [
    "Si un arreglo tipo *Series*, es una string, puedes utilizar los atributos de la cadena, invocando a los métodos para strings de Python."
   ]
  },
  {
   "cell_type": "code",
   "execution_count": 13,
   "id": "d4f7ee7e-a029-455f-a811-6a9effb3d0cd",
   "metadata": {},
   "outputs": [
    {
     "data": {
      "text/plain": [
       "0          Leche\n",
       "1    Mantequilla\n",
       "2         Harina\n",
       "3         Azúcar\n",
       "dtype: object"
      ]
     },
     "execution_count": 13,
     "metadata": {},
     "output_type": "execute_result"
    }
   ],
   "source": [
    "ingredientes = pd.Series(['Leche','Mantequilla','Harina','Azúcar'])\n",
    "ingredientes"
   ]
  },
  {
   "cell_type": "markdown",
   "id": "ae1f77b4-f15e-49e8-99a3-6664a7972cd7",
   "metadata": {},
   "source": [
    "Para verificar si alguna letra está contenida en alguno de los elementos, el método contain para\n",
    "cadenas puede realizar esta tarea"
   ]
  },
  {
   "cell_type": "code",
   "execution_count": 14,
   "id": "d1820d66-1f3d-4bb5-9693-30c68724e5f3",
   "metadata": {},
   "outputs": [
    {
     "data": {
      "text/plain": [
       "0    False\n",
       "1     True\n",
       "2     True\n",
       "3     True\n",
       "dtype: bool"
      ]
     },
     "execution_count": 14,
     "metadata": {},
     "output_type": "execute_result"
    }
   ],
   "source": [
    "ingredientes.str.contains('a')"
   ]
  },
  {
   "cell_type": "markdown",
   "id": "e9bd16a2-4dac-402d-ba51-9c55b7f3e873",
   "metadata": {},
   "source": [
    "## Dataframes"
   ]
  },
  {
   "cell_type": "markdown",
   "id": "5c8bbc1c-53d2-44e0-9adc-1ef7572aa58d",
   "metadata": {},
   "source": [
    "Un *DataFrame* es un arreglo de bidimensional, cada columna del DataFrame es un arreglo\n",
    "tipo *Series* . Por lo tanto, todos los atributos de Series son aplicables al DataFrame."
   ]
  },
  {
   "cell_type": "code",
   "execution_count": 15,
   "id": "d205689c-b276-4825-b7f2-68fe9708e5c7",
   "metadata": {},
   "outputs": [
    {
     "data": {
      "text/html": [
       "<div>\n",
       "<style scoped>\n",
       "    .dataframe tbody tr th:only-of-type {\n",
       "        vertical-align: middle;\n",
       "    }\n",
       "\n",
       "    .dataframe tbody tr th {\n",
       "        vertical-align: top;\n",
       "    }\n",
       "\n",
       "    .dataframe thead th {\n",
       "        text-align: right;\n",
       "    }\n",
       "</style>\n",
       "<table border=\"1\" class=\"dataframe\">\n",
       "  <thead>\n",
       "    <tr style=\"text-align: right;\">\n",
       "      <th></th>\n",
       "      <th>Vanesa</th>\n",
       "      <th>Kevin</th>\n",
       "      <th>Fernanda</th>\n",
       "      <th>Patricia</th>\n",
       "    </tr>\n",
       "  </thead>\n",
       "  <tbody>\n",
       "    <tr>\n",
       "      <th>0</th>\n",
       "      <td>68</td>\n",
       "      <td>89</td>\n",
       "      <td>59</td>\n",
       "      <td>70</td>\n",
       "    </tr>\n",
       "    <tr>\n",
       "      <th>1</th>\n",
       "      <td>67</td>\n",
       "      <td>89</td>\n",
       "      <td>60</td>\n",
       "      <td>68</td>\n",
       "    </tr>\n",
       "    <tr>\n",
       "      <th>2</th>\n",
       "      <td>66</td>\n",
       "      <td>90</td>\n",
       "      <td>60</td>\n",
       "      <td>67</td>\n",
       "    </tr>\n",
       "    <tr>\n",
       "      <th>3</th>\n",
       "      <td>65</td>\n",
       "      <td>88</td>\n",
       "      <td>62</td>\n",
       "      <td>65</td>\n",
       "    </tr>\n",
       "  </tbody>\n",
       "</table>\n",
       "</div>"
      ],
      "text/plain": [
       "   Vanesa  Kevin  Fernanda  Patricia\n",
       "0      68     89        59        70\n",
       "1      67     89        60        68\n",
       "2      66     90        60        67\n",
       "3      65     88        62        65"
      ]
     },
     "execution_count": 15,
     "metadata": {},
     "output_type": "execute_result"
    }
   ],
   "source": [
    "reg_peso = {'Vanesa':[68,67,66,65],'Kevin':[89,89,90,88],'Fernanda':[59,60,60,62],'Patricia':[70,68,67,65]}\n",
    "peso = pd.DataFrame(reg_peso)\n",
    "peso"
   ]
  },
  {
   "cell_type": "code",
   "execution_count": 16,
   "id": "068cf39d-401c-4371-bc5c-f254d8a8d852",
   "metadata": {},
   "outputs": [
    {
     "data": {
      "text/html": [
       "<div>\n",
       "<style scoped>\n",
       "    .dataframe tbody tr th:only-of-type {\n",
       "        vertical-align: middle;\n",
       "    }\n",
       "\n",
       "    .dataframe tbody tr th {\n",
       "        vertical-align: top;\n",
       "    }\n",
       "\n",
       "    .dataframe thead th {\n",
       "        text-align: right;\n",
       "    }\n",
       "</style>\n",
       "<table border=\"1\" class=\"dataframe\">\n",
       "  <thead>\n",
       "    <tr style=\"text-align: right;\">\n",
       "      <th></th>\n",
       "      <th>Vanesa</th>\n",
       "      <th>Kevin</th>\n",
       "      <th>Fernanda</th>\n",
       "      <th>Patricia</th>\n",
       "    </tr>\n",
       "  </thead>\n",
       "  <tbody>\n",
       "    <tr>\n",
       "      <th>Mes 1</th>\n",
       "      <td>68</td>\n",
       "      <td>89</td>\n",
       "      <td>59</td>\n",
       "      <td>70</td>\n",
       "    </tr>\n",
       "    <tr>\n",
       "      <th>Mes 2</th>\n",
       "      <td>67</td>\n",
       "      <td>89</td>\n",
       "      <td>60</td>\n",
       "      <td>68</td>\n",
       "    </tr>\n",
       "    <tr>\n",
       "      <th>Mes 3</th>\n",
       "      <td>66</td>\n",
       "      <td>90</td>\n",
       "      <td>60</td>\n",
       "      <td>67</td>\n",
       "    </tr>\n",
       "    <tr>\n",
       "      <th>Mes 4</th>\n",
       "      <td>65</td>\n",
       "      <td>88</td>\n",
       "      <td>62</td>\n",
       "      <td>65</td>\n",
       "    </tr>\n",
       "  </tbody>\n",
       "</table>\n",
       "</div>"
      ],
      "text/plain": [
       "       Vanesa  Kevin  Fernanda  Patricia\n",
       "Mes 1      68     89        59        70\n",
       "Mes 2      67     89        60        68\n",
       "Mes 3      66     90        60        67\n",
       "Mes 4      65     88        62        65"
      ]
     },
     "execution_count": 16,
     "metadata": {},
     "output_type": "execute_result"
    }
   ],
   "source": [
    "peso.index = ['Mes 1','Mes 2','Mes 3','Mes 4']\n",
    "peso"
   ]
  },
  {
   "cell_type": "code",
   "execution_count": 17,
   "id": "f722d83c-b037-4de3-8b6c-fc027d1b452b",
   "metadata": {},
   "outputs": [
    {
     "data": {
      "text/plain": [
       "Mes 1    59\n",
       "Mes 2    60\n",
       "Mes 3    60\n",
       "Mes 4    62\n",
       "Name: Fernanda, dtype: int64"
      ]
     },
     "execution_count": 17,
     "metadata": {},
     "output_type": "execute_result"
    }
   ],
   "source": [
    "# Extracción de datos por indices\n",
    "peso['Fernanda']"
   ]
  },
  {
   "cell_type": "code",
   "execution_count": 18,
   "id": "363cba43-df78-4800-9339-2648a3925837",
   "metadata": {},
   "outputs": [
    {
     "data": {
      "text/plain": [
       "Mes 1    70\n",
       "Mes 2    68\n",
       "Mes 3    67\n",
       "Mes 4    65\n",
       "Name: Patricia, dtype: int64"
      ]
     },
     "execution_count": 18,
     "metadata": {},
     "output_type": "execute_result"
    }
   ],
   "source": [
    "# extracción de datos con indice tipo string\n",
    "peso.Patricia"
   ]
  },
  {
   "cell_type": "markdown",
   "id": "ff0413fd-4615-41a7-9c21-9d8136550b0b",
   "metadata": {},
   "source": [
    "Para acceder a una fila se usa `loc`"
   ]
  },
  {
   "cell_type": "code",
   "execution_count": 19,
   "id": "062bc82b-1e6c-4e1b-905b-993938356e34",
   "metadata": {},
   "outputs": [
    {
     "data": {
      "text/plain": [
       "Vanesa      68\n",
       "Kevin       89\n",
       "Fernanda    59\n",
       "Patricia    70\n",
       "Name: Mes 1, dtype: int64"
      ]
     },
     "execution_count": 19,
     "metadata": {},
     "output_type": "execute_result"
    }
   ],
   "source": [
    "peso.loc['Mes 1']"
   ]
  },
  {
   "cell_type": "markdown",
   "id": "c5458a4f-a890-47ca-bef6-a16b63d4dff8",
   "metadata": {},
   "source": [
    "También es posible acceder a las filas por indices a través de índices mediante `iloc`."
   ]
  },
  {
   "cell_type": "code",
   "execution_count": 20,
   "id": "d7aa9fbd-ef44-4a25-ab51-63ad689d4e80",
   "metadata": {},
   "outputs": [
    {
     "data": {
      "text/plain": [
       "Vanesa      67\n",
       "Kevin       89\n",
       "Fernanda    60\n",
       "Patricia    68\n",
       "Name: Mes 2, dtype: int64"
      ]
     },
     "execution_count": 20,
     "metadata": {},
     "output_type": "execute_result"
    }
   ],
   "source": [
    "peso.iloc[1]"
   ]
  },
  {
   "cell_type": "code",
   "execution_count": 21,
   "id": "f84f1a25-a7f5-45c6-84e3-db9b236b2ed5",
   "metadata": {},
   "outputs": [
    {
     "data": {
      "text/html": [
       "<div>\n",
       "<style scoped>\n",
       "    .dataframe tbody tr th:only-of-type {\n",
       "        vertical-align: middle;\n",
       "    }\n",
       "\n",
       "    .dataframe tbody tr th {\n",
       "        vertical-align: top;\n",
       "    }\n",
       "\n",
       "    .dataframe thead th {\n",
       "        text-align: right;\n",
       "    }\n",
       "</style>\n",
       "<table border=\"1\" class=\"dataframe\">\n",
       "  <thead>\n",
       "    <tr style=\"text-align: right;\">\n",
       "      <th></th>\n",
       "      <th>Vanesa</th>\n",
       "      <th>Kevin</th>\n",
       "      <th>Fernanda</th>\n",
       "      <th>Patricia</th>\n",
       "    </tr>\n",
       "  </thead>\n",
       "  <tbody>\n",
       "    <tr>\n",
       "      <th>Mes 1</th>\n",
       "      <td>68</td>\n",
       "      <td>89</td>\n",
       "      <td>59</td>\n",
       "      <td>70</td>\n",
       "    </tr>\n",
       "    <tr>\n",
       "      <th>Mes 2</th>\n",
       "      <td>67</td>\n",
       "      <td>89</td>\n",
       "      <td>60</td>\n",
       "      <td>68</td>\n",
       "    </tr>\n",
       "    <tr>\n",
       "      <th>Mes 3</th>\n",
       "      <td>66</td>\n",
       "      <td>90</td>\n",
       "      <td>60</td>\n",
       "      <td>67</td>\n",
       "    </tr>\n",
       "  </tbody>\n",
       "</table>\n",
       "</div>"
      ],
      "text/plain": [
       "       Vanesa  Kevin  Fernanda  Patricia\n",
       "Mes 1      68     89        59        70\n",
       "Mes 2      67     89        60        68\n",
       "Mes 3      66     90        60        67"
      ]
     },
     "execution_count": 21,
     "metadata": {},
     "output_type": "execute_result"
    }
   ],
   "source": [
    "# parte del arreglo\n",
    "peso.loc['Mes 1':'Mes 3']"
   ]
  },
  {
   "cell_type": "code",
   "execution_count": 22,
   "id": "a6eda64d-7a02-40f5-bdf1-fcd3c2ab2119",
   "metadata": {},
   "outputs": [
    {
     "data": {
      "text/html": [
       "<div>\n",
       "<style scoped>\n",
       "    .dataframe tbody tr th:only-of-type {\n",
       "        vertical-align: middle;\n",
       "    }\n",
       "\n",
       "    .dataframe tbody tr th {\n",
       "        vertical-align: top;\n",
       "    }\n",
       "\n",
       "    .dataframe thead th {\n",
       "        text-align: right;\n",
       "    }\n",
       "</style>\n",
       "<table border=\"1\" class=\"dataframe\">\n",
       "  <thead>\n",
       "    <tr style=\"text-align: right;\">\n",
       "      <th></th>\n",
       "      <th>Vanesa</th>\n",
       "      <th>Kevin</th>\n",
       "      <th>Fernanda</th>\n",
       "      <th>Patricia</th>\n",
       "    </tr>\n",
       "  </thead>\n",
       "  <tbody>\n",
       "    <tr>\n",
       "      <th>Mes 1</th>\n",
       "      <td>68</td>\n",
       "      <td>89</td>\n",
       "      <td>59</td>\n",
       "      <td>70</td>\n",
       "    </tr>\n",
       "    <tr>\n",
       "      <th>Mes 3</th>\n",
       "      <td>66</td>\n",
       "      <td>90</td>\n",
       "      <td>60</td>\n",
       "      <td>67</td>\n",
       "    </tr>\n",
       "  </tbody>\n",
       "</table>\n",
       "</div>"
      ],
      "text/plain": [
       "       Vanesa  Kevin  Fernanda  Patricia\n",
       "Mes 1      68     89        59        70\n",
       "Mes 3      66     90        60        67"
      ]
     },
     "execution_count": 22,
     "metadata": {},
     "output_type": "execute_result"
    }
   ],
   "source": [
    "# Indices especìficos\n",
    "peso.loc[['Mes 1','Mes 3']]"
   ]
  },
  {
   "cell_type": "code",
   "execution_count": 23,
   "id": "38a9afdb-f401-47f7-b6df-c68cef020b22",
   "metadata": {},
   "outputs": [
    {
     "data": {
      "text/html": [
       "<div>\n",
       "<style scoped>\n",
       "    .dataframe tbody tr th:only-of-type {\n",
       "        vertical-align: middle;\n",
       "    }\n",
       "\n",
       "    .dataframe tbody tr th {\n",
       "        vertical-align: top;\n",
       "    }\n",
       "\n",
       "    .dataframe thead th {\n",
       "        text-align: right;\n",
       "    }\n",
       "</style>\n",
       "<table border=\"1\" class=\"dataframe\">\n",
       "  <thead>\n",
       "    <tr style=\"text-align: right;\">\n",
       "      <th></th>\n",
       "      <th>Vanesa</th>\n",
       "      <th>Kevin</th>\n",
       "      <th>Fernanda</th>\n",
       "      <th>Patricia</th>\n",
       "    </tr>\n",
       "  </thead>\n",
       "  <tbody>\n",
       "    <tr>\n",
       "      <th>Mes 1</th>\n",
       "      <td>68</td>\n",
       "      <td>89</td>\n",
       "      <td>59</td>\n",
       "      <td>70</td>\n",
       "    </tr>\n",
       "    <tr>\n",
       "      <th>Mes 3</th>\n",
       "      <td>66</td>\n",
       "      <td>90</td>\n",
       "      <td>60</td>\n",
       "      <td>67</td>\n",
       "    </tr>\n",
       "  </tbody>\n",
       "</table>\n",
       "</div>"
      ],
      "text/plain": [
       "       Vanesa  Kevin  Fernanda  Patricia\n",
       "Mes 1      68     89        59        70\n",
       "Mes 3      66     90        60        67"
      ]
     },
     "execution_count": 23,
     "metadata": {},
     "output_type": "execute_result"
    }
   ],
   "source": [
    "# Indices numericos\n",
    "peso.iloc[[0, 2]]"
   ]
  },
  {
   "cell_type": "code",
   "execution_count": null,
   "id": "0771fa85-ed7b-4252-8682-d433f8ff4136",
   "metadata": {},
   "outputs": [],
   "source": []
  },
  {
   "cell_type": "code",
   "execution_count": null,
   "id": "e8ad116d-804c-415b-8581-d016a8679515",
   "metadata": {},
   "outputs": [],
   "source": []
  },
  {
   "cell_type": "code",
   "execution_count": null,
   "id": "79487346-3dab-4ef9-ab67-4354030cbe76",
   "metadata": {},
   "outputs": [],
   "source": []
  },
  {
   "cell_type": "code",
   "execution_count": null,
   "id": "90b2ffe9-ae0c-492c-8768-6f6f4aa52f5f",
   "metadata": {},
   "outputs": [],
   "source": []
  }
 ],
 "metadata": {
  "kernelspec": {
   "display_name": "Python 3 (ipykernel)",
   "language": "python",
   "name": "python3"
  },
  "language_info": {
   "codemirror_mode": {
    "name": "ipython",
    "version": 3
   },
   "file_extension": ".py",
   "mimetype": "text/x-python",
   "name": "python",
   "nbconvert_exporter": "python",
   "pygments_lexer": "ipython3",
   "version": "3.10.4"
  }
 },
 "nbformat": 4,
 "nbformat_minor": 5
}
