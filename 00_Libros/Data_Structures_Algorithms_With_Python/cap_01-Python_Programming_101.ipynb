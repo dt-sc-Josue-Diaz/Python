{
 "cells": [
  {
   "attachments": {},
   "cell_type": "markdown",
   "id": "51288e62-ccef-4ec9-addb-3880f64edf3e",
   "metadata": {},
   "source": [
    "## Creating Objects\n",
    "In python, data items tha could be thought of as similar are named by a type or class. Type or class are synonymous. "
   ]
  },
  {
   "attachments": {},
   "cell_type": "markdown",
   "id": "b5584649-87df-404a-922b-6cb57888ef54",
   "metadata": {},
   "source": [
    "### 1.2.1 Literal Values\n",
    "- Usea a literal value to create an object. For example a value of certain type."
   ]
  },
  {
   "attachments": {},
   "cell_type": "markdown",
   "id": "5b3298fd-c76d-4e24-be40-f21368de1ba8",
   "metadata": {},
   "source": [
    "### 1.2.2 Non literal object creation\n",
    "- When we reference to an object that is already created. "
   ]
  },
  {
   "attachments": {},
   "cell_type": "markdown",
   "id": "0561d271-d749-440b-b03b-2f7451e340cd",
   "metadata": {},
   "source": [
    "## 1.3 Calling methods on objects\n",
    "- A method is the manipulation of the behavior of a data structure\n",
    "There is two type of these methods. \n",
    "- accesor: Acces to data structure\n",
    "- mutator: Changes the data structure\n",
    "\n"
   ]
  },
  {
   "attachments": {},
   "cell_type": "markdown",
   "id": "4fb82a77-b32f-4231-9339-ddea8a1b8216",
   "metadata": {},
   "source": [
    "## 1.4 Implementing a class\n",
    "- Objects contain data and methods operate on that data\n",
    "- A class is the definition of the data and methods for a specific type of object.\n",
    "\n",
    "The constructor  es a method, and create an instance of an object by placing refrencens to data winthin the object itself. "
   ]
  },
  {
   "attachments": {},
   "cell_type": "markdown",
   "id": "185c0e9c",
   "metadata": {},
   "source": [
    "### 1.4.2 The  Dog  class\n"
   ]
  },
  {
   "cell_type": "code",
   "execution_count": 2,
   "id": "77a04693",
   "metadata": {},
   "outputs": [],
   "source": [
    "class Dog:\n",
    "    def __init__(self, name, month, day, year, speakText):\n",
    "        self.name = name\n",
    "        self.month = month\n",
    "        self.day = day\n",
    "        self.year = year\n",
    "        self.speakText = speakText\n",
    "\n",
    "    def speak(self):\n",
    "        return self.speakText\n",
    "    \n",
    "    def getName(self):\n",
    "        return self.name\n",
    "    \n",
    "    def birthDay(self):\n",
    "        return str(self.month) + \"/\" + str(self.day) + \"/\" + str(self.year)\n",
    "\n",
    "    def changeBark(self,bark):\n",
    "        self.speakText = bark\n"
   ]
  },
  {
   "cell_type": "code",
   "execution_count": 3,
   "id": "d148ce54-1acb-433b-844b-1306830abbad",
   "metadata": {
    "tags": []
   },
   "outputs": [],
   "source": [
    "boyDog = Dog(\"Mesa\", 5, 15, 2004, \"WOOOF\")\n",
    "girlDog = Dog(\"Sequoia\", 5, 6, 2004, \"barkbark\")"
   ]
  }
 ],
 "metadata": {
  "kernelspec": {
   "display_name": "Python 3 (ipykernel)",
   "language": "python",
   "name": "python3"
  },
  "language_info": {
   "codemirror_mode": {
    "name": "ipython",
    "version": 3
   },
   "file_extension": ".py",
   "mimetype": "text/x-python",
   "name": "python",
   "nbconvert_exporter": "python",
   "pygments_lexer": "ipython3",
   "version": "3.10.4"
  }
 },
 "nbformat": 4,
 "nbformat_minor": 5
}
