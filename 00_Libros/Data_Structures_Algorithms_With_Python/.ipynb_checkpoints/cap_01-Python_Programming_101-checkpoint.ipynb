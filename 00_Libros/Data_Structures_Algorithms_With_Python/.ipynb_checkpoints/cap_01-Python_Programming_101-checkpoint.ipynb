{
 "cells": [
  {
   "cell_type": "code",
   "execution_count": null,
   "id": "17cad197-5302-453c-b901-81eae993765e",
   "metadata": {},
   "outputs": [],
   "source": []
  },
  {
   "cell_type": "code",
   "execution_count": null,
   "id": "99890991-3ea1-424c-9571-7e626ee63829",
   "metadata": {},
   "outputs": [],
   "source": []
  },
  {
   "cell_type": "markdown",
   "id": "c4201a35-898b-4725-b5c5-acfc354a2520",
   "metadata": {},
   "source": [
    "## 1.1 Chapter goals\n",
    "What two parts are needed for the accumulator pattern?\n",
    "- When do you need to use the loop and a half pattern for reading from a file?\n",
    "- What is the purpose of a class definition?\n",
    "- What is an object and how do we create one?\n",
    "- What is a mutator method?\n",
    "- What is an accessor method?\n",
    "- What is a widget and how does one use widgets in GUI programming?"
   ]
  },
  {
   "cell_type": "markdown",
   "id": "51288e62-ccef-4ec9-addb-3880f64edf3e",
   "metadata": {},
   "source": [
    "## 1.2 Creating Objects\n",
    "In python, data items tha could be thought of as similar are named by a type or class. Type or class are synonymous. "
   ]
  },
  {
   "cell_type": "markdown",
   "id": "b5584649-87df-404a-922b-6cb57888ef54",
   "metadata": {},
   "source": [
    "### 1.2.1 Literal Values\n",
    "- Usea a literal value to create an object. For example a value of certain type."
   ]
  },
  {
   "cell_type": "markdown",
   "id": "5b3298fd-c76d-4e24-be40-f21368de1ba8",
   "metadata": {},
   "source": [
    "### 1.2.2 Non literal object creation\n",
    "- When we reference to an object that is already created. "
   ]
  },
  {
   "cell_type": "markdown",
   "id": "0561d271-d749-440b-b03b-2f7451e340cd",
   "metadata": {},
   "source": [
    "## 1.3 Calling methods on objects\n",
    "- A method is the manipulation of the behavior of a data structure\n",
    "There is two type of these methods. \n",
    "- accesor: Acces to data structure\n",
    "- mutator: Changes the data structure\n",
    "\n"
   ]
  },
  {
   "cell_type": "markdown",
   "id": "4fb82a77-b32f-4231-9339-ddea8a1b8216",
   "metadata": {},
   "source": [
    "## 1.4 Implementing a class\n",
    "- Objects contain data and methods operate on that data\n",
    "- A class is the definition of the data and methods for a specific type of object.\n",
    "\n",
    "The constructor  es a method, and create an instance of an object by placing refrencens to data winthin the object itself. "
   ]
  },
  {
   "cell_type": "code",
   "execution_count": null,
   "id": "fae888e2-0bfb-4d28-b3d0-9aa296da4874",
   "metadata": {},
   "outputs": [],
   "source": []
  },
  {
   "cell_type": "code",
   "execution_count": 1,
   "id": "d148ce54-1acb-433b-844b-1306830abbad",
   "metadata": {
    "tags": []
   },
   "outputs": [
    {
     "ename": "NameError",
     "evalue": "name 'Dog' is not defined",
     "output_type": "error",
     "traceback": [
      "\u001b[0;31m---------------------------------------------------------------------------\u001b[0m",
      "\u001b[0;31mNameError\u001b[0m                                 Traceback (most recent call last)",
      "Cell \u001b[0;32mIn[1], line 1\u001b[0m\n\u001b[0;32m----> 1\u001b[0m boyDog \u001b[38;5;241m=\u001b[39m \u001b[43mDog\u001b[49m(\u001b[38;5;124m\"\u001b[39m\u001b[38;5;124mMesa\u001b[39m\u001b[38;5;124m\"\u001b[39m, \u001b[38;5;241m5\u001b[39m, \u001b[38;5;241m15\u001b[39m, \u001b[38;5;241m2004\u001b[39m, \u001b[38;5;124m\"\u001b[39m\u001b[38;5;124mWOOOF\u001b[39m\u001b[38;5;124m\"\u001b[39m)\n\u001b[1;32m      2\u001b[0m girlDog \u001b[38;5;241m=\u001b[39m Dog(\u001b[38;5;124m\"\u001b[39m\u001b[38;5;124mSequoia\u001b[39m\u001b[38;5;124m\"\u001b[39m, \u001b[38;5;241m5\u001b[39m, \u001b[38;5;241m6\u001b[39m, \u001b[38;5;241m2004\u001b[39m, \u001b[38;5;124m\"\u001b[39m\u001b[38;5;124mbarkbark\u001b[39m\u001b[38;5;124m\"\u001b[39m)\n",
      "\u001b[0;31mNameError\u001b[0m: name 'Dog' is not defined"
     ]
    }
   ],
   "source": [
    "boyDog = Dog(\"Mesa\", 5, 15, 2004, \"WOOOF\")\n",
    "girlDog = Dog(\"Sequoia\", 5, 6, 2004, \"barkbark\")"
   ]
  },
  {
   "cell_type": "code",
   "execution_count": null,
   "id": "3a791bb7-6b13-423a-9654-b3817faf9c80",
   "metadata": {},
   "outputs": [],
   "source": []
  }
 ],
 "metadata": {
  "kernelspec": {
   "display_name": "Python 3 (ipykernel)",
   "language": "python",
   "name": "python3"
  },
  "language_info": {
   "codemirror_mode": {
    "name": "ipython",
    "version": 3
   },
   "file_extension": ".py",
   "mimetype": "text/x-python",
   "name": "python",
   "nbconvert_exporter": "python",
   "pygments_lexer": "ipython3",
   "version": "3.10.6"
  }
 },
 "nbformat": 4,
 "nbformat_minor": 5
}
