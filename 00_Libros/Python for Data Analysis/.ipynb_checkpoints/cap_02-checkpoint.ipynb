{
 "cells": [
  {
   "attachments": {},
   "cell_type": "markdown",
   "metadata": {},
   "source": [
    "# Capítulo 2: Python language basics, IPython and Jupyter Notebooks\n",
    "\n",
    "As this book is intended as an introductory text in working with data in Python."
   ]
  },
  {
   "attachments": {},
   "cell_type": "markdown",
   "metadata": {},
   "source": [
    "## 2.1 The Python Interpreter\n",
    "The `>>>` you see is the prompt where you’ll type code expressions. To exit the Python\n",
    "interpreter and return to the command prompt, you can either type `exit()` or press\n",
    "`Ctrl-D`."
   ]
  },
  {
   "cell_type": "code",
   "execution_count": 2,
   "metadata": {},
   "outputs": [
    {
     "name": "stdout",
     "output_type": "stream",
     "text": [
      "Hello world\n"
     ]
    }
   ],
   "source": [
    "print('Hello world')"
   ]
  },
  {
   "attachments": {},
   "cell_type": "markdown",
   "metadata": {},
   "source": [
    "## 2.2 IPython Basics\n",
    "The statement creates a variable \n",
    "named data that refers to a newly created Python dictionar. y"
   ]
  },
  {
   "cell_type": "code",
   "execution_count": 2,
   "metadata": {},
   "outputs": [
    {
     "data": {
      "text/plain": [
       "{0: -0.9065825068523875,\n",
       " 1: -1.311871233787153,\n",
       " 2: 0.8305282668222084,\n",
       " 3: 1.3466884651883035,\n",
       " 4: 0.4978829217373776,\n",
       " 5: -0.6014646755252973,\n",
       " 6: 1.3910973509750661}"
      ]
     },
     "execution_count": 2,
     "metadata": {},
     "output_type": "execute_result"
    }
   ],
   "source": [
    "import numpy as np\n",
    "\n",
    "data = {i : np.random.randn() for i in range(7)}\n",
    "data"
   ]
  },
  {
   "cell_type": "markdown",
   "metadata": {},
   "source": [
    "### Running the Jupyter Notebook\n",
    "Jupyter will automatically open up in your default web browser\n",
    "(unless you start it with --no-browser). Otherwise, you can navigate to the HTTP\n",
    "address printed when you started the notebook, here http://localhost:8888/.\n",
    "\n",
    "### Tab Completion\n",
    "Pressing the Tab key will search the namespace for any variables, objects,\n",
    "functions, etc The Tab key will complete anything \n",
    "on your computer’s filesystem  matching what you’ve type. Another area where tab completion saves time is in the completion of function keyword \n",
    "arguments(and including the` `= sign.\n",
    "### Introspection\r\n",
    "Using a question mark`(`) before or after a variable will display some general informatio \r\n",
    "about the obje. Using `??` will also show the function’s source code if possible. A number of characters combined \n",
    "with the wildcard (*) will show all names matching the wildcard expression\n",
    "\n",
    "### The `%run` Command\n",
    "You can execute this by passing the filename to `%run`. The script is run in an empty namespace (with no imports or other variables defined) \n",
    "so that the behavior should be identical to running the program on the command lin \r\n",
    "usin`g python script.`. In the Jupyter notebook, you may also use the related `%load` magic function, which \n",
    "imports a script into a code cel.\n",
    "\n",
    "### Terminal Keyboard Shortcuts\n",
    "Ctrl-P or up-arrow Search backward in command history for commands starting with currently entered text\r\n",
    "Ctrl-N or down-arrow Search forward in command history for commands starting with currently entered text\r\n",
    "Ctrl-R Readline-style reverse history search (partial matching)\r\n",
    "Ctrl-Shift-V Paste text from clipboard\r\n",
    "Ctrl-C Interrupt currently executing code\r\n",
    "Ctrl-A Move cursor to beginning of line\r\n",
    "Ctrl-E Move cursor to end of line\r\n",
    "Ctrl-K Delete text from cursor until end of line\r\n",
    "Ctrl-U Discard all text on current line\r\n",
    "Ctrl-F Move cursor forward one character\r\n",
    "Ctrl-B Move cursor back one character\r\n",
    "Ctrl-L C\n",
    "\n",
    "### About Magic Commands\n",
    "These are designed to facilitate common tasks and enable you to\r\n",
    "easily control the behavior of the IPython system. A magic command is any command\r\n",
    "prefixed by the percent symbol \n",
    "\n",
    "%quickref Display the IPython Quick Reference Card\r\n",
    "%magic Display detailed documentation for all of the available magic commands\r\n",
    "%debug Enter the interactive debugger at the bottom of the last exception traceback\r\n",
    "%hist Print command input (and optionally output) history\r\n",
    "%pdb Automatically enter debugger after any exception\r\n",
    "%paste Execute preformatted Python code from clipboard\r\n",
    "%cpaste Open a special prompt for manually pasting Python code to be executed\r\n",
    "%reset Delete all variables/names defined in interactive namespace\r\n",
    "%page OBJECT Pretty-print the object and display it through a pager\r\n",
    "%run script.py Run a Python script inside IPython\r\n",
    "%prun statement Execute statement with cProfile and report the profiler output\r\n",
    "%time statement Report the execution time of a single statement\r\n",
    "%timeit statement Run a statement multiple times to compute an ensemble average execution time; useful for\r\n",
    "timing code with very short execution time\r\n",
    "%who, %who_ls, %whos Display variables defined in interactive namespace, with varying levels o information/\r\n",
    "verbosity\r\n",
    "%xdel variable Delete a variable and attempt to clear any references to the object in the IPython internals%.lear screen:. .ctd)\n"
   ]
  },
  {
   "cell_type": "code",
   "execution_count": 5,
   "metadata": {},
   "outputs": [
    {
     "data": {
      "text/plain": [
       "'C:\\\\Users\\\\dtscj\\\\OneDrive\\\\Escritorio\\\\Dropbox\\\\Github\\\\Python\\\\00_Libros\\\\Python for Data Analysis'"
      ]
     },
     "execution_count": 5,
     "metadata": {},
     "output_type": "execute_result"
    }
   ],
   "source": [
    "%pwd"
   ]
  },
  {
   "cell_type": "markdown",
   "metadata": {},
   "source": [
    "## 2.3 Python Language Basics\n",
    "Python uses whitespace (tabs or spaces) to structure code instead of using braces, `as to liken it to “executable pseudocode\"`. Using four spaces as your default indentation \n",
    "and replacing tabs with four spaces. Many text editors have a settin \r\n",
    "that will replace tab stops with spaces automatically (do this!).\n"
   ]
  },
  {
   "cell_type": "code",
   "execution_count": null,
   "metadata": {},
   "outputs": [],
   "source": []
  },
  {
   "cell_type": "code",
   "execution_count": null,
   "metadata": {},
   "outputs": [],
   "source": []
  }
 ],
 "metadata": {
  "kernelspec": {
   "display_name": "Python 3 (ipykernel)",
   "language": "python",
   "name": "python3"
  },
  "language_info": {
   "codemirror_mode": {
    "name": "ipython",
    "version": 3
   },
   "file_extension": ".py",
   "mimetype": "text/x-python",
   "name": "python",
   "nbconvert_exporter": "python",
   "pygments_lexer": "ipython3",
   "version": "3.11.3"
  }
 },
 "nbformat": 4,
 "nbformat_minor": 4
}
