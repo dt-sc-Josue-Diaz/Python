{
 "cells": [
  {
   "cell_type": "markdown",
   "id": "59e4485b-2e2b-4d2b-a8c1-5a9013fc6ebd",
   "metadata": {},
   "source": [
    "# Programación orientada a objetos\n",
    "Lo más básico de POO que necesitamos para hacer ciencia de datos. La programción procedural es el conocido codigo espaguetti, se tienen muchas funciones y variables que se cruzan en la realización del código o de su uso que a larga puede perderce en muchas funciones o variables que no se usano. \n",
    "\n",
    "En POO, las varaibles son la propiedades y las funciones métodos. \n",
    "\n",
    "Veamos los pilares de la programación orientada a objetos.\n",
    "    - Encapsulación\n",
    "    - Abstracción Herencia\n",
    "    - Polimorfismo\n",
    "\n",
    "Propiedades son cosas que tiene el objeto, los métodos las cosas que le podemos hacer a los objetos. Nos enfocamos en las propiedades y los métodos que le podemos hacer a los objetos. \n",
    "\n",
    "## Abstracción. \n",
    "\n",
    "\n",
    "## Herencia \n",
    "\n",
    "## Polimorfismo\n",
    "Muchas formas. \n"
   ]
  },
  {
   "cell_type": "markdown",
   "id": "29bb1b63-88d4-4949-9f2d-b78f588d79cc",
   "metadata": {},
   "source": [
    "## Métodos y clases\n",
    "- Un *objeto* pude ser una ente que se pueda describir mediante sus caracteristicas. Por ejemplo un animal puede ser un objeto, desde la raza, color, caracteristicas fisicas, genero y más. A todas ellas les conocemos como *atributos.*\n",
    "\n",
    "- En términos de programación hacemos códigos que funcionen por medio de los atributos de los objetos. \n",
    "\n",
    "- Los atributos se definen dentro de una identación (sangría) al escribirlo fuera, no reconocerá este atributo.\n",
    "\n",
    "- La convención es que al definir una clase de ojeto se debe empezar con mayúsculas.  "
   ]
  },
  {
   "cell_type": "code",
   "execution_count": null,
   "id": "f0fb0a8e-6bdd-4545-92e6-945270f3494c",
   "metadata": {},
   "outputs": [],
   "source": [
    "# Definimos una clase\n",
    "class Mascota:\n",
    "#atributos\n",
    "    tipo='pequeño'\n",
    "    raza='chihuahua'\n",
    "    tarea='guardián'"
   ]
  },
  {
   "cell_type": "markdown",
   "id": "e9dc8040-1cd2-4263-bf8d-62bc5a2a6e08",
   "metadata": {},
   "source": [
    "`class` es una palabra reservada.  Los atributos son las cosas que nos sirven para describir al objeto."
   ]
  },
  {
   "cell_type": "code",
   "execution_count": null,
   "id": "c50945e0-25a5-44c0-a293-f8cbb876ed17",
   "metadata": {},
   "outputs": [],
   "source": [
    "# Vamos a definir a un objeto\n",
    "perro=Mascota()"
   ]
  },
  {
   "cell_type": "code",
   "execution_count": null,
   "id": "ee5d1355-9711-4ee2-8ae8-0ae23492c6f7",
   "metadata": {},
   "outputs": [],
   "source": [
    "print(perro.raza)\n",
    "print(perro.tarea)"
   ]
  },
  {
   "cell_type": "markdown",
   "id": "527712ed-91b5-484e-b2d9-5134765508da",
   "metadata": {},
   "source": [
    "Podemos definir un objeto respecto a una clase e ir definiendo sus atributos a lo largo del programa. Para cambiar un atributo usamos la función `setattr`."
   ]
  },
  {
   "cell_type": "code",
   "execution_count": null,
   "id": "b4084cf9-3891-4f2a-871c-995249601e7e",
   "metadata": {},
   "outputs": [],
   "source": [
    "setattr(perro, 'tarea', 'amigo')\n",
    "print(perro.raza)\n",
    "print(perro.tarea)"
   ]
  },
  {
   "cell_type": "markdown",
   "id": "c0d654e6-252e-4634-98f3-b4a922a05634",
   "metadata": {},
   "source": [
    "la función `delattr` permite eliminar un atributo de una clase. "
   ]
  },
  {
   "cell_type": "code",
   "execution_count": null,
   "id": "71b856ed-997d-44e1-b92e-91122458798c",
   "metadata": {},
   "outputs": [],
   "source": [
    "delattr(perro,'tarea')\n",
    "print(perro.tarea)"
   ]
  },
  {
   "cell_type": "markdown",
   "id": "463b1092-a93c-4e4f-b03c-8fae44aed237",
   "metadata": {},
   "source": [
    "Ejemplo de información básica, edad, experiencia laboral y estado civil. `pass` es para no definir los atributos del objeto."
   ]
  },
  {
   "cell_type": "code",
   "execution_count": null,
   "id": "7660e8bd-87fc-4de3-a9d3-ef9b129a9616",
   "metadata": {},
   "outputs": [],
   "source": [
    "class Registro:\n",
    "    pass"
   ]
  },
  {
   "cell_type": "markdown",
   "id": "f4f5c5c4-67a8-4e9e-bcad-f0a1dfe4a68f",
   "metadata": {},
   "source": [
    "`pass` hace que se salga del ambiente de clase para ser llamada posteriormente. Ahora se crean objetos en la clase Registro."
   ]
  },
  {
   "cell_type": "code",
   "execution_count": null,
   "id": "3ffed273-70d0-43c3-b2a1-5784825adc5b",
   "metadata": {},
   "outputs": [],
   "source": [
    "eva=Registro()\n",
    "laura=Registro()\n",
    "luis=Registro()\n",
    "eva.edad = 30\n",
    "eva.experiencia = 6\n",
    "eva.edo_civ = 'soltera'\n",
    "laura.edad = 32\n",
    "laura.experiencia = 5\n",
    "laura.edo_civ = 'casada'\n",
    "luis.edad = 28\n",
    "luis.experiencia = 1\n",
    "luis.edo_civ = 'soltero'"
   ]
  },
  {
   "cell_type": "markdown",
   "id": "f6c183c3-1e90-4622-b681-063fd04d51cf",
   "metadata": {},
   "source": [
    "con esto, tenemos definidos los atributos de nuestra clase, "
   ]
  },
  {
   "cell_type": "code",
   "execution_count": null,
   "id": "db3b0fce-f223-4fe1-be69-5bb3e5e89624",
   "metadata": {},
   "outputs": [],
   "source": [
    "print(luis.experiencia)\n",
    "print(eva.edo_civ)\n",
    "print(laura.edad)"
   ]
  },
  {
   "cell_type": "markdown",
   "id": "7038e133-37c4-4c56-9c98-642611d0d75e",
   "metadata": {},
   "source": [
    "En este caso tenemos la nomenclatura\n",
    "\n",
    "``` objeto.atributo = 'valor' ```\n",
    "\n",
    "Un método es una función que realizará el objeto y que está definida dentro de una clase. `self` es un parámetro de todos los métodos."
   ]
  },
  {
   "cell_type": "code",
   "execution_count": null,
   "id": "0f1437b9-87b7-4bd4-9299-3a11ba0050d6",
   "metadata": {},
   "outputs": [],
   "source": [
    "# Vamos a definir una función que nos haga un descuento. \n",
    "class Oferta:\n",
    "    def descuento(self):\n",
    "        self.costo=1200\n",
    "        self.desc=0.15"
   ]
  },
  {
   "cell_type": "code",
   "execution_count": null,
   "id": "592537ff-c556-4e3e-b511-d0af8404f3fb",
   "metadata": {},
   "outputs": [],
   "source": []
  },
  {
   "cell_type": "code",
   "execution_count": null,
   "id": "b4f5f5a9-515e-4a23-989a-1995fa30aadf",
   "metadata": {},
   "outputs": [],
   "source": [
    "rebaja=Oferta()\n",
    "rebaja.descuento()"
   ]
  },
  {
   "cell_type": "markdown",
   "id": "198a7a38-ee19-4f0b-8be1-ffc8755b171e",
   "metadata": {},
   "source": [
    "La clase `Oferta` y se va a utilizar el método `descuento`. El método y el objeto. Sin embargo, en el código no se h \n",
    "calculado la rebaja."
   ]
  },
  {
   "cell_type": "code",
   "execution_count": null,
   "id": "e253f130-a167-4ff0-8d81-303777002362",
   "metadata": {},
   "outputs": [],
   "source": [
    "print(rebaja.costo*rebaja.desc)"
   ]
  },
  {
   "cell_type": "markdown",
   "id": "5d4cc8f7-7526-4643-b8b6-bb136447ea9e",
   "metadata": {},
   "source": [
    "Está es una manera hace métodos para obejetos\n",
    "\n",
    "```class Nombre_clase:\n",
    "    def nombre_metodo(self):\n",
    "        self.nombre_variable=valor_o_tarea```\n",
    "        \n",
    "Otra forma alternativa de construir métodos es a través de la función `__init__`."
   ]
  },
  {
   "cell_type": "markdown",
   "id": "698f7f4e-e5e3-45d6-bca7-b6d6215daa94",
   "metadata": {},
   "source": [
    "## La clase cuenta"
   ]
  },
  {
   "cell_type": "code",
   "execution_count": null,
   "id": "4484f72a-f489-4d26-a5da-5294af3c79d7",
   "metadata": {},
   "outputs": [],
   "source": [
    "from decimal import Decimal\n",
    "class Cuenta:\n",
    "    def __init__(self,nombre, ahorro):\n",
    "        if ahorro<Decimal('0.00'):\n",
    "            raise ValueError(\"El caputal inicial deber ser mayor de 0\")\n",
    "        self.nombre = nombre\n",
    "        self.ahorro = ahorro\n",
    "            \n",
    "    def deposito(self,cantidad):\n",
    "        if cantidad<Decimal('0.00'):\n",
    "            raise ValueError(\"La cantidad debe ser positiva\")\n",
    "        self.ahorro+=cantidad"
   ]
  },
  {
   "cell_type": "markdown",
   "id": "aabc1318-7c89-46d1-af62-15ce9d0aed61",
   "metadata": {},
   "source": [
    "Se ha creado la clase y dos métodos, pero no se ha definido ningún objeto. El método `__init__` cambia la forma de inicializar el método. Cuando la clase se aplica a un objeto, es lo que primero se ejecuta."
   ]
  },
  {
   "cell_type": "code",
   "execution_count": null,
   "id": "ccf02056-de6d-4bcd-be32-6b45b79169e6",
   "metadata": {},
   "outputs": [],
   "source": [
    "cuenta1 = Cuenta('Juan',2500)"
   ]
  },
  {
   "cell_type": "code",
   "execution_count": null,
   "id": "880b6353-f6d8-45ed-8102-e43ef1717f3d",
   "metadata": {},
   "outputs": [],
   "source": [
    "print(cuenta1.nombre)"
   ]
  },
  {
   "cell_type": "code",
   "execution_count": null,
   "id": "af31a340-bd0c-46e0-a3b7-1f1dfb011e50",
   "metadata": {},
   "outputs": [],
   "source": [
    "print(cuenta1.ahorro)"
   ]
  },
  {
   "cell_type": "code",
   "execution_count": null,
   "id": "b50d1cd8-bfd4-45e7-a32b-038805fb78eb",
   "metadata": {},
   "outputs": [],
   "source": [
    "cuenta1.deposito(500)"
   ]
  },
  {
   "cell_type": "markdown",
   "id": "9dfafcbf-574f-4f4b-bf27-2e97900a5b31",
   "metadata": {},
   "source": [
    "## Herencia\n",
    "- Cuando tenemos definidas varias clases, pero con una clase inicial que las demás invocan. A esto se le llama `herencia`. A la clase inicial se le llama `padre` y a las otras se les llama `clases hijos`. Una clase definido por sus atributos y sus metódos, los hijos van a tener esa caracteristica de acuerdo a un enfoque particular. \n",
    "\n",
    "- Regresar textos con variables.  '{} {}'.format(self.)"
   ]
  },
  {
   "cell_type": "code",
   "execution_count": null,
   "id": "ce71e59d-3881-40ff-a2b6-3071fdc73cfa",
   "metadata": {},
   "outputs": [],
   "source": [
    "class Personal:\n",
    "    pass\n",
    "    def __init__(self,nombre,profesión,cargo):\n",
    "        self.nombre=nombre\n",
    "        self.profesión=profesión\n",
    "        self.cargo=cargo\n",
    "        \n",
    "    def detalle(self):\n",
    "        return '{} es un {} y tiene el cargo de {}'.format(self.nombre,\n",
    "            self.profesión, self.cargo)"
   ]
  },
  {
   "cell_type": "code",
   "execution_count": null,
   "id": "e6f412a1-7b6f-440d-aff0-22978e94c69f",
   "metadata": {},
   "outputs": [],
   "source": [
    "class pers_nuevo(Personal):\n",
    "    def contratacion(self,contrato):\n",
    "        return '{} tiene contrato: {}'.format(self.nombre,contrato)\n",
    "\n",
    "class pers_advo(Personal):\n",
    "    def contratacion(self,contrato):\n",
    "        return '{} tiene contrato: {}'.format(self.nombre,contrato)"
   ]
  },
  {
   "cell_type": "code",
   "execution_count": null,
   "id": "6c896ef2-78ed-4c4c-82df-e5e6824f8e31",
   "metadata": {},
   "outputs": [],
   "source": [
    "ingeniero=pers_nuevo('Paco','Ingeniero en Sistemas',\"Supervisión\")\n",
    "print(ingeniero.detalle())"
   ]
  },
  {
   "cell_type": "code",
   "execution_count": null,
   "id": "32447398-ea82-4166-8b9d-64629569fb12",
   "metadata": {},
   "outputs": [],
   "source": [
    "print(ingeniero.contratacion('Temporal'))"
   ]
  },
  {
   "cell_type": "markdown",
   "id": "cec0a2b9-22be-4b22-8c4b-dd6604d7bf50",
   "metadata": {},
   "source": [
    "Clases que van heredar propiedades. Constructores en Python. La herencia funcioa, definiendo una clase maestra y de ella se definen subclases, teniendo esos atributos. "
   ]
  },
  {
   "cell_type": "markdown",
   "id": "5f49eaae-4b67-4c32-a5d9-f252d2b2fea6",
   "metadata": {},
   "source": [
    "Vamos a modificar un poco la clase `Cuenta`. Ahora vamos hablar de capital. "
   ]
  },
  {
   "cell_type": "code",
   "execution_count": 37,
   "id": "3e6ca54f-67e4-430a-8118-34c07b5b10bb",
   "metadata": {},
   "outputs": [],
   "source": [
    "from decimal import Decimal\n",
    "\n",
    "class Cuenta:\n",
    "    def __init__(self,nombre,capital):\n",
    "        if capital<Decimal('0.00'):\n",
    "            raise ValueError('El capital inicial debe ser >=$0.00') \n",
    "        self.nombre = nombre\n",
    "        self.capital = capital\n",
    "    def informacion(self):\n",
    "        return '{} tiene en su cuenta ${}'.format(self.nombre,self.capital)"
   ]
  },
  {
   "cell_type": "markdown",
   "id": "1b02d397-a10f-4e70-84fb-8295f2d0cde1",
   "metadata": {},
   "source": [
    "Vamos a definir los hijos de esta clase padre"
   ]
  },
  {
   "cell_type": "code",
   "execution_count": 38,
   "id": "a283cd10-c3ab-4835-b3c3-79a3b884cf36",
   "metadata": {},
   "outputs": [],
   "source": [
    "class Ahorro(Cuenta):\n",
    "    def cantidad(self,deposito):\n",
    "        if deposito < Decimal('0.00'):\n",
    "            raise ValueError('La cantidad a depositar debe ser positiva')\n",
    "        self.capital += deposito\n",
    "        return '{} tiene ahora en su cuenta {}'.format(self.nombre,self.capital)"
   ]
  },
  {
   "cell_type": "markdown",
   "id": "824eaf74-0b3f-42fe-94df-fb2ee2e285d4",
   "metadata": {},
   "source": [
    "Donde se tiene el cuidado de no hacer despositos negativos. "
   ]
  },
  {
   "cell_type": "code",
   "execution_count": 42,
   "id": "3cf2c7f0-10b1-48dd-b3ad-ea8ea4f1a07c",
   "metadata": {},
   "outputs": [],
   "source": [
    "class Gasto(Cuenta):\n",
    "    \n",
    "    def cantidad(self,retiro):\n",
    "        if retiro < Decimal('0.00'):\n",
    "            raise ValueError('La cantidad a retirar debe ser positiva') \n",
    "       # if retiro > capital:\n",
    "        #    raise ValueError('No tiene fondos suficientes')\n",
    "        self.capital-=retiro\n",
    "        return '{} tiene ahora en su cuenta {}'.format(self.nombre, self.capital)"
   ]
  },
  {
   "cell_type": "markdown",
   "id": "ca60a80d-7ca2-46fd-b98d-60cf105f119a",
   "metadata": {},
   "source": [
    "Tenemos las clases definidas pero no tenemos ninngun objeto aún. "
   ]
  },
  {
   "cell_type": "code",
   "execution_count": 13,
   "id": "358500d4-931e-444d-9cf7-9f52748dce5b",
   "metadata": {},
   "outputs": [],
   "source": [
    "cuenta1 = Ahorro('Juan',2000)"
   ]
  },
  {
   "cell_type": "code",
   "execution_count": 15,
   "id": "972f3e88-24a5-4fc3-a1c8-e442cf2d7111",
   "metadata": {},
   "outputs": [
    {
     "name": "stdout",
     "output_type": "stream",
     "text": [
      "Juan tiene en su cuenta $2000\n"
     ]
    }
   ],
   "source": [
    "print(cuenta1.informacion())"
   ]
  },
  {
   "cell_type": "code",
   "execution_count": 26,
   "id": "a7b983fd-d35e-46a1-86dd-04890c795def",
   "metadata": {},
   "outputs": [
    {
     "data": {
      "text/plain": [
       "'Juan tiene ahora en su cuenta 18500'"
      ]
     },
     "execution_count": 26,
     "metadata": {},
     "output_type": "execute_result"
    }
   ],
   "source": [
    "cuenta1.cantidad(1500)"
   ]
  },
  {
   "cell_type": "code",
   "execution_count": 43,
   "id": "d01ee439-1f63-4bc9-80fc-0fa6910485da",
   "metadata": {},
   "outputs": [
    {
     "name": "stdout",
     "output_type": "stream",
     "text": [
      "Paco tiene en su cuenta $5000\n"
     ]
    }
   ],
   "source": [
    "cuenta2=Gasto('Paco',5000)\n",
    "print(cuenta2.informacion())"
   ]
  },
  {
   "cell_type": "code",
   "execution_count": 78,
   "id": "6880503f-be45-43f9-89bc-8a3fdf709cef",
   "metadata": {},
   "outputs": [
    {
     "data": {
      "text/plain": [
       "'Paco tiene ahora en su cuenta -6650.0'"
      ]
     },
     "execution_count": 78,
     "metadata": {},
     "output_type": "execute_result"
    }
   ],
   "source": [
    "cuenta2.cantidad(500.0)"
   ]
  },
  {
   "cell_type": "markdown",
   "id": "2107a2a9-8a3a-4c63-950e-520c0bc67862",
   "metadata": {},
   "source": [
    "### Métodos de clase\n",
    "El método `@classmethod` no es necesario crear el objeto. "
   ]
  },
  {
   "cell_type": "code",
   "execution_count": 81,
   "id": "6f07b512-874a-4792-ba96-89edf370647a",
   "metadata": {},
   "outputs": [
    {
     "ename": "SyntaxError",
     "evalue": "invalid syntax (4236990705.py, line 3)",
     "output_type": "error",
     "traceback": [
      "\u001b[1;36m  Input \u001b[1;32mIn [81]\u001b[1;36m\u001b[0m\n\u001b[1;33m    self.tipo=tipo def __repr__(self):\u001b[0m\n\u001b[1;37m                   ^\u001b[0m\n\u001b[1;31mSyntaxError\u001b[0m\u001b[1;31m:\u001b[0m invalid syntax\n"
     ]
    }
   ],
   "source": [
    "class Emergencia:\n",
    "    def __init__(self,tipo):\n",
    "        self.tipo=tipo def __repr__(self):\n",
    "        return f'Emergencia({self.tipo !r})'\n",
    "        @classmethod\n",
    "        def Colombia(cls):\n",
    "            return cls(['Accidente','Policía','Marque 123'])\n",
    "        @classmethod\n",
    "        def Salvador(cls):\n",
    "            return cls(['Accidente','Policía','Marque 911'])\n",
    "        @classmethod\n",
    "        def Paraguay(cls):\n",
    "            return cls (['Bomberos', 'Policía', 'Marque 131'])\n",
    "    "
   ]
  },
  {
   "cell_type": "code",
   "execution_count": null,
   "id": "ecd0a9de-4886-4441-bf7b-7229b38bedfc",
   "metadata": {},
   "outputs": [],
   "source": [
    "print(Emergencia.Paraguay())\n",
    "Emergencia(['Bomberos', 'Policía', 'Marque 131'])"
   ]
  },
  {
   "cell_type": "code",
   "execution_count": null,
   "id": "ca950adc-3e27-4fa5-b8af-885bb1c1eda6",
   "metadata": {},
   "outputs": [],
   "source": []
  },
  {
   "cell_type": "markdown",
   "id": "0204e870-745c-4cb0-93f3-48d98ddb19b9",
   "metadata": {},
   "source": [
    "## Polimorfismo\n",
    "Objetos en diferentes clases pero tiene un mismo atributo con el mismo nombre. Cada uno a su manera. Dos funciones que se llaman igual en objetos diferentes. "
   ]
  },
  {
   "cell_type": "code",
   "execution_count": null,
   "id": "f981602b-9b03-4b15-beaf-41b0128a2c1a",
   "metadata": {},
   "outputs": [],
   "source": []
  },
  {
   "cell_type": "markdown",
   "id": "b89bc637-8142-4dd2-8806-086151876616",
   "metadata": {},
   "source": [
    "## Modelo de regresión lineal.\n",
    "Con Stats. La relación entre grados Ferenheit y Celcius Importante para el aprendizaje maquina. "
   ]
  },
  {
   "cell_type": "code",
   "execution_count": null,
   "id": "26fa68c1-97ee-425c-b630-e20f3c7b6712",
   "metadata": {},
   "outputs": [],
   "source": []
  },
  {
   "cell_type": "code",
   "execution_count": null,
   "id": "820b64fc-30ae-4c2e-89cc-4c1f4ff36440",
   "metadata": {},
   "outputs": [],
   "source": []
  }
 ],
 "metadata": {
  "kernelspec": {
   "display_name": "Python 3 (ipykernel)",
   "language": "python",
   "name": "python3"
  },
  "language_info": {
   "codemirror_mode": {
    "name": "ipython",
    "version": 3
   },
   "file_extension": ".py",
   "mimetype": "text/x-python",
   "name": "python",
   "nbconvert_exporter": "python",
   "pygments_lexer": "ipython3",
   "version": "3.10.4"
  }
 },
 "nbformat": 4,
 "nbformat_minor": 5
}
