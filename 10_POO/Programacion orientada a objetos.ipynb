{
 "cells": [
  {
   "cell_type": "markdown",
   "id": "59e4485b-2e2b-4d2b-a8c1-5a9013fc6ebd",
   "metadata": {},
   "source": [
    "# Programación orientada a objetos\n",
    "Lo más básico de POO que necesitamos saber para hacer ciencia de datos. Programción procedural es el conocido codigo espaguetti. es decir se tienen muchas funciones y variables que se cruzan en la realización del codigo o de su uso. Que a larga puede perderce en mucho codigo. \n",
    "\n",
    "En POO, las varaibles son la propiedades y las funciones métodos. \n",
    "\n",
    "Veamos los pilares de la programación orientada a objetos.\n",
    "    - Encapsulación\n",
    "    - Abstracción Herencia\n",
    "    - Polimorfismo\n",
    "\n",
    "Propiedades son cosas que tiene el objeto, los métodos las cosas que le podemos hacer a los objetos. Nos enfocamos en las propiedades y los métodos que le podemos hacer a los objetos. \n",
    "\n",
    "## Abstracción. \n",
    "\n",
    "\n",
    "## Herencia \n",
    "\n",
    "## Polimorfismo\n",
    "Muchas formas. \n"
   ]
  },
  {
   "cell_type": "markdown",
   "id": "29bb1b63-88d4-4949-9f2d-b78f588d79cc",
   "metadata": {},
   "source": [
    "## Métodos y clases\n",
    "`class` es una palabra reservada.  \n",
    "`pass` es para no definir los atributos del objeto\n",
    "\n",
    "Podemos definir un objeto respecto a una clase e ir definiendo sus atributos a lo largo del programa. "
   ]
  },
  {
   "cell_type": "code",
   "execution_count": 7,
   "id": "ba0268df-58c3-4274-a00f-22ffdf2e6109",
   "metadata": {},
   "outputs": [],
   "source": [
    "from decimal import Decimal"
   ]
  },
  {
   "cell_type": "code",
   "execution_count": null,
   "id": "c560c528-07ff-46cc-85d9-88b62a792326",
   "metadata": {},
   "outputs": [],
   "source": []
  },
  {
   "cell_type": "code",
   "execution_count": 18,
   "id": "4484f72a-f489-4d26-a5da-5294af3c79d7",
   "metadata": {},
   "outputs": [],
   "source": [
    "class Cuenta:\n",
    "    def __init__(self,nombre, ahorro):\n",
    "        if ahorro<Decimal('0.00'):\n",
    "            raise ValueError(\"El caputal inicial deber ser mayor de 0\")\n",
    "        self.nombre = nombre\n",
    "        self.ahorro = ahorro\n",
    "            \n",
    "    def deposito(self,cantidad):\n",
    "        if cantidad<Decimal('0.00'):\n",
    "            raise ValueError(\"La cantidad debe ser positiva\")\n",
    "        self.ahorro+=cantidad"
   ]
  },
  {
   "cell_type": "code",
   "execution_count": null,
   "id": "53343c18-71d2-4411-bfa7-9b0dd16f5cfc",
   "metadata": {},
   "outputs": [],
   "source": []
  },
  {
   "cell_type": "code",
   "execution_count": null,
   "id": "dea4f75a-dc76-4376-85d0-93ca94210a3b",
   "metadata": {},
   "outputs": [],
   "source": []
  },
  {
   "cell_type": "code",
   "execution_count": 19,
   "id": "ccf02056-de6d-4bcd-be32-6b45b79169e6",
   "metadata": {},
   "outputs": [],
   "source": [
    "cuenta1 = Cuenta('Juan',2500)"
   ]
  },
  {
   "cell_type": "code",
   "execution_count": 20,
   "id": "880b6353-f6d8-45ed-8102-e43ef1717f3d",
   "metadata": {},
   "outputs": [
    {
     "name": "stdout",
     "output_type": "stream",
     "text": [
      "Juan\n"
     ]
    }
   ],
   "source": [
    "print(cuenta1.nombre)"
   ]
  },
  {
   "cell_type": "code",
   "execution_count": 23,
   "id": "af31a340-bd0c-46e0-a3b7-1f1dfb011e50",
   "metadata": {},
   "outputs": [
    {
     "name": "stdout",
     "output_type": "stream",
     "text": [
      "3000\n"
     ]
    }
   ],
   "source": [
    "print(cuenta1.ahorro)"
   ]
  },
  {
   "cell_type": "code",
   "execution_count": 22,
   "id": "b50d1cd8-bfd4-45e7-a32b-038805fb78eb",
   "metadata": {},
   "outputs": [],
   "source": [
    "cuenta1.deposito(500)"
   ]
  }
 ],
 "metadata": {
  "kernelspec": {
   "display_name": "Python 3 (ipykernel)",
   "language": "python",
   "name": "python3"
  },
  "language_info": {
   "codemirror_mode": {
    "name": "ipython",
    "version": 3
   },
   "file_extension": ".py",
   "mimetype": "text/x-python",
   "name": "python",
   "nbconvert_exporter": "python",
   "pygments_lexer": "ipython3",
   "version": "3.10.4"
  }
 },
 "nbformat": 4,
 "nbformat_minor": 5
}
